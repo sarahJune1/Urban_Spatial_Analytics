{
 "cells": [
  {
   "cell_type": "code",
   "execution_count": 1,
   "metadata": {},
   "outputs": [],
   "source": [
    "import pandas as pd\n",
    "import numpy as np\n",
    "import matplotlib.pyplot as plt\n",
    "%matplotlib inline"
   ]
  },
  {
   "cell_type": "code",
   "execution_count": 2,
   "metadata": {},
   "outputs": [],
   "source": [
    "acs = pd.read_csv('ACS16_NYC.csv')"
   ]
  },
  {
   "cell_type": "code",
   "execution_count": 3,
   "metadata": {},
   "outputs": [
    {
     "data": {
      "text/plain": [
       "(2120, 7)"
      ]
     },
     "execution_count": 3,
     "metadata": {},
     "output_type": "execute_result"
    }
   ],
   "source": [
    "acs.shape"
   ]
  },
  {
   "cell_type": "code",
   "execution_count": 4,
   "metadata": {
    "scrolled": true
   },
   "outputs": [
    {
     "data": {
      "text/html": [
       "<div>\n",
       "<style scoped>\n",
       "    .dataframe tbody tr th:only-of-type {\n",
       "        vertical-align: middle;\n",
       "    }\n",
       "\n",
       "    .dataframe tbody tr th {\n",
       "        vertical-align: top;\n",
       "    }\n",
       "\n",
       "    .dataframe thead th {\n",
       "        text-align: right;\n",
       "    }\n",
       "</style>\n",
       "<table border=\"1\" class=\"dataframe\">\n",
       "  <thead>\n",
       "    <tr style=\"text-align: right;\">\n",
       "      <th></th>\n",
       "      <th>Unnamed: 0</th>\n",
       "      <th>census_tract</th>\n",
       "      <th>total_population</th>\n",
       "      <th>median_age</th>\n",
       "      <th>total_population_25yrsandover</th>\n",
       "      <th>total_bachelors_degree</th>\n",
       "      <th>median_income</th>\n",
       "    </tr>\n",
       "  </thead>\n",
       "  <tbody>\n",
       "    <tr>\n",
       "      <th>0</th>\n",
       "      <td>0</td>\n",
       "      <td>Bronx_1</td>\n",
       "      <td>7503.0</td>\n",
       "      <td>32.1</td>\n",
       "      <td>303.0</td>\n",
       "      <td>0.7</td>\n",
       "      <td>10778.0</td>\n",
       "    </tr>\n",
       "    <tr>\n",
       "      <th>1</th>\n",
       "      <td>1</td>\n",
       "      <td>Bronx_2</td>\n",
       "      <td>5251.0</td>\n",
       "      <td>38.6</td>\n",
       "      <td>449.0</td>\n",
       "      <td>11.8</td>\n",
       "      <td>30760.0</td>\n",
       "    </tr>\n",
       "    <tr>\n",
       "      <th>2</th>\n",
       "      <td>2</td>\n",
       "      <td>Bronx_4</td>\n",
       "      <td>5980.0</td>\n",
       "      <td>39.4</td>\n",
       "      <td>300.0</td>\n",
       "      <td>14.3</td>\n",
       "      <td>32371.0</td>\n",
       "    </tr>\n",
       "    <tr>\n",
       "      <th>3</th>\n",
       "      <td>3</td>\n",
       "      <td>Bronx_16</td>\n",
       "      <td>6056.0</td>\n",
       "      <td>36.9</td>\n",
       "      <td>325.0</td>\n",
       "      <td>5.8</td>\n",
       "      <td>17848.0</td>\n",
       "    </tr>\n",
       "    <tr>\n",
       "      <th>4</th>\n",
       "      <td>4</td>\n",
       "      <td>Bronx_19</td>\n",
       "      <td>2682.0</td>\n",
       "      <td>32.5</td>\n",
       "      <td>227.0</td>\n",
       "      <td>13.7</td>\n",
       "      <td>21788.0</td>\n",
       "    </tr>\n",
       "  </tbody>\n",
       "</table>\n",
       "</div>"
      ],
      "text/plain": [
       "   Unnamed: 0 census_tract  total_population  median_age  \\\n",
       "0           0      Bronx_1            7503.0        32.1   \n",
       "1           1      Bronx_2            5251.0        38.6   \n",
       "2           2      Bronx_4            5980.0        39.4   \n",
       "3           3     Bronx_16            6056.0        36.9   \n",
       "4           4     Bronx_19            2682.0        32.5   \n",
       "\n",
       "   total_population_25yrsandover  total_bachelors_degree  median_income  \n",
       "0                          303.0                     0.7        10778.0  \n",
       "1                          449.0                    11.8        30760.0  \n",
       "2                          300.0                    14.3        32371.0  \n",
       "3                          325.0                     5.8        17848.0  \n",
       "4                          227.0                    13.7        21788.0  "
      ]
     },
     "execution_count": 4,
     "metadata": {},
     "output_type": "execute_result"
    }
   ],
   "source": [
    "acs.head()"
   ]
  },
  {
   "cell_type": "code",
   "execution_count": 5,
   "metadata": {},
   "outputs": [],
   "source": [
    "from sklearn.cluster import KMeans\n",
    "from sklearn.preprocessing import StandardScaler\n",
    "from sklearn.metrics import silhouette_score"
   ]
  },
  {
   "cell_type": "code",
   "execution_count": 6,
   "metadata": {},
   "outputs": [],
   "source": [
    "X = acs[['median_age', 'median_income', 'total_bachelors_degree', 'total_population']]"
   ]
  },
  {
   "cell_type": "markdown",
   "metadata": {},
   "source": [
    "## Standard Scale"
   ]
  },
  {
   "cell_type": "code",
   "execution_count": 7,
   "metadata": {},
   "outputs": [],
   "source": [
    "scaler = StandardScaler()\n",
    "scaler.fit(X)\n",
    "X_std = scaler.transform(X)"
   ]
  },
  {
   "cell_type": "markdown",
   "metadata": {},
   "source": [
    "## Cluster Analysis (K-Means)"
   ]
  },
  {
   "cell_type": "markdown",
   "metadata": {},
   "source": [
    "### Find value of K"
   ]
  },
  {
   "cell_type": "code",
   "execution_count": 8,
   "metadata": {},
   "outputs": [
    {
     "name": "stdout",
     "output_type": "stream",
     "text": [
      "At 2 clusters, inertia is 5942.45085949374\n",
      "At 3 clusters, inertia is 4550.663195417618\n",
      "At 4 clusters, inertia is 3885.061436453046\n",
      "At 5 clusters, inertia is 3439.232864013956\n",
      "At 6 clusters, inertia is 3103.211061585675\n",
      "At 7 clusters, inertia is 2894.462456620468\n",
      "At 8 clusters, inertia is 2699.9060804700357\n",
      "At 9 clusters, inertia is 2528.533411232905\n"
     ]
    },
    {
     "data": {
      "text/plain": [
       "<matplotlib.text.Text at 0x7f3cdb712048>"
      ]
     },
     "execution_count": 8,
     "metadata": {},
     "output_type": "execute_result"
    },
    {
     "data": {
      "image/png": "[encoded data removed]",
      "text/plain": [
       "<matplotlib.figure.Figure at 0x7f3cdb846198>"
      ]
     },
     "metadata": {
      "needs_background": "light"
     },
     "output_type": "display_data"
    }
   ],
   "source": [
    "np.random.seed(42)\n",
    "s = np.zeros(8)\n",
    "for k in range(0, 8):\n",
    "    est = KMeans(n_clusters = k+2, n_init = 100)\n",
    "    est.fit(X_std)\n",
    "    s[k] = est.inertia_\n",
    "    print('At {0} clusters, inertia is {1}'.format(k+2, s[k]))\n",
    "    \n",
    "plt.figure(figsize=(8, 6))\n",
    "plt.plot(range(2, 10), s,'-')\n",
    "plt.xlabel('k', fontsize = 16)\n",
    "plt.ylabel('Inertia', fontsize = 16)\n",
    "plt.title('Inertia Plot', fontsize = 20)"
   ]
  },
  {
   "cell_type": "markdown",
   "metadata": {},
   "source": [
    "## K=4 is optimal\n",
    "K=4 is at the elbow of the score graph"
   ]
  },
  {
   "cell_type": "code",
   "execution_count": 9,
   "metadata": {},
   "outputs": [
    {
     "data": {
      "text/plain": [
       "KMeans(algorithm='auto', copy_x=True, init='k-means++', max_iter=300,\n",
       "    n_clusters=4, n_init=100, n_jobs=None, precompute_distances='auto',\n",
       "    random_state=None, tol=0.0001, verbose=0)"
      ]
     },
     "execution_count": 9,
     "metadata": {},
     "output_type": "execute_result"
    }
   ],
   "source": [
    "cluster = KMeans(n_clusters = 4, n_init=100)\n",
    "cluster.fit(X_std)"
   ]
  },
  {
   "cell_type": "code",
   "execution_count": 10,
   "metadata": {},
   "outputs": [],
   "source": [
    "acs['clusterLabels'] = cluster.labels_"
   ]
  },
  {
   "cell_type": "code",
   "execution_count": 11,
   "metadata": {},
   "outputs": [
    {
     "data": {
      "text/plain": [
       "1    780\n",
       "0    772\n",
       "3    305\n",
       "2    263\n",
       "Name: clusterLabels, dtype: int64"
      ]
     },
     "execution_count": 11,
     "metadata": {},
     "output_type": "execute_result"
    }
   ],
   "source": [
    "acs.clusterLabels.value_counts()"
   ]
  },
  {
   "cell_type": "markdown",
   "metadata": {},
   "source": [
    "## Investigate clusters' statistics"
   ]
  },
  {
   "cell_type": "code",
   "execution_count": 12,
   "metadata": {},
   "outputs": [
    {
     "name": "stdout",
     "output_type": "stream",
     "text": [
      "Group 0:\n",
      "    Group Size: 772\n",
      "    Population: 2937.29\n",
      "    Median Age: 41.8\n",
      "    Median Income: 33317.4\n",
      "    Percent with Bachelors Degree: 21.92\n",
      "Group 1:\n",
      "    Group Size: 780\n",
      "    Population: 3486.4\n",
      "    Median Age: 32.14\n",
      "    Median Income: 22461.99\n",
      "    Percent with Bachelors Degree: 13.6\n",
      "Group 2:\n",
      "    Group Size: 263\n",
      "    Population: 4611.42\n",
      "    Median Age: 37.32\n",
      "    Median Income: 68206.94\n",
      "    Percent with Bachelors Degree: 39.54\n",
      "Group 3:\n",
      "    Group Size: 305\n",
      "    Population: 7416.63\n",
      "    Median Age: 35.73\n",
      "    Median Income: 24814.2\n",
      "    Percent with Bachelors Degree: 16.27\n"
     ]
    }
   ],
   "source": [
    "for i in range(0,4):\n",
    "    group = acs[acs['clusterLabels'] == i]\n",
    "    print('Group ' + str(i) + ':')\n",
    "    print('    Group Size: ' + str(len(group)))\n",
    "    print('    Population: ' + str(round(group.total_population.mean(),2)))\n",
    "    print('    Median Age: ' + str(round(group.median_age.mean(),2)))\n",
    "    print('    Median Income: ' + str(round(group.median_income.mean(),2)))\n",
    "    print('    Percent with Bachelors Degree: ' + str(round(group.total_bachelors_degree.mean(),2)))"
   ]
  },
  {
   "cell_type": "markdown",
   "metadata": {},
   "source": [
    "## Comments on Groups:\n"
   ]
  },
  {
   "cell_type": "markdown",
   "metadata": {},
   "source": [
    "### Group 0:\n",
    "- Smallest population\n",
    "- Oldest\n",
    "\n",
    "### Group 1:\n",
    "- Youngest\n",
    "- Poorest\n",
    "- Least Educated\n",
    "\n",
    "### Group 2:\n",
    "- Richest\n",
    "- Most Educated\n",
    "\n",
    "### Group 3:\n",
    "- Largest Population"
   ]
  },
  {
   "cell_type": "markdown",
   "metadata": {},
   "source": [
    "## Write data to .csv"
   ]
  },
  {
   "cell_type": "code",
   "execution_count": 13,
   "metadata": {},
   "outputs": [
    {
     "data": {
      "text/html": [
       "<div>\n",
       "<style scoped>\n",
       "    .dataframe tbody tr th:only-of-type {\n",
       "        vertical-align: middle;\n",
       "    }\n",
       "\n",
       "    .dataframe tbody tr th {\n",
       "        vertical-align: top;\n",
       "    }\n",
       "\n",
       "    .dataframe thead th {\n",
       "        text-align: right;\n",
       "    }\n",
       "</style>\n",
       "<table border=\"1\" class=\"dataframe\">\n",
       "  <thead>\n",
       "    <tr style=\"text-align: right;\">\n",
       "      <th></th>\n",
       "      <th>Unnamed: 0</th>\n",
       "      <th>census_tract</th>\n",
       "      <th>total_population</th>\n",
       "      <th>median_age</th>\n",
       "      <th>total_population_25yrsandover</th>\n",
       "      <th>total_bachelors_degree</th>\n",
       "      <th>median_income</th>\n",
       "      <th>clusterLabels</th>\n",
       "    </tr>\n",
       "  </thead>\n",
       "  <tbody>\n",
       "    <tr>\n",
       "      <th>0</th>\n",
       "      <td>0</td>\n",
       "      <td>Bronx_1</td>\n",
       "      <td>7503.0</td>\n",
       "      <td>32.1</td>\n",
       "      <td>303.0</td>\n",
       "      <td>0.7</td>\n",
       "      <td>10778.0</td>\n",
       "      <td>3</td>\n",
       "    </tr>\n",
       "    <tr>\n",
       "      <th>1</th>\n",
       "      <td>1</td>\n",
       "      <td>Bronx_2</td>\n",
       "      <td>5251.0</td>\n",
       "      <td>38.6</td>\n",
       "      <td>449.0</td>\n",
       "      <td>11.8</td>\n",
       "      <td>30760.0</td>\n",
       "      <td>3</td>\n",
       "    </tr>\n",
       "    <tr>\n",
       "      <th>2</th>\n",
       "      <td>2</td>\n",
       "      <td>Bronx_4</td>\n",
       "      <td>5980.0</td>\n",
       "      <td>39.4</td>\n",
       "      <td>300.0</td>\n",
       "      <td>14.3</td>\n",
       "      <td>32371.0</td>\n",
       "      <td>3</td>\n",
       "    </tr>\n",
       "    <tr>\n",
       "      <th>3</th>\n",
       "      <td>3</td>\n",
       "      <td>Bronx_16</td>\n",
       "      <td>6056.0</td>\n",
       "      <td>36.9</td>\n",
       "      <td>325.0</td>\n",
       "      <td>5.8</td>\n",
       "      <td>17848.0</td>\n",
       "      <td>3</td>\n",
       "    </tr>\n",
       "    <tr>\n",
       "      <th>4</th>\n",
       "      <td>4</td>\n",
       "      <td>Bronx_19</td>\n",
       "      <td>2682.0</td>\n",
       "      <td>32.5</td>\n",
       "      <td>227.0</td>\n",
       "      <td>13.7</td>\n",
       "      <td>21788.0</td>\n",
       "      <td>1</td>\n",
       "    </tr>\n",
       "  </tbody>\n",
       "</table>\n",
       "</div>"
      ],
      "text/plain": [
       "   Unnamed: 0 census_tract  total_population  median_age  \\\n",
       "0           0      Bronx_1            7503.0        32.1   \n",
       "1           1      Bronx_2            5251.0        38.6   \n",
       "2           2      Bronx_4            5980.0        39.4   \n",
       "3           3     Bronx_16            6056.0        36.9   \n",
       "4           4     Bronx_19            2682.0        32.5   \n",
       "\n",
       "   total_population_25yrsandover  total_bachelors_degree  median_income  \\\n",
       "0                          303.0                     0.7        10778.0   \n",
       "1                          449.0                    11.8        30760.0   \n",
       "2                          300.0                    14.3        32371.0   \n",
       "3                          325.0                     5.8        17848.0   \n",
       "4                          227.0                    13.7        21788.0   \n",
       "\n",
       "   clusterLabels  \n",
       "0              3  \n",
       "1              3  \n",
       "2              3  \n",
       "3              3  \n",
       "4              1  "
      ]
     },
     "execution_count": 13,
     "metadata": {},
     "output_type": "execute_result"
    }
   ],
   "source": [
    "acs.head()"
   ]
  },
  {
   "cell_type": "code",
   "execution_count": 14,
   "metadata": {},
   "outputs": [],
   "source": [
    "acs.to_csv('acsClusters.csv')"
   ]
  }
 ],
 "metadata": {
  "kernelspec": {
   "display_name": "ADS",
   "language": "python",
   "name": "ads"
  },
  "language_info": {
   "codemirror_mode": {
    "name": "ipython",
    "version": 3
   },
   "file_extension": ".py",
   "mimetype": "text/x-python",
   "name": "python",
   "nbconvert_exporter": "python",
   "pygments_lexer": "ipython3",
   "version": "3.5.0"
  }
 },
 "nbformat": 4,
 "nbformat_minor": 2
}
