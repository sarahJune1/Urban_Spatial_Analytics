{
 "cells": [
  {
   "cell_type": "code",
   "execution_count": 95,
   "metadata": {},
   "outputs": [],
   "source": [
    "from __future__ import print_function\n",
    "%matplotlib inline\n",
    "import geopandas as gpd\n",
    "import numpy as np\n",
    "import pylab as pl\n",
    "import pandas as pd\n",
    "import io\n",
    "import os\n",
    "import shapely\n",
    "import matplotlib.pyplot as plt\n",
    "from geopandas import GeoSeries, GeoDataFrame, read_file\n",
    "from geopandas.tools import sjoin\n",
    "import pysal as ps\n",
    "#!conda install rtree\n",
    "from fiona.crs import from_epsg"
   ]
  },
  {
   "cell_type": "code",
   "execution_count": 2,
   "metadata": {},
   "outputs": [],
   "source": [
    "#Import Airbnb shapefile\n",
    "GreenSpace = gpd.GeoDataFrame.from_file('Green Spaces/geo_export_082cf1b6-52ed-40bb-9b52-13945bdb1f98.shp')"
   ]
  },
  {
   "cell_type": "code",
   "execution_count": 3,
   "metadata": {},
   "outputs": [
    {
     "data": {
      "text/html": [
       "<div>\n",
       "<style scoped>\n",
       "    .dataframe tbody tr th:only-of-type {\n",
       "        vertical-align: middle;\n",
       "    }\n",
       "\n",
       "    .dataframe tbody tr th {\n",
       "        vertical-align: top;\n",
       "    }\n",
       "\n",
       "    .dataframe thead th {\n",
       "        text-align: right;\n",
       "    }\n",
       "</style>\n",
       "<table border=\"1\" class=\"dataframe\">\n",
       "  <thead>\n",
       "    <tr style=\"text-align: right;\">\n",
       "      <th></th>\n",
       "      <th>feat_code</th>\n",
       "      <th>landuse</th>\n",
       "      <th>park_name</th>\n",
       "      <th>parknum</th>\n",
       "      <th>shape_area</th>\n",
       "      <th>shape_leng</th>\n",
       "      <th>source_id</th>\n",
       "      <th>status</th>\n",
       "      <th>sub_code</th>\n",
       "      <th>system</th>\n",
       "      <th>geometry</th>\n",
       "    </tr>\n",
       "  </thead>\n",
       "  <tbody>\n",
       "    <tr>\n",
       "      <th>0</th>\n",
       "      <td>4910.0</td>\n",
       "      <td>Community Park</td>\n",
       "      <td>Commodore Barry Park</td>\n",
       "      <td>B021</td>\n",
       "      <td>41539.801363</td>\n",
       "      <td>829.420107</td>\n",
       "      <td>2.149100e+10</td>\n",
       "      <td>Updated</td>\n",
       "      <td>491050.0</td>\n",
       "      <td>None</td>\n",
       "      <td>POLYGON ((-73.97922375065221 40.69799879369959...</td>\n",
       "    </tr>\n",
       "    <tr>\n",
       "      <th>1</th>\n",
       "      <td>4980.0</td>\n",
       "      <td>Neighborhood Park</td>\n",
       "      <td>Pierrepont Playground</td>\n",
       "      <td>B222</td>\n",
       "      <td>21960.494920</td>\n",
       "      <td>607.555193</td>\n",
       "      <td>2.149800e+10</td>\n",
       "      <td>Unchanged</td>\n",
       "      <td>498000.0</td>\n",
       "      <td>None</td>\n",
       "      <td>POLYGON ((-73.99732028095745 40.69600764072165...</td>\n",
       "    </tr>\n",
       "    <tr>\n",
       "      <th>2</th>\n",
       "      <td>4980.0</td>\n",
       "      <td>Neighborhood Park</td>\n",
       "      <td>Cobble Hill Park</td>\n",
       "      <td>B326</td>\n",
       "      <td>28079.076265</td>\n",
       "      <td>784.421990</td>\n",
       "      <td>2.149800e+10</td>\n",
       "      <td>Unchanged</td>\n",
       "      <td>498000.0</td>\n",
       "      <td>None</td>\n",
       "      <td>POLYGON ((-73.99557419919979 40.68792918280799...</td>\n",
       "    </tr>\n",
       "    <tr>\n",
       "      <th>3</th>\n",
       "      <td>4980.0</td>\n",
       "      <td>Community Park</td>\n",
       "      <td>Commodore Barry Park</td>\n",
       "      <td>B021</td>\n",
       "      <td>438416.114511</td>\n",
       "      <td>2672.710150</td>\n",
       "      <td>2.149800e+10</td>\n",
       "      <td>Unchanged</td>\n",
       "      <td>498000.0</td>\n",
       "      <td>None</td>\n",
       "      <td>POLYGON ((-73.97746661925957 40.69650941986475...</td>\n",
       "    </tr>\n",
       "    <tr>\n",
       "      <th>4</th>\n",
       "      <td>4980.0</td>\n",
       "      <td>Triangle/Plaza</td>\n",
       "      <td>Brooklyn Heights Promenade</td>\n",
       "      <td>B223DG</td>\n",
       "      <td>14465.699799</td>\n",
       "      <td>1376.106398</td>\n",
       "      <td>2.149800e+10</td>\n",
       "      <td>Unchanged</td>\n",
       "      <td>498000.0</td>\n",
       "      <td>None</td>\n",
       "      <td>POLYGON ((-73.99746719287955 40.69692380834881...</td>\n",
       "    </tr>\n",
       "  </tbody>\n",
       "</table>\n",
       "</div>"
      ],
      "text/plain": [
       "   feat_code            landuse                   park_name parknum  \\\n",
       "0     4910.0     Community Park        Commodore Barry Park    B021   \n",
       "1     4980.0  Neighborhood Park       Pierrepont Playground    B222   \n",
       "2     4980.0  Neighborhood Park            Cobble Hill Park    B326   \n",
       "3     4980.0     Community Park        Commodore Barry Park    B021   \n",
       "4     4980.0     Triangle/Plaza  Brooklyn Heights Promenade  B223DG   \n",
       "\n",
       "      shape_area   shape_leng     source_id     status  sub_code system  \\\n",
       "0   41539.801363   829.420107  2.149100e+10    Updated  491050.0   None   \n",
       "1   21960.494920   607.555193  2.149800e+10  Unchanged  498000.0   None   \n",
       "2   28079.076265   784.421990  2.149800e+10  Unchanged  498000.0   None   \n",
       "3  438416.114511  2672.710150  2.149800e+10  Unchanged  498000.0   None   \n",
       "4   14465.699799  1376.106398  2.149800e+10  Unchanged  498000.0   None   \n",
       "\n",
       "                                            geometry  \n",
       "0  POLYGON ((-73.97922375065221 40.69799879369959...  \n",
       "1  POLYGON ((-73.99732028095745 40.69600764072165...  \n",
       "2  POLYGON ((-73.99557419919979 40.68792918280799...  \n",
       "3  POLYGON ((-73.97746661925957 40.69650941986475...  \n",
       "4  POLYGON ((-73.99746719287955 40.69692380834881...  "
      ]
     },
     "execution_count": 3,
     "metadata": {},
     "output_type": "execute_result"
    }
   ],
   "source": [
    "GreenSpace.head()"
   ]
  },
  {
   "cell_type": "code",
   "execution_count": 4,
   "metadata": {},
   "outputs": [],
   "source": [
    "#Import airbnb space shapefile\n",
    "AirBnB = gpd.GeoDataFrame.from_file('airbnbGBF/airbnbGBF.shp')"
   ]
  },
  {
   "cell_type": "code",
   "execution_count": 6,
   "metadata": {},
   "outputs": [
    {
     "data": {
      "text/plain": [
       "array([u'Manhattan', u'Brooklyn', u'Queens', u'Bronx', u'Staten Island'],\n",
       "      dtype=object)"
      ]
     },
     "execution_count": 6,
     "metadata": {},
     "output_type": "execute_result"
    }
   ],
   "source": [
    "AirBnB.neighbou_2.unique()"
   ]
  },
  {
   "cell_type": "code",
   "execution_count": 7,
   "metadata": {
    "scrolled": true
   },
   "outputs": [
    {
     "data": {
      "text/html": [
       "<div>\n",
       "<style scoped>\n",
       "    .dataframe tbody tr th:only-of-type {\n",
       "        vertical-align: middle;\n",
       "    }\n",
       "\n",
       "    .dataframe tbody tr th {\n",
       "        vertical-align: top;\n",
       "    }\n",
       "\n",
       "    .dataframe thead th {\n",
       "        text-align: right;\n",
       "    }\n",
       "</style>\n",
       "<table border=\"1\" class=\"dataframe\">\n",
       "  <thead>\n",
       "    <tr style=\"text-align: right;\">\n",
       "      <th></th>\n",
       "      <th>neighbourh</th>\n",
       "      <th>neighbou_1</th>\n",
       "      <th>neighbou_2</th>\n",
       "      <th>smart_loca</th>\n",
       "      <th>latitude</th>\n",
       "      <th>longitude</th>\n",
       "      <th>price</th>\n",
       "      <th>weekly_pri</th>\n",
       "      <th>monthly_pr</th>\n",
       "      <th>geometry</th>\n",
       "    </tr>\n",
       "  </thead>\n",
       "  <tbody>\n",
       "    <tr>\n",
       "      <th>0</th>\n",
       "      <td>Harlem</td>\n",
       "      <td>Harlem</td>\n",
       "      <td>Manhattan</td>\n",
       "      <td>New York, NY</td>\n",
       "      <td>40.799205</td>\n",
       "      <td>-73.953676</td>\n",
       "      <td>$59.00</td>\n",
       "      <td>$720.00</td>\n",
       "      <td>$1,690.00</td>\n",
       "      <td>POINT (-73.95367574543542 40.79920479936168)</td>\n",
       "    </tr>\n",
       "    <tr>\n",
       "      <th>1</th>\n",
       "      <td>Kensington</td>\n",
       "      <td>Kensington</td>\n",
       "      <td>Brooklyn</td>\n",
       "      <td>Brooklyn , NY</td>\n",
       "      <td>40.647486</td>\n",
       "      <td>-73.972370</td>\n",
       "      <td>$149.00</td>\n",
       "      <td>$299.00</td>\n",
       "      <td>$999.00</td>\n",
       "      <td>POINT (-73.97236954007957 40.64748608166989)</td>\n",
       "    </tr>\n",
       "    <tr>\n",
       "      <th>2</th>\n",
       "      <td>Midtown</td>\n",
       "      <td>Midtown</td>\n",
       "      <td>Manhattan</td>\n",
       "      <td>New York, NY</td>\n",
       "      <td>40.753621</td>\n",
       "      <td>-73.983774</td>\n",
       "      <td>$225.00</td>\n",
       "      <td>$1,995.00</td>\n",
       "      <td>None</td>\n",
       "      <td>POINT (-73.98377381114605 40.75362072657246)</td>\n",
       "    </tr>\n",
       "    <tr>\n",
       "      <th>3</th>\n",
       "      <td>Williamsburg</td>\n",
       "      <td>Williamsburg</td>\n",
       "      <td>Brooklyn</td>\n",
       "      <td>Brooklyn, NY</td>\n",
       "      <td>40.708558</td>\n",
       "      <td>-73.942362</td>\n",
       "      <td>$70.00</td>\n",
       "      <td>$650.00</td>\n",
       "      <td>$1,900.00</td>\n",
       "      <td>POINT (-73.94236227640226 40.70855778333159)</td>\n",
       "    </tr>\n",
       "    <tr>\n",
       "      <th>4</th>\n",
       "      <td>Harlem</td>\n",
       "      <td>Harlem</td>\n",
       "      <td>Manhattan</td>\n",
       "      <td>New York, NY</td>\n",
       "      <td>40.809018</td>\n",
       "      <td>-73.941902</td>\n",
       "      <td>$150.00</td>\n",
       "      <td>None</td>\n",
       "      <td>None</td>\n",
       "      <td>POINT (-73.94190208041947 40.80901784905571)</td>\n",
       "    </tr>\n",
       "  </tbody>\n",
       "</table>\n",
       "</div>"
      ],
      "text/plain": [
       "     neighbourh    neighbou_1 neighbou_2     smart_loca   latitude  longitude  \\\n",
       "0        Harlem        Harlem  Manhattan   New York, NY  40.799205 -73.953676   \n",
       "1    Kensington    Kensington   Brooklyn  Brooklyn , NY  40.647486 -73.972370   \n",
       "2       Midtown       Midtown  Manhattan   New York, NY  40.753621 -73.983774   \n",
       "3  Williamsburg  Williamsburg   Brooklyn   Brooklyn, NY  40.708558 -73.942362   \n",
       "4        Harlem        Harlem  Manhattan   New York, NY  40.809018 -73.941902   \n",
       "\n",
       "     price weekly_pri monthly_pr                                      geometry  \n",
       "0   $59.00    $720.00  $1,690.00  POINT (-73.95367574543542 40.79920479936168)  \n",
       "1  $149.00    $299.00    $999.00  POINT (-73.97236954007957 40.64748608166989)  \n",
       "2  $225.00  $1,995.00       None  POINT (-73.98377381114605 40.75362072657246)  \n",
       "3   $70.00    $650.00  $1,900.00  POINT (-73.94236227640226 40.70855778333159)  \n",
       "4  $150.00       None       None  POINT (-73.94190208041947 40.80901784905571)  "
      ]
     },
     "execution_count": 7,
     "metadata": {},
     "output_type": "execute_result"
    }
   ],
   "source": [
    "AirBnB.head()"
   ]
  },
  {
   "cell_type": "code",
   "execution_count": null,
   "metadata": {},
   "outputs": [],
   "source": [
    "# Create buffer around greenspaces"
   ]
  },
  {
   "cell_type": "code",
   "execution_count": 9,
   "metadata": {},
   "outputs": [
    {
     "data": {
      "text/plain": [
       "<matplotlib.axes._subplots.AxesSubplot at 0x7fa47617b6d0>"
      ]
     },
     "execution_count": 9,
     "metadata": {},
     "output_type": "execute_result"
    },
    {
     "data": {
      "image/png": "[encoded data removed]",
      "text/plain": [
       "<matplotlib.figure.Figure at 0x7fa462410fd0>"
      ]
     },
     "metadata": {},
     "output_type": "display_data"
    }
   ],
   "source": [
    "GreenSpace.plot()"
   ]
  },
  {
   "cell_type": "code",
   "execution_count": null,
   "metadata": {},
   "outputs": [],
   "source": [
    "# Let's look at just Washington Sq Park"
   ]
  },
  {
   "cell_type": "code",
   "execution_count": 22,
   "metadata": {},
   "outputs": [],
   "source": [
    "wsq = GreenSpace.loc[GreenSpace.park_name== 'Washington Square Park']"
   ]
  },
  {
   "cell_type": "code",
   "execution_count": 25,
   "metadata": {
    "scrolled": true
   },
   "outputs": [
    {
     "data": {
      "text/html": [
       "<div>\n",
       "<style scoped>\n",
       "    .dataframe tbody tr th:only-of-type {\n",
       "        vertical-align: middle;\n",
       "    }\n",
       "\n",
       "    .dataframe tbody tr th {\n",
       "        vertical-align: top;\n",
       "    }\n",
       "\n",
       "    .dataframe thead th {\n",
       "        text-align: right;\n",
       "    }\n",
       "</style>\n",
       "<table border=\"1\" class=\"dataframe\">\n",
       "  <thead>\n",
       "    <tr style=\"text-align: right;\">\n",
       "      <th></th>\n",
       "      <th>feat_code</th>\n",
       "      <th>landuse</th>\n",
       "      <th>park_name</th>\n",
       "      <th>parknum</th>\n",
       "      <th>shape_area</th>\n",
       "      <th>shape_leng</th>\n",
       "      <th>source_id</th>\n",
       "      <th>status</th>\n",
       "      <th>sub_code</th>\n",
       "      <th>system</th>\n",
       "      <th>geometry</th>\n",
       "    </tr>\n",
       "  </thead>\n",
       "  <tbody>\n",
       "    <tr>\n",
       "      <th>4510</th>\n",
       "      <td>4980.0</td>\n",
       "      <td>Neighborhood Park</td>\n",
       "      <td>Washington Square Park</td>\n",
       "      <td>M098</td>\n",
       "      <td>434508.821798</td>\n",
       "      <td>2815.318767</td>\n",
       "      <td>1.249800e+10</td>\n",
       "      <td>Unchanged</td>\n",
       "      <td>498000.0</td>\n",
       "      <td>None</td>\n",
       "      <td>POLYGON ((-73.9965866265607 40.72965140215158,...</td>\n",
       "    </tr>\n",
       "  </tbody>\n",
       "</table>\n",
       "</div>"
      ],
      "text/plain": [
       "      feat_code            landuse               park_name parknum  \\\n",
       "4510     4980.0  Neighborhood Park  Washington Square Park    M098   \n",
       "\n",
       "         shape_area   shape_leng     source_id     status  sub_code system  \\\n",
       "4510  434508.821798  2815.318767  1.249800e+10  Unchanged  498000.0   None   \n",
       "\n",
       "                                               geometry  \n",
       "4510  POLYGON ((-73.9965866265607 40.72965140215158,...  "
      ]
     },
     "execution_count": 25,
     "metadata": {},
     "output_type": "execute_result"
    }
   ],
   "source": [
    "wsq"
   ]
  },
  {
   "cell_type": "code",
   "execution_count": 30,
   "metadata": {},
   "outputs": [],
   "source": [
    "wsq.crs = from_epsg(4326)\n",
    "naec = '+proj=eqdc +lat_0=40 +lon_0=-96 +lat_1=20 +lat_2=60 +x_0=0 +y_0=0 +datum=NAD83 +units=m +no_defs'"
   ]
  },
  {
   "cell_type": "code",
   "execution_count": 32,
   "metadata": {},
   "outputs": [
    {
     "data": {
      "text/plain": [
       "{'init': 'epsg:4326', 'no_defs': True}"
      ]
     },
     "execution_count": 32,
     "metadata": {},
     "output_type": "execute_result"
    }
   ],
   "source": [
    "wsq.crs"
   ]
  },
  {
   "cell_type": "code",
   "execution_count": 125,
   "metadata": {},
   "outputs": [],
   "source": [
    "mideg?"
   ]
  },
  {
   "cell_type": "code",
   "execution_count": 124,
   "metadata": {},
   "outputs": [],
   "source": [
    "def mideg(mi):\n",
    "    \"\"\"Converts miles into kilometers. \n",
    "    Then it converts that to degrees. \n",
    "    Then it makes the units accurate\"\"\"\n",
    "    conversion_factor = 0.62137119\n",
    "    kilometers = mi / conversion_factor\n",
    "    first = 111000/kilometers\n",
    "    second = first *.000000001\n",
    "    return second"
   ]
  },
  {
   "cell_type": "code",
   "execution_count": 130,
   "metadata": {},
   "outputs": [],
   "source": [
    "def buffermaker(df,dist):\n",
    "    \"\"\"This creates a buffer around the dataframe entered.\n",
    "    Input: dataframe and distance in miles you want it to buffer.\n",
    "    Output: polygon shape\"\"\"\n",
    "    df = df.buffer(mideg(dist))\n",
    "    df = GeoDataFrame(df)\n",
    "    df.rename(columns = {0:'geometry'},inplace = True)\n",
    "    return df\n",
    "    "
   ]
  },
  {
   "cell_type": "code",
   "execution_count": 131,
   "metadata": {},
   "outputs": [
    {
     "data": {
      "text/html": [
       "<div>\n",
       "<style scoped>\n",
       "    .dataframe tbody tr th:only-of-type {\n",
       "        vertical-align: middle;\n",
       "    }\n",
       "\n",
       "    .dataframe tbody tr th {\n",
       "        vertical-align: top;\n",
       "    }\n",
       "\n",
       "    .dataframe thead th {\n",
       "        text-align: right;\n",
       "    }\n",
       "</style>\n",
       "<table border=\"1\" class=\"dataframe\">\n",
       "  <thead>\n",
       "    <tr style=\"text-align: right;\">\n",
       "      <th></th>\n",
       "      <th>geometry</th>\n",
       "    </tr>\n",
       "  </thead>\n",
       "  <tbody>\n",
       "    <tr>\n",
       "      <th>4510</th>\n",
       "      <td>POLYGON ((-73.99648146328398 40.72956213096991...</td>\n",
       "    </tr>\n",
       "  </tbody>\n",
       "</table>\n",
       "</div>"
      ],
      "text/plain": [
       "                                               geometry\n",
       "4510  POLYGON ((-73.99648146328398 40.72956213096991..."
      ]
     },
     "execution_count": 131,
     "metadata": {},
     "output_type": "execute_result"
    }
   ],
   "source": [
    "buffermaker(wsq,.5)"
   ]
  },
  {
   "cell_type": "code",
   "execution_count": 113,
   "metadata": {},
   "outputs": [
    {
     "data": {
      "text/plain": [
       "0.00013794440418000002"
      ]
     },
     "execution_count": 113,
     "metadata": {},
     "output_type": "execute_result"
    }
   ],
   "source": [
    "mideg(.5)"
   ]
  },
  {
   "cell_type": "code",
   "execution_count": 36,
   "metadata": {},
   "outputs": [],
   "source": [
    "halfmi = .000138"
   ]
  },
  {
   "cell_type": "code",
   "execution_count": 37,
   "metadata": {},
   "outputs": [],
   "source": [
    "# create buffer for .5 degree away \n",
    "dilated = wsq.buffer(halfmi)"
   ]
  },
  {
   "cell_type": "code",
   "execution_count": 38,
   "metadata": {},
   "outputs": [
    {
     "data": {
      "text/plain": [
       "4510    POLYGON ((-73.99648142089997 40.72956209499089...\n",
       "dtype: object"
      ]
     },
     "execution_count": 38,
     "metadata": {},
     "output_type": "execute_result"
    }
   ],
   "source": [
    "dilated.head()"
   ]
  },
  {
   "cell_type": "code",
   "execution_count": 60,
   "metadata": {},
   "outputs": [],
   "source": [
    "#make into geodataframe\n",
    "halfmiShp = GeoDataFrame(dilated )"
   ]
  },
  {
   "cell_type": "code",
   "execution_count": 65,
   "metadata": {},
   "outputs": [
    {
     "data": {
      "text/html": [
       "<div>\n",
       "<style scoped>\n",
       "    .dataframe tbody tr th:only-of-type {\n",
       "        vertical-align: middle;\n",
       "    }\n",
       "\n",
       "    .dataframe tbody tr th {\n",
       "        vertical-align: top;\n",
       "    }\n",
       "\n",
       "    .dataframe thead th {\n",
       "        text-align: right;\n",
       "    }\n",
       "</style>\n",
       "<table border=\"1\" class=\"dataframe\">\n",
       "  <thead>\n",
       "    <tr style=\"text-align: right;\">\n",
       "      <th></th>\n",
       "      <th>geometry</th>\n",
       "    </tr>\n",
       "  </thead>\n",
       "  <tbody>\n",
       "    <tr>\n",
       "      <th>4510</th>\n",
       "      <td>POLYGON ((-73.99648142089997 40.72956209499089...</td>\n",
       "    </tr>\n",
       "  </tbody>\n",
       "</table>\n",
       "</div>"
      ],
      "text/plain": [
       "                                               geometry\n",
       "4510  POLYGON ((-73.99648142089997 40.72956209499089..."
      ]
     },
     "execution_count": 65,
     "metadata": {},
     "output_type": "execute_result"
    }
   ],
   "source": [
    "halfmiShp.head()"
   ]
  },
  {
   "cell_type": "code",
   "execution_count": 64,
   "metadata": {},
   "outputs": [],
   "source": [
    "halfmiShp.rename(columns = {0:'geometry'},inplace = True)"
   ]
  },
  {
   "cell_type": "code",
   "execution_count": 52,
   "metadata": {},
   "outputs": [
    {
     "data": {
      "text/plain": [
       "<matplotlib.axes._subplots.AxesSubplot at 0x7fa46501ef50>"
      ]
     },
     "execution_count": 52,
     "metadata": {},
     "output_type": "execute_result"
    },
    {
     "data": {
      "image/png": "[encoded data removed]",
      "text/plain": [
       "<matplotlib.figure.Figure at 0x7fa4621a2290>"
      ]
     },
     "metadata": {},
     "output_type": "display_data"
    }
   ],
   "source": [
    "dilated.plot()"
   ]
  },
  {
   "cell_type": "code",
   "execution_count": null,
   "metadata": {},
   "outputs": [],
   "source": [
    "# Do a spatial join with AirBnB"
   ]
  },
  {
   "cell_type": "code",
   "execution_count": 70,
   "metadata": {},
   "outputs": [
    {
     "data": {
      "text/html": [
       "<div>\n",
       "<style scoped>\n",
       "    .dataframe tbody tr th:only-of-type {\n",
       "        vertical-align: middle;\n",
       "    }\n",
       "\n",
       "    .dataframe tbody tr th {\n",
       "        vertical-align: top;\n",
       "    }\n",
       "\n",
       "    .dataframe thead th {\n",
       "        text-align: right;\n",
       "    }\n",
       "</style>\n",
       "<table border=\"1\" class=\"dataframe\">\n",
       "  <thead>\n",
       "    <tr style=\"text-align: right;\">\n",
       "      <th></th>\n",
       "      <th>neighbourh</th>\n",
       "      <th>neighbou_1</th>\n",
       "      <th>neighbou_2</th>\n",
       "      <th>smart_loca</th>\n",
       "      <th>latitude</th>\n",
       "      <th>longitude</th>\n",
       "      <th>price</th>\n",
       "      <th>weekly_pri</th>\n",
       "      <th>monthly_pr</th>\n",
       "      <th>geometry</th>\n",
       "    </tr>\n",
       "  </thead>\n",
       "  <tbody>\n",
       "    <tr>\n",
       "      <th>0</th>\n",
       "      <td>Harlem</td>\n",
       "      <td>Harlem</td>\n",
       "      <td>Manhattan</td>\n",
       "      <td>New York, NY</td>\n",
       "      <td>40.799205</td>\n",
       "      <td>-73.953676</td>\n",
       "      <td>$59.00</td>\n",
       "      <td>$720.00</td>\n",
       "      <td>$1,690.00</td>\n",
       "      <td>POINT (-73.95367574543542 40.79920479936168)</td>\n",
       "    </tr>\n",
       "    <tr>\n",
       "      <th>1</th>\n",
       "      <td>Kensington</td>\n",
       "      <td>Kensington</td>\n",
       "      <td>Brooklyn</td>\n",
       "      <td>Brooklyn , NY</td>\n",
       "      <td>40.647486</td>\n",
       "      <td>-73.972370</td>\n",
       "      <td>$149.00</td>\n",
       "      <td>$299.00</td>\n",
       "      <td>$999.00</td>\n",
       "      <td>POINT (-73.97236954007957 40.64748608166989)</td>\n",
       "    </tr>\n",
       "    <tr>\n",
       "      <th>2</th>\n",
       "      <td>Midtown</td>\n",
       "      <td>Midtown</td>\n",
       "      <td>Manhattan</td>\n",
       "      <td>New York, NY</td>\n",
       "      <td>40.753621</td>\n",
       "      <td>-73.983774</td>\n",
       "      <td>$225.00</td>\n",
       "      <td>$1,995.00</td>\n",
       "      <td>None</td>\n",
       "      <td>POINT (-73.98377381114605 40.75362072657246)</td>\n",
       "    </tr>\n",
       "    <tr>\n",
       "      <th>3</th>\n",
       "      <td>Williamsburg</td>\n",
       "      <td>Williamsburg</td>\n",
       "      <td>Brooklyn</td>\n",
       "      <td>Brooklyn, NY</td>\n",
       "      <td>40.708558</td>\n",
       "      <td>-73.942362</td>\n",
       "      <td>$70.00</td>\n",
       "      <td>$650.00</td>\n",
       "      <td>$1,900.00</td>\n",
       "      <td>POINT (-73.94236227640226 40.70855778333159)</td>\n",
       "    </tr>\n",
       "    <tr>\n",
       "      <th>4</th>\n",
       "      <td>Harlem</td>\n",
       "      <td>Harlem</td>\n",
       "      <td>Manhattan</td>\n",
       "      <td>New York, NY</td>\n",
       "      <td>40.809018</td>\n",
       "      <td>-73.941902</td>\n",
       "      <td>$150.00</td>\n",
       "      <td>None</td>\n",
       "      <td>None</td>\n",
       "      <td>POINT (-73.94190208041947 40.80901784905571)</td>\n",
       "    </tr>\n",
       "  </tbody>\n",
       "</table>\n",
       "</div>"
      ],
      "text/plain": [
       "     neighbourh    neighbou_1 neighbou_2     smart_loca   latitude  longitude  \\\n",
       "0        Harlem        Harlem  Manhattan   New York, NY  40.799205 -73.953676   \n",
       "1    Kensington    Kensington   Brooklyn  Brooklyn , NY  40.647486 -73.972370   \n",
       "2       Midtown       Midtown  Manhattan   New York, NY  40.753621 -73.983774   \n",
       "3  Williamsburg  Williamsburg   Brooklyn   Brooklyn, NY  40.708558 -73.942362   \n",
       "4        Harlem        Harlem  Manhattan   New York, NY  40.809018 -73.941902   \n",
       "\n",
       "     price weekly_pri monthly_pr                                      geometry  \n",
       "0   $59.00    $720.00  $1,690.00  POINT (-73.95367574543542 40.79920479936168)  \n",
       "1  $149.00    $299.00    $999.00  POINT (-73.97236954007957 40.64748608166989)  \n",
       "2  $225.00  $1,995.00       None  POINT (-73.98377381114605 40.75362072657246)  \n",
       "3   $70.00    $650.00  $1,900.00  POINT (-73.94236227640226 40.70855778333159)  \n",
       "4  $150.00       None       None  POINT (-73.94190208041947 40.80901784905571)  "
      ]
     },
     "execution_count": 70,
     "metadata": {},
     "output_type": "execute_result"
    }
   ],
   "source": [
    "AirBnB.head()"
   ]
  },
  {
   "cell_type": "code",
   "execution_count": 85,
   "metadata": {},
   "outputs": [],
   "source": [
    "# convert to 2263\n",
    "AirBnB = GeoDataFrame(AirBnB)\n",
    "\n",
    "AirBnB.crs = from_epsg(4326)\n",
    "halfmiShp.crs = from_epsg(4326)"
   ]
  },
  {
   "cell_type": "code",
   "execution_count": 86,
   "metadata": {},
   "outputs": [],
   "source": [
    "AirBnB_ft = AirBnB.to_crs(epsg=2263)\n",
    "halfmiShp_ft = halfmiShp.to_crs(epsg=2263)"
   ]
  },
  {
   "cell_type": "code",
   "execution_count": 88,
   "metadata": {},
   "outputs": [],
   "source": [
    "Joined = gpd.sjoin(AirBnB_ft, halfmiShp_ft,how=\"inner\", op='intersects')"
   ]
  },
  {
   "cell_type": "code",
   "execution_count": 143,
   "metadata": {},
   "outputs": [
    {
     "data": {
      "text/html": [
       "<div>\n",
       "<style scoped>\n",
       "    .dataframe tbody tr th:only-of-type {\n",
       "        vertical-align: middle;\n",
       "    }\n",
       "\n",
       "    .dataframe tbody tr th {\n",
       "        vertical-align: top;\n",
       "    }\n",
       "\n",
       "    .dataframe thead th {\n",
       "        text-align: right;\n",
       "    }\n",
       "</style>\n",
       "<table border=\"1\" class=\"dataframe\">\n",
       "  <thead>\n",
       "    <tr style=\"text-align: right;\">\n",
       "      <th></th>\n",
       "      <th>neighbourh</th>\n",
       "      <th>neighbou_1</th>\n",
       "      <th>neighbou_2</th>\n",
       "      <th>smart_loca</th>\n",
       "      <th>latitude</th>\n",
       "      <th>longitude</th>\n",
       "      <th>price</th>\n",
       "      <th>weekly_pri</th>\n",
       "      <th>monthly_pr</th>\n",
       "      <th>index_righ</th>\n",
       "      <th>geometry</th>\n",
       "      <th>lonlat</th>\n",
       "    </tr>\n",
       "  </thead>\n",
       "  <tbody>\n",
       "    <tr>\n",
       "      <th>0</th>\n",
       "      <td>Greenwich Village</td>\n",
       "      <td>Greenwich Village</td>\n",
       "      <td>Manhattan</td>\n",
       "      <td>New York, NY</td>\n",
       "      <td>40.731293</td>\n",
       "      <td>-73.999440</td>\n",
       "      <td>$850.00</td>\n",
       "      <td>None</td>\n",
       "      <td>None</td>\n",
       "      <td>4510</td>\n",
       "      <td>POINT (-73.99943973943394 40.73129314475805)</td>\n",
       "      <td>(-73.9994397394, 40.7312931448)</td>\n",
       "    </tr>\n",
       "    <tr>\n",
       "      <th>1</th>\n",
       "      <td>Greenwich Village</td>\n",
       "      <td>Greenwich Village</td>\n",
       "      <td>Manhattan</td>\n",
       "      <td>New York, NY</td>\n",
       "      <td>40.731096</td>\n",
       "      <td>-73.999128</td>\n",
       "      <td>$165.00</td>\n",
       "      <td>$1,200.00</td>\n",
       "      <td>$3,200.00</td>\n",
       "      <td>4510</td>\n",
       "      <td>POINT (-73.99912844631929 40.7310956382122)</td>\n",
       "      <td>(-73.9991284463, 40.7310956382)</td>\n",
       "    </tr>\n",
       "    <tr>\n",
       "      <th>2</th>\n",
       "      <td>Greenwich Village</td>\n",
       "      <td>Greenwich Village</td>\n",
       "      <td>Manhattan</td>\n",
       "      <td>New York, NY</td>\n",
       "      <td>40.731758</td>\n",
       "      <td>-73.998949</td>\n",
       "      <td>$295.00</td>\n",
       "      <td>None</td>\n",
       "      <td>None</td>\n",
       "      <td>4510</td>\n",
       "      <td>POINT (-73.9989490705707 40.73175825271198)</td>\n",
       "      <td>(-73.9989490706, 40.7317582527)</td>\n",
       "    </tr>\n",
       "    <tr>\n",
       "      <th>3</th>\n",
       "      <td>None</td>\n",
       "      <td>Greenwich Village</td>\n",
       "      <td>Manhattan</td>\n",
       "      <td>New York, NY</td>\n",
       "      <td>40.730070</td>\n",
       "      <td>-73.996238</td>\n",
       "      <td>$299.00</td>\n",
       "      <td>$2,200.00</td>\n",
       "      <td>None</td>\n",
       "      <td>4510</td>\n",
       "      <td>POINT (-73.9962380624812 40.73007048741817)</td>\n",
       "      <td>(-73.9962380625, 40.7300704874)</td>\n",
       "    </tr>\n",
       "    <tr>\n",
       "      <th>4</th>\n",
       "      <td>Greenwich Village</td>\n",
       "      <td>Greenwich Village</td>\n",
       "      <td>Manhattan</td>\n",
       "      <td>New York, NY</td>\n",
       "      <td>40.730360</td>\n",
       "      <td>-73.995988</td>\n",
       "      <td>$160.00</td>\n",
       "      <td>None</td>\n",
       "      <td>$3,500.00</td>\n",
       "      <td>4510</td>\n",
       "      <td>POINT (-73.99598791630588 40.73035987680285)</td>\n",
       "      <td>(-73.9959879163, 40.7303598768)</td>\n",
       "    </tr>\n",
       "  </tbody>\n",
       "</table>\n",
       "</div>"
      ],
      "text/plain": [
       "          neighbourh         neighbou_1 neighbou_2    smart_loca   latitude  \\\n",
       "0  Greenwich Village  Greenwich Village  Manhattan  New York, NY  40.731293   \n",
       "1  Greenwich Village  Greenwich Village  Manhattan  New York, NY  40.731096   \n",
       "2  Greenwich Village  Greenwich Village  Manhattan  New York, NY  40.731758   \n",
       "3               None  Greenwich Village  Manhattan  New York, NY  40.730070   \n",
       "4  Greenwich Village  Greenwich Village  Manhattan  New York, NY  40.730360   \n",
       "\n",
       "   longitude    price weekly_pri monthly_pr  index_righ  \\\n",
       "0 -73.999440  $850.00       None       None        4510   \n",
       "1 -73.999128  $165.00  $1,200.00  $3,200.00        4510   \n",
       "2 -73.998949  $295.00       None       None        4510   \n",
       "3 -73.996238  $299.00  $2,200.00       None        4510   \n",
       "4 -73.995988  $160.00       None  $3,500.00        4510   \n",
       "\n",
       "                                       geometry  \\\n",
       "0  POINT (-73.99943973943394 40.73129314475805)   \n",
       "1   POINT (-73.99912844631929 40.7310956382122)   \n",
       "2   POINT (-73.9989490705707 40.73175825271198)   \n",
       "3   POINT (-73.9962380624812 40.73007048741817)   \n",
       "4  POINT (-73.99598791630588 40.73035987680285)   \n",
       "\n",
       "                            lonlat  \n",
       "0  (-73.9994397394, 40.7312931448)  \n",
       "1  (-73.9991284463, 40.7310956382)  \n",
       "2  (-73.9989490706, 40.7317582527)  \n",
       "3  (-73.9962380625, 40.7300704874)  \n",
       "4  (-73.9959879163, 40.7303598768)  "
      ]
     },
     "execution_count": 143,
     "metadata": {},
     "output_type": "execute_result"
    }
   ],
   "source": [
    "# combine lat and lon to one column\n",
    "Joined['lonlat']=list(zip(Joined.longitude,Joined.latitude))\n",
    "# Create Point Geometry for based on lonlat column\n",
    "Joined['geometry']=Joined[['lonlat']].applymap(lambda x:shapely.geometry.Point(x))\n",
    "Joined.head()"
   ]
  },
  {
   "cell_type": "code",
   "execution_count": null,
   "metadata": {},
   "outputs": [],
   "source": []
  },
  {
   "cell_type": "code",
   "execution_count": 145,
   "metadata": {},
   "outputs": [],
   "source": [
    "Joined = GeoDataFrame(Joined)"
   ]
  },
  {
   "cell_type": "code",
   "execution_count": 148,
   "metadata": {},
   "outputs": [],
   "source": [
    "Joined.crs = from_epsg(4326)\n",
    "naec = '+proj=eqdc +lat_0=40 +lon_0=-96 +lat_1=20 +lat_2=60 +x_0=0 +y_0=0 +datum=NAD83 +units=m +no_defs'"
   ]
  },
  {
   "cell_type": "code",
   "execution_count": 149,
   "metadata": {},
   "outputs": [
    {
     "data": {
      "text/plain": [
       "<matplotlib.axes._subplots.AxesSubplot at 0x7fa459877d50>"
      ]
     },
     "execution_count": 149,
     "metadata": {},
     "output_type": "execute_result"
    },
    {
     "data": {
      "image/png": "[encoded data removed]",
      "text/plain": [
       "<matplotlib.figure.Figure at 0x7fa4598710d0>"
      ]
     },
     "metadata": {},
     "output_type": "display_data"
    }
   ],
   "source": [
    "Joined.to_crs(naec).plot()"
   ]
  },
  {
   "cell_type": "code",
   "execution_count": 151,
   "metadata": {},
   "outputs": [],
   "source": [
    "Joined = gpd.GeoDataFrame.from_file('Output/wspExample.shp')"
   ]
  },
  {
   "cell_type": "code",
   "execution_count": 91,
   "metadata": {},
   "outputs": [
    {
     "data": {
      "text/plain": [
       "(34, 11)"
      ]
     },
     "execution_count": 91,
     "metadata": {},
     "output_type": "execute_result"
    }
   ],
   "source": [
    "Joined.shape"
   ]
  },
  {
   "cell_type": "code",
   "execution_count": 135,
   "metadata": {},
   "outputs": [],
   "source": [
    "%mkdir Output"
   ]
  },
  {
   "cell_type": "code",
   "execution_count": 152,
   "metadata": {},
   "outputs": [],
   "source": [
    "path='Output/wspExample.shp'\n",
    "Joined.to_file(path)"
   ]
  },
  {
   "cell_type": "code",
   "execution_count": 153,
   "metadata": {},
   "outputs": [
    {
     "ename": "AttributeError",
     "evalue": "'Point' object has no attribute 'bbox'",
     "output_type": "error",
     "traceback": [
      "\u001b[0;31m\u001b[0m",
      "\u001b[0;31mAttributeError\u001b[0mTraceback (most recent call last)",
      "\u001b[0;32m<ipython-input-153-54fa7221f961>\u001b[0m in \u001b[0;36m<module>\u001b[0;34m()\u001b[0m\n\u001b[0;32m----> 1\u001b[0;31m \u001b[0mqW_CT\u001b[0m\u001b[0;34m=\u001b[0m\u001b[0mps\u001b[0m\u001b[0;34m.\u001b[0m\u001b[0mqueen_from_shapefile\u001b[0m\u001b[0;34m(\u001b[0m\u001b[0mpath\u001b[0m\u001b[0;34m)\u001b[0m\u001b[0;34m\u001b[0m\u001b[0m\n\u001b[0m",
      "\u001b[0;32m/nfshome/sjs909/.conda/envs/myEnv/lib/python2.7/site-packages/pysal/weights/user.pyc\u001b[0m in \u001b[0;36mqueen_from_shapefile\u001b[0;34m(shapefile, idVariable, sparse)\u001b[0m\n\u001b[1;32m     65\u001b[0m     \"\"\"\n\u001b[1;32m     66\u001b[0m \u001b[0;34m\u001b[0m\u001b[0m\n\u001b[0;32m---> 67\u001b[0;31m     \u001b[0mw\u001b[0m \u001b[0;34m=\u001b[0m \u001b[0mQueen\u001b[0m\u001b[0;34m.\u001b[0m\u001b[0mfrom_shapefile\u001b[0m\u001b[0;34m(\u001b[0m\u001b[0mshapefile\u001b[0m\u001b[0;34m,\u001b[0m \u001b[0midVariable\u001b[0m\u001b[0;34m=\u001b[0m\u001b[0midVariable\u001b[0m\u001b[0;34m)\u001b[0m\u001b[0;34m\u001b[0m\u001b[0m\n\u001b[0m\u001b[1;32m     68\u001b[0m     \u001b[0;32mif\u001b[0m \u001b[0msparse\u001b[0m\u001b[0;34m:\u001b[0m\u001b[0;34m\u001b[0m\u001b[0m\n\u001b[1;32m     69\u001b[0m         \u001b[0mw\u001b[0m \u001b[0;34m=\u001b[0m \u001b[0mpysal\u001b[0m\u001b[0;34m.\u001b[0m\u001b[0mweights\u001b[0m\u001b[0;34m.\u001b[0m\u001b[0mWSP\u001b[0m\u001b[0;34m(\u001b[0m\u001b[0mw\u001b[0m\u001b[0;34m.\u001b[0m\u001b[0msparse\u001b[0m\u001b[0;34m,\u001b[0m \u001b[0mid_order\u001b[0m\u001b[0;34m=\u001b[0m\u001b[0mw\u001b[0m\u001b[0;34m.\u001b[0m\u001b[0mid_order\u001b[0m\u001b[0;34m)\u001b[0m\u001b[0;34m\u001b[0m\u001b[0m\n",
      "\u001b[0;32m/nfshome/sjs909/.conda/envs/myEnv/lib/python2.7/site-packages/pysal/weights/Contiguity.pyc\u001b[0m in \u001b[0;36mfrom_shapefile\u001b[0;34m(cls, filepath, idVariable, full, **kwargs)\u001b[0m\n\u001b[1;32m    253\u001b[0m \u001b[0;34m\u001b[0m\u001b[0m\n\u001b[1;32m    254\u001b[0m         \u001b[0miterable\u001b[0m \u001b[0;34m=\u001b[0m \u001b[0mFileIO\u001b[0m\u001b[0;34m(\u001b[0m\u001b[0mfilepath\u001b[0m\u001b[0;34m)\u001b[0m\u001b[0;34m\u001b[0m\u001b[0m\n\u001b[0;32m--> 255\u001b[0;31m         \u001b[0mw\u001b[0m \u001b[0;34m=\u001b[0m \u001b[0mcls\u001b[0m\u001b[0;34m(\u001b[0m\u001b[0miterable\u001b[0m\u001b[0;34m,\u001b[0m \u001b[0mids\u001b[0m\u001b[0;34m=\u001b[0m\u001b[0mids\u001b[0m\u001b[0;34m,\u001b[0m \u001b[0mid_order\u001b[0m\u001b[0;34m=\u001b[0m\u001b[0mid_order\u001b[0m\u001b[0;34m,\u001b[0m \u001b[0;34m**\u001b[0m\u001b[0mkwargs\u001b[0m\u001b[0;34m)\u001b[0m\u001b[0;34m\u001b[0m\u001b[0m\n\u001b[0m\u001b[1;32m    256\u001b[0m         \u001b[0mw\u001b[0m\u001b[0;34m.\u001b[0m\u001b[0mset_shapefile\u001b[0m\u001b[0;34m(\u001b[0m\u001b[0mfilepath\u001b[0m\u001b[0;34m,\u001b[0m \u001b[0midVariable\u001b[0m\u001b[0;34m=\u001b[0m\u001b[0midVariable\u001b[0m\u001b[0;34m,\u001b[0m \u001b[0mfull\u001b[0m\u001b[0;34m=\u001b[0m\u001b[0mfull\u001b[0m\u001b[0;34m)\u001b[0m\u001b[0;34m\u001b[0m\u001b[0m\n\u001b[1;32m    257\u001b[0m         \u001b[0;32mif\u001b[0m \u001b[0msparse\u001b[0m\u001b[0;34m:\u001b[0m\u001b[0;34m\u001b[0m\u001b[0m\n",
      "\u001b[0;32m/nfshome/sjs909/.conda/envs/myEnv/lib/python2.7/site-packages/pysal/weights/Contiguity.pyc\u001b[0m in \u001b[0;36m__init__\u001b[0;34m(self, polygons, method, **kw)\u001b[0m\n\u001b[1;32m    197\u001b[0m         \u001b[0mids\u001b[0m \u001b[0;34m=\u001b[0m \u001b[0mkw\u001b[0m\u001b[0;34m.\u001b[0m\u001b[0mpop\u001b[0m\u001b[0;34m(\u001b[0m\u001b[0;34m'ids'\u001b[0m\u001b[0;34m,\u001b[0m \u001b[0mNone\u001b[0m\u001b[0;34m)\u001b[0m\u001b[0;34m\u001b[0m\u001b[0m\n\u001b[1;32m    198\u001b[0m         neighbors, ids = _build(polygons, ids=ids, \n\u001b[0;32m--> 199\u001b[0;31m                                 criterion=criterion, method=method)\n\u001b[0m\u001b[1;32m    200\u001b[0m         \u001b[0mW\u001b[0m\u001b[0;34m.\u001b[0m\u001b[0m__init__\u001b[0m\u001b[0;34m(\u001b[0m\u001b[0mself\u001b[0m\u001b[0;34m,\u001b[0m \u001b[0mneighbors\u001b[0m\u001b[0;34m,\u001b[0m \u001b[0mids\u001b[0m\u001b[0;34m=\u001b[0m\u001b[0mids\u001b[0m\u001b[0;34m,\u001b[0m \u001b[0;34m**\u001b[0m\u001b[0mkw\u001b[0m\u001b[0;34m)\u001b[0m\u001b[0;34m\u001b[0m\u001b[0m\n\u001b[1;32m    201\u001b[0m \u001b[0;34m\u001b[0m\u001b[0m\n",
      "\u001b[0;32m/nfshome/sjs909/.conda/envs/myEnv/lib/python2.7/site-packages/pysal/weights/Contiguity.pyc\u001b[0m in \u001b[0;36m_build\u001b[0;34m(polygons, criterion, ids, method)\u001b[0m\n\u001b[1;32m    381\u001b[0m         \u001b[0mneighbor_data\u001b[0m \u001b[0;34m=\u001b[0m \u001b[0mContiguityWeightsLists\u001b[0m\u001b[0;34m(\u001b[0m\u001b[0mpolygons\u001b[0m\u001b[0;34m,\u001b[0m \u001b[0mwttype\u001b[0m\u001b[0;34m=\u001b[0m\u001b[0mwttype\u001b[0m\u001b[0;34m)\u001b[0m\u001b[0;34m.\u001b[0m\u001b[0mw\u001b[0m\u001b[0;34m\u001b[0m\u001b[0m\n\u001b[1;32m    382\u001b[0m     \u001b[0;32melse\u001b[0m\u001b[0;34m:\u001b[0m\u001b[0;34m\u001b[0m\u001b[0m\n\u001b[0;32m--> 383\u001b[0;31m         \u001b[0mneighbor_data\u001b[0m \u001b[0;34m=\u001b[0m \u001b[0mContiguityWeightsPolygons\u001b[0m\u001b[0;34m(\u001b[0m\u001b[0mpolygons\u001b[0m\u001b[0;34m,\u001b[0m \u001b[0mwttype\u001b[0m\u001b[0;34m=\u001b[0m\u001b[0mwttype\u001b[0m\u001b[0;34m)\u001b[0m\u001b[0;34m.\u001b[0m\u001b[0mw\u001b[0m\u001b[0;34m\u001b[0m\u001b[0m\n\u001b[0m\u001b[1;32m    384\u001b[0m \u001b[0;34m\u001b[0m\u001b[0m\n\u001b[1;32m    385\u001b[0m     \u001b[0mneighbors\u001b[0m \u001b[0;34m=\u001b[0m \u001b[0;34m{\u001b[0m\u001b[0;34m}\u001b[0m\u001b[0;34m\u001b[0m\u001b[0m\n",
      "\u001b[0;32m/nfshome/sjs909/.conda/envs/myEnv/lib/python2.7/site-packages/pysal/weights/_contW_binning.pyc\u001b[0m in \u001b[0;36m__init__\u001b[0;34m(self, collection, wttype, bbox)\u001b[0m\n\u001b[1;32m     66\u001b[0m         \u001b[0mself\u001b[0m\u001b[0;34m.\u001b[0m\u001b[0mshapebox\u001b[0m \u001b[0;34m=\u001b[0m \u001b[0mbbox\u001b[0m\u001b[0;34m\u001b[0m\u001b[0m\n\u001b[1;32m     67\u001b[0m         \u001b[0mself\u001b[0m\u001b[0;34m.\u001b[0m\u001b[0mnumPoly\u001b[0m \u001b[0;34m=\u001b[0m \u001b[0mlen\u001b[0m\u001b[0;34m(\u001b[0m\u001b[0mcollection\u001b[0m\u001b[0;34m)\u001b[0m\u001b[0;34m\u001b[0m\u001b[0m\n\u001b[0;32m---> 68\u001b[0;31m         \u001b[0mself\u001b[0m\u001b[0;34m.\u001b[0m\u001b[0mdo_weights\u001b[0m\u001b[0;34m(\u001b[0m\u001b[0;34m)\u001b[0m\u001b[0;34m\u001b[0m\u001b[0m\n\u001b[0m\u001b[1;32m     69\u001b[0m \u001b[0;34m\u001b[0m\u001b[0m\n\u001b[1;32m     70\u001b[0m     \u001b[0;32mdef\u001b[0m \u001b[0mdo_weights\u001b[0m\u001b[0;34m(\u001b[0m\u001b[0mself\u001b[0m\u001b[0;34m)\u001b[0m\u001b[0;34m:\u001b[0m\u001b[0;34m\u001b[0m\u001b[0m\n",
      "\u001b[0;32m/nfshome/sjs909/.conda/envs/myEnv/lib/python2.7/site-packages/pysal/weights/_contW_binning.pyc\u001b[0m in \u001b[0;36mdo_weights\u001b[0;34m(self)\u001b[0m\n\u001b[1;32m     97\u001b[0m         \u001b[0;32mfor\u001b[0m \u001b[0mi\u001b[0m \u001b[0;32min\u001b[0m \u001b[0mrange\u001b[0m\u001b[0;34m(\u001b[0m\u001b[0mnumPoly\u001b[0m\u001b[0;34m)\u001b[0m\u001b[0;34m:\u001b[0m\u001b[0;34m\u001b[0m\u001b[0m\n\u001b[1;32m     98\u001b[0m             \u001b[0mshpObj\u001b[0m \u001b[0;34m=\u001b[0m \u001b[0mself\u001b[0m\u001b[0;34m.\u001b[0m\u001b[0mcollection\u001b[0m\u001b[0;34m[\u001b[0m\u001b[0mi\u001b[0m\u001b[0;34m]\u001b[0m\u001b[0;34m\u001b[0m\u001b[0m\n\u001b[0;32m---> 99\u001b[0;31m             \u001b[0mbbcache\u001b[0m\u001b[0;34m[\u001b[0m\u001b[0mi\u001b[0m\u001b[0;34m]\u001b[0m \u001b[0;34m=\u001b[0m \u001b[0mshpObj\u001b[0m\u001b[0;34m.\u001b[0m\u001b[0mbbox\u001b[0m\u001b[0;34m[\u001b[0m\u001b[0;34m:\u001b[0m\u001b[0;34m]\u001b[0m\u001b[0;34m\u001b[0m\u001b[0m\n\u001b[0m\u001b[1;32m    100\u001b[0m             projBBox = [int((shpObj.bbox[:][j] -\n\u001b[1;32m    101\u001b[0m                              minbox[j]) / binWidth[j]) for j in xrange(4)]\n",
      "\u001b[0;31mAttributeError\u001b[0m: 'Point' object has no attribute 'bbox'"
     ]
    }
   ],
   "source": [
    "qW_CT=ps.queen_from_shapefile(path)"
   ]
  },
  {
   "cell_type": "code",
   "execution_count": null,
   "metadata": {},
   "outputs": [],
   "source": [
    "#write a function to test for Moran's I"
   ]
  }
 ],
 "metadata": {
  "kernelspec": {
   "display_name": "myEnv",
   "language": "python",
   "name": "myenv"
  },
  "language_info": {
   "codemirror_mode": {
    "name": "ipython",
    "version": 2
   },
   "file_extension": ".py",
   "mimetype": "text/x-python",
   "name": "python",
   "nbconvert_exporter": "python",
   "pygments_lexer": "ipython2",
   "version": "2.7.15"
  }
 },
 "nbformat": 4,
 "nbformat_minor": 2
}
