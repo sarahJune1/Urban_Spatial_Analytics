{
 "cells": [
  {
   "cell_type": "code",
   "execution_count": 23,
   "metadata": {},
   "outputs": [],
   "source": [
    "import pandas as pd\n",
    "from scipy import stats\n",
    "from scipy.stats import ttest_ind, ttest_ind_from_stats\n",
    "import numpy as np"
   ]
  },
  {
   "cell_type": "code",
   "execution_count": 2,
   "metadata": {},
   "outputs": [],
   "source": [
    "park_price=pd.read_csv('Distance_to_parks_Price.csv')\n",
    "BX=pd.read_csv('Price_by_distance_BX.csv')\n",
    "farther1=pd.read_csv('price_distance_br_farther1.csv')\n",
    "greenpoint=pd.read_csv('Price_distance_Greenpoint.csv')\n",
    "w4=pd.read_csv('Price_Distance_W4.csv')\n",
    "br=pd.read_csv('price_time_distance_BR.csv')\n",
    "qn=pd.read_csv('SummarizeQNPrice.csv')"
   ]
  },
  {
   "cell_type": "code",
   "execution_count": 9,
   "metadata": {},
   "outputs": [
    {
     "data": {
      "text/html": [
       "<div>\n",
       "<style scoped>\n",
       "    .dataframe tbody tr th:only-of-type {\n",
       "        vertical-align: middle;\n",
       "    }\n",
       "\n",
       "    .dataframe tbody tr th {\n",
       "        vertical-align: top;\n",
       "    }\n",
       "\n",
       "    .dataframe thead th {\n",
       "        text-align: right;\n",
       "    }\n",
       "</style>\n",
       "<table border=\"1\" class=\"dataframe\">\n",
       "  <thead>\n",
       "    <tr style=\"text-align: right;\">\n",
       "      <th></th>\n",
       "      <th>Point_Count</th>\n",
       "      <th>Name</th>\n",
       "      <th>FromBreak</th>\n",
       "      <th>ToBreak</th>\n",
       "      <th>Selected_N</th>\n",
       "      <th>Prop_ID</th>\n",
       "      <th>Barbecue</th>\n",
       "      <th>Basketball</th>\n",
       "      <th>Dogfriend</th>\n",
       "      <th>Eateries</th>\n",
       "      <th>Playground</th>\n",
       "      <th>Tennis</th>\n",
       "      <th>skate</th>\n",
       "      <th>parknum</th>\n",
       "      <th>area</th>\n",
       "      <th>park_name</th>\n",
       "      <th>ORIG_FID</th>\n",
       "      <th>AnalysisArea</th>\n",
       "      <th>MEAN_price_clea</th>\n",
       "      <th>STD_price_clea</th>\n",
       "    </tr>\n",
       "  </thead>\n",
       "  <tbody>\n",
       "    <tr>\n",
       "      <th>0</th>\n",
       "      <td>4774</td>\n",
       "      <td>Location 1 : 10 - 15</td>\n",
       "      <td>10.0</td>\n",
       "      <td>15.0</td>\n",
       "      <td>St. Nicholas Park</td>\n",
       "      <td>M077</td>\n",
       "      <td>2</td>\n",
       "      <td>5</td>\n",
       "      <td>1</td>\n",
       "      <td>0</td>\n",
       "      <td>3</td>\n",
       "      <td>0</td>\n",
       "      <td>0</td>\n",
       "      <td>M077</td>\n",
       "      <td>0.122774</td>\n",
       "      <td>St. Nicholas Park</td>\n",
       "      <td>6</td>\n",
       "      <td>0.693841</td>\n",
       "      <td>104.631127</td>\n",
       "      <td>68.473184</td>\n",
       "    </tr>\n",
       "    <tr>\n",
       "      <th>1</th>\n",
       "      <td>2008</td>\n",
       "      <td>Location 1 : 5 - 10</td>\n",
       "      <td>5.0</td>\n",
       "      <td>10.0</td>\n",
       "      <td>St. Nicholas Park</td>\n",
       "      <td>M077</td>\n",
       "      <td>2</td>\n",
       "      <td>5</td>\n",
       "      <td>1</td>\n",
       "      <td>0</td>\n",
       "      <td>3</td>\n",
       "      <td>0</td>\n",
       "      <td>0</td>\n",
       "      <td>M077</td>\n",
       "      <td>0.122774</td>\n",
       "      <td>St. Nicholas Park</td>\n",
       "      <td>6</td>\n",
       "      <td>0.292836</td>\n",
       "      <td>106.712151</td>\n",
       "      <td>57.382160</td>\n",
       "    </tr>\n",
       "    <tr>\n",
       "      <th>2</th>\n",
       "      <td>114</td>\n",
       "      <td>Location 1 : 0 - 5</td>\n",
       "      <td>0.0</td>\n",
       "      <td>5.0</td>\n",
       "      <td>St. Nicholas Park</td>\n",
       "      <td>M077</td>\n",
       "      <td>2</td>\n",
       "      <td>5</td>\n",
       "      <td>1</td>\n",
       "      <td>0</td>\n",
       "      <td>3</td>\n",
       "      <td>0</td>\n",
       "      <td>0</td>\n",
       "      <td>M077</td>\n",
       "      <td>0.122774</td>\n",
       "      <td>St. Nicholas Park</td>\n",
       "      <td>6</td>\n",
       "      <td>0.067073</td>\n",
       "      <td>116.078947</td>\n",
       "      <td>69.160215</td>\n",
       "    </tr>\n",
       "  </tbody>\n",
       "</table>\n",
       "</div>"
      ],
      "text/plain": [
       "   Point_Count                  Name  FromBreak  ToBreak         Selected_N  \\\n",
       "0         4774  Location 1 : 10 - 15       10.0     15.0  St. Nicholas Park   \n",
       "1         2008   Location 1 : 5 - 10        5.0     10.0  St. Nicholas Park   \n",
       "2          114    Location 1 : 0 - 5        0.0      5.0  St. Nicholas Park   \n",
       "\n",
       "  Prop_ID  Barbecue  Basketball  Dogfriend  Eateries  Playground  Tennis  \\\n",
       "0    M077         2           5          1         0           3       0   \n",
       "1    M077         2           5          1         0           3       0   \n",
       "2    M077         2           5          1         0           3       0   \n",
       "\n",
       "   skate parknum      area          park_name  ORIG_FID  AnalysisArea  \\\n",
       "0      0    M077  0.122774  St. Nicholas Park         6      0.693841   \n",
       "1      0    M077  0.122774  St. Nicholas Park         6      0.292836   \n",
       "2      0    M077  0.122774  St. Nicholas Park         6      0.067073   \n",
       "\n",
       "   MEAN_price_clea  STD_price_clea  \n",
       "0       104.631127       68.473184  \n",
       "1       106.712151       57.382160  \n",
       "2       116.078947       69.160215  "
      ]
     },
     "execution_count": 9,
     "metadata": {},
     "output_type": "execute_result"
    }
   ],
   "source": [
    "park_price"
   ]
  },
  {
   "cell_type": "code",
   "execution_count": 21,
   "metadata": {},
   "outputs": [],
   "source": [
    "def t_test(abar,astd,na,bbar,bstd,nb):\n",
    "    t2, p2 = ttest_ind_from_stats(abar, astd, na,\n",
    "                              bbar, bstd, nb,\n",
    "                              equal_var=False)\n",
    "    print(\"ttest_ind_from_stats: t = %g  p = %g\" % (t2, p2))"
   ]
  },
  {
   "cell_type": "code",
   "execution_count": 24,
   "metadata": {},
   "outputs": [
    {
     "name": "stdout",
     "output_type": "stream",
     "text": [
      "ttest_ind_from_stats: t = -1.28519  p = 0.198791\n"
     ]
    }
   ],
   "source": [
    "t_test(park_price['MEAN_price_clea'].iloc[0],park_price['STD_price_clea'].iloc[0],park_price['Point_Count'].iloc[0],\n",
    "      park_price['MEAN_price_clea'].iloc[1],park_price['STD_price_clea'].iloc[1],park_price['Point_Count'].iloc[1])"
   ]
  },
  {
   "cell_type": "code",
   "execution_count": 25,
   "metadata": {},
   "outputs": [
    {
     "name": "stdout",
     "output_type": "stream",
     "text": [
      "ttest_ind_from_stats: t = -1.74701  p = 0.0832302\n"
     ]
    }
   ],
   "source": [
    "t_test(park_price['MEAN_price_clea'].iloc[0],park_price['STD_price_clea'].iloc[0],park_price['Point_Count'].iloc[0],\n",
    "      park_price['MEAN_price_clea'].iloc[2],park_price['STD_price_clea'].iloc[2],park_price['Point_Count'].iloc[2])"
   ]
  },
  {
   "cell_type": "code",
   "execution_count": 26,
   "metadata": {},
   "outputs": [
    {
     "name": "stdout",
     "output_type": "stream",
     "text": [
      "ttest_ind_from_stats: t = -1.41861  p = 0.158563\n"
     ]
    }
   ],
   "source": [
    "t_test(park_price['MEAN_price_clea'].iloc[1],park_price['STD_price_clea'].iloc[1],park_price['Point_Count'].iloc[1],\n",
    "      park_price['MEAN_price_clea'].iloc[2],park_price['STD_price_clea'].iloc[2],park_price['Point_Count'].iloc[2])"
   ]
  },
  {
   "cell_type": "code",
   "execution_count": 10,
   "metadata": {},
   "outputs": [
    {
     "data": {
      "text/html": [
       "<div>\n",
       "<style scoped>\n",
       "    .dataframe tbody tr th:only-of-type {\n",
       "        vertical-align: middle;\n",
       "    }\n",
       "\n",
       "    .dataframe tbody tr th {\n",
       "        vertical-align: top;\n",
       "    }\n",
       "\n",
       "    .dataframe thead th {\n",
       "        text-align: right;\n",
       "    }\n",
       "</style>\n",
       "<table border=\"1\" class=\"dataframe\">\n",
       "  <thead>\n",
       "    <tr style=\"text-align: right;\">\n",
       "      <th></th>\n",
       "      <th>Point_Count</th>\n",
       "      <th>Name</th>\n",
       "      <th>FromBreak</th>\n",
       "      <th>ToBreak</th>\n",
       "      <th>Selected_N</th>\n",
       "      <th>Prop_ID</th>\n",
       "      <th>Barbecue</th>\n",
       "      <th>Basketball</th>\n",
       "      <th>Dogfriend</th>\n",
       "      <th>Eateries</th>\n",
       "      <th>Playground</th>\n",
       "      <th>Tennis</th>\n",
       "      <th>skate</th>\n",
       "      <th>parknum</th>\n",
       "      <th>area</th>\n",
       "      <th>park_name</th>\n",
       "      <th>ORIG_FID</th>\n",
       "      <th>AnalysisArea</th>\n",
       "      <th>MEAN_price_clea</th>\n",
       "      <th>STD_price_clea</th>\n",
       "    </tr>\n",
       "  </thead>\n",
       "  <tbody>\n",
       "    <tr>\n",
       "      <th>0</th>\n",
       "      <td>109</td>\n",
       "      <td>Location 1 : 10 - 15</td>\n",
       "      <td>10.0</td>\n",
       "      <td>15.0</td>\n",
       "      <td>Crotona Park</td>\n",
       "      <td>X010</td>\n",
       "      <td>1</td>\n",
       "      <td>6</td>\n",
       "      <td>2</td>\n",
       "      <td>3</td>\n",
       "      <td>12</td>\n",
       "      <td>1</td>\n",
       "      <td>0</td>\n",
       "      <td>X010</td>\n",
       "      <td>0.695278</td>\n",
       "      <td>Crotona Park</td>\n",
       "      <td>1</td>\n",
       "      <td>0.727880</td>\n",
       "      <td>51.412844</td>\n",
       "      <td>37.406974</td>\n",
       "    </tr>\n",
       "    <tr>\n",
       "      <th>1</th>\n",
       "      <td>34</td>\n",
       "      <td>Location 1 : 5 - 10</td>\n",
       "      <td>5.0</td>\n",
       "      <td>10.0</td>\n",
       "      <td>Crotona Park</td>\n",
       "      <td>X010</td>\n",
       "      <td>1</td>\n",
       "      <td>6</td>\n",
       "      <td>2</td>\n",
       "      <td>3</td>\n",
       "      <td>12</td>\n",
       "      <td>1</td>\n",
       "      <td>0</td>\n",
       "      <td>X010</td>\n",
       "      <td>0.695278</td>\n",
       "      <td>Crotona Park</td>\n",
       "      <td>1</td>\n",
       "      <td>0.424332</td>\n",
       "      <td>37.941176</td>\n",
       "      <td>13.364224</td>\n",
       "    </tr>\n",
       "    <tr>\n",
       "      <th>2</th>\n",
       "      <td>0</td>\n",
       "      <td>Location 1 : 0 - 5</td>\n",
       "      <td>0.0</td>\n",
       "      <td>5.0</td>\n",
       "      <td>Crotona Park</td>\n",
       "      <td>X010</td>\n",
       "      <td>1</td>\n",
       "      <td>6</td>\n",
       "      <td>2</td>\n",
       "      <td>3</td>\n",
       "      <td>12</td>\n",
       "      <td>1</td>\n",
       "      <td>0</td>\n",
       "      <td>X010</td>\n",
       "      <td>0.695278</td>\n",
       "      <td>Crotona Park</td>\n",
       "      <td>1</td>\n",
       "      <td>0.147687</td>\n",
       "      <td>NaN</td>\n",
       "      <td>NaN</td>\n",
       "    </tr>\n",
       "  </tbody>\n",
       "</table>\n",
       "</div>"
      ],
      "text/plain": [
       "   Point_Count                  Name  FromBreak  ToBreak    Selected_N  \\\n",
       "0          109  Location 1 : 10 - 15       10.0     15.0  Crotona Park   \n",
       "1           34   Location 1 : 5 - 10        5.0     10.0  Crotona Park   \n",
       "2            0    Location 1 : 0 - 5        0.0      5.0  Crotona Park   \n",
       "\n",
       "  Prop_ID  Barbecue  Basketball  Dogfriend  Eateries  Playground  Tennis  \\\n",
       "0    X010         1           6          2         3          12       1   \n",
       "1    X010         1           6          2         3          12       1   \n",
       "2    X010         1           6          2         3          12       1   \n",
       "\n",
       "   skate parknum      area     park_name  ORIG_FID  AnalysisArea  \\\n",
       "0      0    X010  0.695278  Crotona Park         1      0.727880   \n",
       "1      0    X010  0.695278  Crotona Park         1      0.424332   \n",
       "2      0    X010  0.695278  Crotona Park         1      0.147687   \n",
       "\n",
       "   MEAN_price_clea  STD_price_clea  \n",
       "0        51.412844       37.406974  \n",
       "1        37.941176       13.364224  \n",
       "2              NaN             NaN  "
      ]
     },
     "execution_count": 10,
     "metadata": {},
     "output_type": "execute_result"
    }
   ],
   "source": [
    "BX"
   ]
  },
  {
   "cell_type": "code",
   "execution_count": 27,
   "metadata": {},
   "outputs": [
    {
     "name": "stdout",
     "output_type": "stream",
     "text": [
      "ttest_ind_from_stats: t = 3.16735  p = 0.00189262\n"
     ]
    }
   ],
   "source": [
    "t_test(BX['MEAN_price_clea'].iloc[0],BX['STD_price_clea'].iloc[0],BX['Point_Count'].iloc[0],\n",
    "      BX['MEAN_price_clea'].iloc[1],BX['STD_price_clea'].iloc[1],BX['Point_Count'].iloc[1])"
   ]
  },
  {
   "cell_type": "code",
   "execution_count": 11,
   "metadata": {},
   "outputs": [
    {
     "data": {
      "text/html": [
       "<div>\n",
       "<style scoped>\n",
       "    .dataframe tbody tr th:only-of-type {\n",
       "        vertical-align: middle;\n",
       "    }\n",
       "\n",
       "    .dataframe tbody tr th {\n",
       "        vertical-align: top;\n",
       "    }\n",
       "\n",
       "    .dataframe thead th {\n",
       "        text-align: right;\n",
       "    }\n",
       "</style>\n",
       "<table border=\"1\" class=\"dataframe\">\n",
       "  <thead>\n",
       "    <tr style=\"text-align: right;\">\n",
       "      <th></th>\n",
       "      <th>Point_Count</th>\n",
       "      <th>Name</th>\n",
       "      <th>FromBreak</th>\n",
       "      <th>ToBreak</th>\n",
       "      <th>Selected_N</th>\n",
       "      <th>Prop_ID</th>\n",
       "      <th>Barbecue</th>\n",
       "      <th>Basketball</th>\n",
       "      <th>Dogfriend</th>\n",
       "      <th>Eateries</th>\n",
       "      <th>Playground</th>\n",
       "      <th>Tennis</th>\n",
       "      <th>skate</th>\n",
       "      <th>parknum</th>\n",
       "      <th>area</th>\n",
       "      <th>park_name</th>\n",
       "      <th>ORIG_FID</th>\n",
       "      <th>AnalysisArea</th>\n",
       "      <th>MEAN_price_clea</th>\n",
       "      <th>STD_price_clea</th>\n",
       "    </tr>\n",
       "  </thead>\n",
       "  <tbody>\n",
       "    <tr>\n",
       "      <th>0</th>\n",
       "      <td>3362</td>\n",
       "      <td>Location 1 : 25 - 30</td>\n",
       "      <td>25.0</td>\n",
       "      <td>30.0</td>\n",
       "      <td>Prospect Park</td>\n",
       "      <td>B073</td>\n",
       "      <td>12</td>\n",
       "      <td>0</td>\n",
       "      <td>1</td>\n",
       "      <td>1</td>\n",
       "      <td>7</td>\n",
       "      <td>1</td>\n",
       "      <td>1</td>\n",
       "      <td>B073</td>\n",
       "      <td>2.523662</td>\n",
       "      <td>Prospect Park</td>\n",
       "      <td>3</td>\n",
       "      <td>1.639607</td>\n",
       "      <td>111.282570</td>\n",
       "      <td>77.166411</td>\n",
       "    </tr>\n",
       "    <tr>\n",
       "      <th>1</th>\n",
       "      <td>4720</td>\n",
       "      <td>Location 1 : 20 - 25</td>\n",
       "      <td>20.0</td>\n",
       "      <td>25.0</td>\n",
       "      <td>Prospect Park</td>\n",
       "      <td>B073</td>\n",
       "      <td>12</td>\n",
       "      <td>0</td>\n",
       "      <td>1</td>\n",
       "      <td>1</td>\n",
       "      <td>7</td>\n",
       "      <td>1</td>\n",
       "      <td>1</td>\n",
       "      <td>B073</td>\n",
       "      <td>2.523662</td>\n",
       "      <td>Prospect Park</td>\n",
       "      <td>3</td>\n",
       "      <td>1.358560</td>\n",
       "      <td>123.127542</td>\n",
       "      <td>96.926599</td>\n",
       "    </tr>\n",
       "    <tr>\n",
       "      <th>2</th>\n",
       "      <td>3634</td>\n",
       "      <td>Location 1 : 15 - 20</td>\n",
       "      <td>15.0</td>\n",
       "      <td>20.0</td>\n",
       "      <td>Prospect Park</td>\n",
       "      <td>B073</td>\n",
       "      <td>12</td>\n",
       "      <td>0</td>\n",
       "      <td>1</td>\n",
       "      <td>1</td>\n",
       "      <td>7</td>\n",
       "      <td>1</td>\n",
       "      <td>1</td>\n",
       "      <td>B073</td>\n",
       "      <td>2.523662</td>\n",
       "      <td>Prospect Park</td>\n",
       "      <td>3</td>\n",
       "      <td>0.999154</td>\n",
       "      <td>123.118052</td>\n",
       "      <td>92.610048</td>\n",
       "    </tr>\n",
       "    <tr>\n",
       "      <th>3</th>\n",
       "      <td>1978</td>\n",
       "      <td>Location 1 : 10 - 15</td>\n",
       "      <td>10.0</td>\n",
       "      <td>15.0</td>\n",
       "      <td>Prospect Park</td>\n",
       "      <td>B073</td>\n",
       "      <td>12</td>\n",
       "      <td>0</td>\n",
       "      <td>1</td>\n",
       "      <td>1</td>\n",
       "      <td>7</td>\n",
       "      <td>1</td>\n",
       "      <td>1</td>\n",
       "      <td>B073</td>\n",
       "      <td>2.523662</td>\n",
       "      <td>Prospect Park</td>\n",
       "      <td>3</td>\n",
       "      <td>0.600621</td>\n",
       "      <td>125.889788</td>\n",
       "      <td>94.365704</td>\n",
       "    </tr>\n",
       "    <tr>\n",
       "      <th>4</th>\n",
       "      <td>150</td>\n",
       "      <td>Location 1 : 5 - 10</td>\n",
       "      <td>5.0</td>\n",
       "      <td>10.0</td>\n",
       "      <td>Prospect Park</td>\n",
       "      <td>B073</td>\n",
       "      <td>12</td>\n",
       "      <td>0</td>\n",
       "      <td>1</td>\n",
       "      <td>1</td>\n",
       "      <td>7</td>\n",
       "      <td>1</td>\n",
       "      <td>1</td>\n",
       "      <td>B073</td>\n",
       "      <td>2.523662</td>\n",
       "      <td>Prospect Park</td>\n",
       "      <td>3</td>\n",
       "      <td>0.387183</td>\n",
       "      <td>116.646667</td>\n",
       "      <td>57.552910</td>\n",
       "    </tr>\n",
       "    <tr>\n",
       "      <th>5</th>\n",
       "      <td>0</td>\n",
       "      <td>Location 1 : 0 - 5</td>\n",
       "      <td>0.0</td>\n",
       "      <td>5.0</td>\n",
       "      <td>Prospect Park</td>\n",
       "      <td>B073</td>\n",
       "      <td>12</td>\n",
       "      <td>0</td>\n",
       "      <td>1</td>\n",
       "      <td>1</td>\n",
       "      <td>7</td>\n",
       "      <td>1</td>\n",
       "      <td>1</td>\n",
       "      <td>B073</td>\n",
       "      <td>2.523662</td>\n",
       "      <td>Prospect Park</td>\n",
       "      <td>3</td>\n",
       "      <td>0.134928</td>\n",
       "      <td>NaN</td>\n",
       "      <td>NaN</td>\n",
       "    </tr>\n",
       "  </tbody>\n",
       "</table>\n",
       "</div>"
      ],
      "text/plain": [
       "   Point_Count                  Name  FromBreak  ToBreak     Selected_N  \\\n",
       "0         3362  Location 1 : 25 - 30       25.0     30.0  Prospect Park   \n",
       "1         4720  Location 1 : 20 - 25       20.0     25.0  Prospect Park   \n",
       "2         3634  Location 1 : 15 - 20       15.0     20.0  Prospect Park   \n",
       "3         1978  Location 1 : 10 - 15       10.0     15.0  Prospect Park   \n",
       "4          150   Location 1 : 5 - 10        5.0     10.0  Prospect Park   \n",
       "5            0    Location 1 : 0 - 5        0.0      5.0  Prospect Park   \n",
       "\n",
       "  Prop_ID  Barbecue  Basketball  Dogfriend  Eateries  Playground  Tennis  \\\n",
       "0    B073        12           0          1         1           7       1   \n",
       "1    B073        12           0          1         1           7       1   \n",
       "2    B073        12           0          1         1           7       1   \n",
       "3    B073        12           0          1         1           7       1   \n",
       "4    B073        12           0          1         1           7       1   \n",
       "5    B073        12           0          1         1           7       1   \n",
       "\n",
       "   skate parknum      area      park_name  ORIG_FID  AnalysisArea  \\\n",
       "0      1    B073  2.523662  Prospect Park         3      1.639607   \n",
       "1      1    B073  2.523662  Prospect Park         3      1.358560   \n",
       "2      1    B073  2.523662  Prospect Park         3      0.999154   \n",
       "3      1    B073  2.523662  Prospect Park         3      0.600621   \n",
       "4      1    B073  2.523662  Prospect Park         3      0.387183   \n",
       "5      1    B073  2.523662  Prospect Park         3      0.134928   \n",
       "\n",
       "   MEAN_price_clea  STD_price_clea  \n",
       "0       111.282570       77.166411  \n",
       "1       123.127542       96.926599  \n",
       "2       123.118052       92.610048  \n",
       "3       125.889788       94.365704  \n",
       "4       116.646667       57.552910  \n",
       "5              NaN             NaN  "
      ]
     },
     "execution_count": 11,
     "metadata": {},
     "output_type": "execute_result"
    }
   ],
   "source": [
    "farther1"
   ]
  },
  {
   "cell_type": "code",
   "execution_count": 30,
   "metadata": {},
   "outputs": [
    {
     "name": "stdout",
     "output_type": "stream",
     "text": [
      "ttest_ind_from_stats: t = -6.10729  p = 1.06078e-09\n"
     ]
    }
   ],
   "source": [
    "t_test(farther1['MEAN_price_clea'].iloc[0],farther1['STD_price_clea'].iloc[0],farther1['Point_Count'].iloc[0],\n",
    "      farther1['MEAN_price_clea'].iloc[1],farther1['STD_price_clea'].iloc[1],farther1['Point_Count'].iloc[1])"
   ]
  },
  {
   "cell_type": "code",
   "execution_count": 31,
   "metadata": {},
   "outputs": [
    {
     "name": "stdout",
     "output_type": "stream",
     "text": [
      "ttest_ind_from_stats: t = -5.82297  p = 6.04021e-09\n"
     ]
    }
   ],
   "source": [
    "t_test(farther1['MEAN_price_clea'].iloc[0],farther1['STD_price_clea'].iloc[0],farther1['Point_Count'].iloc[0],\n",
    "      farther1['MEAN_price_clea'].iloc[2],farther1['STD_price_clea'].iloc[2],farther1['Point_Count'].iloc[2])"
   ]
  },
  {
   "cell_type": "code",
   "execution_count": 32,
   "metadata": {},
   "outputs": [
    {
     "name": "stdout",
     "output_type": "stream",
     "text": [
      "ttest_ind_from_stats: t = -5.72028  p = 1.15424e-08\n"
     ]
    }
   ],
   "source": [
    "t_test(farther1['MEAN_price_clea'].iloc[0],farther1['STD_price_clea'].iloc[0],farther1['Point_Count'].iloc[0],\n",
    "      farther1['MEAN_price_clea'].iloc[3],farther1['STD_price_clea'].iloc[1],farther1['Point_Count'].iloc[3])"
   ]
  },
  {
   "cell_type": "code",
   "execution_count": 33,
   "metadata": {},
   "outputs": [
    {
     "name": "stdout",
     "output_type": "stream",
     "text": [
      "ttest_ind_from_stats: t = -1.0983  p = 0.273592\n"
     ]
    }
   ],
   "source": [
    "t_test(farther1['MEAN_price_clea'].iloc[0],farther1['STD_price_clea'].iloc[0],farther1['Point_Count'].iloc[0],\n",
    "      farther1['MEAN_price_clea'].iloc[4],farther1['STD_price_clea'].iloc[4],farther1['Point_Count'].iloc[4])"
   ]
  },
  {
   "cell_type": "code",
   "execution_count": 35,
   "metadata": {},
   "outputs": [
    {
     "name": "stdout",
     "output_type": "stream",
     "text": [
      "ttest_ind_from_stats: t = 0.00455014  p = 0.99637\n"
     ]
    }
   ],
   "source": [
    "t_test(farther1['MEAN_price_clea'].iloc[1],farther1['STD_price_clea'].iloc[1],farther1['Point_Count'].iloc[1],\n",
    "      farther1['MEAN_price_clea'].iloc[2],farther1['STD_price_clea'].iloc[2],farther1['Point_Count'].iloc[2])"
   ]
  },
  {
   "cell_type": "code",
   "execution_count": 36,
   "metadata": {},
   "outputs": [
    {
     "name": "stdout",
     "output_type": "stream",
     "text": [
      "ttest_ind_from_stats: t = -1.08408  p = 0.278399\n"
     ]
    }
   ],
   "source": [
    "t_test(farther1['MEAN_price_clea'].iloc[1],farther1['STD_price_clea'].iloc[1],farther1['Point_Count'].iloc[1],\n",
    "      farther1['MEAN_price_clea'].iloc[3],farther1['STD_price_clea'].iloc[3],farther1['Point_Count'].iloc[3])"
   ]
  },
  {
   "cell_type": "code",
   "execution_count": 37,
   "metadata": {},
   "outputs": [
    {
     "name": "stdout",
     "output_type": "stream",
     "text": [
      "ttest_ind_from_stats: t = 1.32091  p = 0.188238\n"
     ]
    }
   ],
   "source": [
    "t_test(farther1['MEAN_price_clea'].iloc[1],farther1['STD_price_clea'].iloc[1],farther1['Point_Count'].iloc[1],\n",
    "      farther1['MEAN_price_clea'].iloc[4],farther1['STD_price_clea'].iloc[4],farther1['Point_Count'].iloc[4])"
   ]
  },
  {
   "cell_type": "code",
   "execution_count": 38,
   "metadata": {},
   "outputs": [
    {
     "name": "stdout",
     "output_type": "stream",
     "text": [
      "ttest_ind_from_stats: t = -1.05809  p = 0.290077\n"
     ]
    }
   ],
   "source": [
    "t_test(farther1['MEAN_price_clea'].iloc[2],farther1['STD_price_clea'].iloc[2],farther1['Point_Count'].iloc[2],\n",
    "      farther1['MEAN_price_clea'].iloc[3],farther1['STD_price_clea'].iloc[3],farther1['Point_Count'].iloc[3])"
   ]
  },
  {
   "cell_type": "code",
   "execution_count": 39,
   "metadata": {},
   "outputs": [
    {
     "name": "stdout",
     "output_type": "stream",
     "text": [
      "ttest_ind_from_stats: t = 1.32091  p = 0.188238\n"
     ]
    }
   ],
   "source": [
    "t_test(farther1['MEAN_price_clea'].iloc[1],farther1['STD_price_clea'].iloc[1],farther1['Point_Count'].iloc[1],\n",
    "      farther1['MEAN_price_clea'].iloc[4],farther1['STD_price_clea'].iloc[4],farther1['Point_Count'].iloc[4])"
   ]
  },
  {
   "cell_type": "code",
   "execution_count": 12,
   "metadata": {},
   "outputs": [
    {
     "data": {
      "text/html": [
       "<div>\n",
       "<style scoped>\n",
       "    .dataframe tbody tr th:only-of-type {\n",
       "        vertical-align: middle;\n",
       "    }\n",
       "\n",
       "    .dataframe tbody tr th {\n",
       "        vertical-align: top;\n",
       "    }\n",
       "\n",
       "    .dataframe thead th {\n",
       "        text-align: right;\n",
       "    }\n",
       "</style>\n",
       "<table border=\"1\" class=\"dataframe\">\n",
       "  <thead>\n",
       "    <tr style=\"text-align: right;\">\n",
       "      <th></th>\n",
       "      <th>Point_Count</th>\n",
       "      <th>Name</th>\n",
       "      <th>FromBreak</th>\n",
       "      <th>ToBreak</th>\n",
       "      <th>Selected_N</th>\n",
       "      <th>Prop_ID</th>\n",
       "      <th>Barbecue</th>\n",
       "      <th>Basketball</th>\n",
       "      <th>Dogfriend</th>\n",
       "      <th>Eateries</th>\n",
       "      <th>Playground</th>\n",
       "      <th>Tennis</th>\n",
       "      <th>skate</th>\n",
       "      <th>parknum</th>\n",
       "      <th>area</th>\n",
       "      <th>park_name</th>\n",
       "      <th>ORIG_FID</th>\n",
       "      <th>AnalysisArea</th>\n",
       "      <th>MEAN_price_clea</th>\n",
       "      <th>STD_price_clea</th>\n",
       "    </tr>\n",
       "  </thead>\n",
       "  <tbody>\n",
       "    <tr>\n",
       "      <th>0</th>\n",
       "      <td>45</td>\n",
       "      <td>Location 1 : 10 - 15</td>\n",
       "      <td>10.0</td>\n",
       "      <td>15.0</td>\n",
       "      <td>McCarren Park</td>\n",
       "      <td>B058</td>\n",
       "      <td>1</td>\n",
       "      <td>2</td>\n",
       "      <td>1</td>\n",
       "      <td>1</td>\n",
       "      <td>1</td>\n",
       "      <td>1</td>\n",
       "      <td>0</td>\n",
       "      <td>B058</td>\n",
       "      <td>0.192764</td>\n",
       "      <td>McCarren Park</td>\n",
       "      <td>4</td>\n",
       "      <td>0.720503</td>\n",
       "      <td>73.066667</td>\n",
       "      <td>29.252350</td>\n",
       "    </tr>\n",
       "    <tr>\n",
       "      <th>1</th>\n",
       "      <td>1494</td>\n",
       "      <td>Location 1 : 5 - 10</td>\n",
       "      <td>5.0</td>\n",
       "      <td>10.0</td>\n",
       "      <td>McCarren Park</td>\n",
       "      <td>B058</td>\n",
       "      <td>1</td>\n",
       "      <td>2</td>\n",
       "      <td>1</td>\n",
       "      <td>1</td>\n",
       "      <td>1</td>\n",
       "      <td>1</td>\n",
       "      <td>0</td>\n",
       "      <td>B058</td>\n",
       "      <td>0.192764</td>\n",
       "      <td>McCarren Park</td>\n",
       "      <td>4</td>\n",
       "      <td>0.456225</td>\n",
       "      <td>143.076975</td>\n",
       "      <td>86.980794</td>\n",
       "    </tr>\n",
       "    <tr>\n",
       "      <th>2</th>\n",
       "      <td>1076</td>\n",
       "      <td>Location 1 : 0 - 5</td>\n",
       "      <td>0.0</td>\n",
       "      <td>5.0</td>\n",
       "      <td>McCarren Park</td>\n",
       "      <td>B058</td>\n",
       "      <td>1</td>\n",
       "      <td>2</td>\n",
       "      <td>1</td>\n",
       "      <td>1</td>\n",
       "      <td>1</td>\n",
       "      <td>1</td>\n",
       "      <td>0</td>\n",
       "      <td>B058</td>\n",
       "      <td>0.192764</td>\n",
       "      <td>McCarren Park</td>\n",
       "      <td>4</td>\n",
       "      <td>0.159076</td>\n",
       "      <td>166.400558</td>\n",
       "      <td>82.001091</td>\n",
       "    </tr>\n",
       "  </tbody>\n",
       "</table>\n",
       "</div>"
      ],
      "text/plain": [
       "   Point_Count                  Name  FromBreak  ToBreak     Selected_N  \\\n",
       "0           45  Location 1 : 10 - 15       10.0     15.0  McCarren Park   \n",
       "1         1494   Location 1 : 5 - 10        5.0     10.0  McCarren Park   \n",
       "2         1076    Location 1 : 0 - 5        0.0      5.0  McCarren Park   \n",
       "\n",
       "  Prop_ID  Barbecue  Basketball  Dogfriend  Eateries  Playground  Tennis  \\\n",
       "0    B058         1           2          1         1           1       1   \n",
       "1    B058         1           2          1         1           1       1   \n",
       "2    B058         1           2          1         1           1       1   \n",
       "\n",
       "   skate parknum      area      park_name  ORIG_FID  AnalysisArea  \\\n",
       "0      0    B058  0.192764  McCarren Park         4      0.720503   \n",
       "1      0    B058  0.192764  McCarren Park         4      0.456225   \n",
       "2      0    B058  0.192764  McCarren Park         4      0.159076   \n",
       "\n",
       "   MEAN_price_clea  STD_price_clea  \n",
       "0        73.066667       29.252350  \n",
       "1       143.076975       86.980794  \n",
       "2       166.400558       82.001091  "
      ]
     },
     "execution_count": 12,
     "metadata": {},
     "output_type": "execute_result"
    }
   ],
   "source": [
    "greenpoint"
   ]
  },
  {
   "cell_type": "code",
   "execution_count": 40,
   "metadata": {},
   "outputs": [
    {
     "name": "stdout",
     "output_type": "stream",
     "text": [
      "ttest_ind_from_stats: t = -14.2672  p = 1.84635e-22\n"
     ]
    }
   ],
   "source": [
    "t_test(greenpoint['MEAN_price_clea'].iloc[0],greenpoint['STD_price_clea'].iloc[0],greenpoint['Point_Count'].iloc[0],\n",
    "      greenpoint['MEAN_price_clea'].iloc[1],greenpoint['STD_price_clea'].iloc[1],greenpoint['Point_Count'].iloc[1])"
   ]
  },
  {
   "cell_type": "code",
   "execution_count": 41,
   "metadata": {},
   "outputs": [
    {
     "name": "stdout",
     "output_type": "stream",
     "text": [
      "ttest_ind_from_stats: t = -18.5687  p = 3.15667e-30\n"
     ]
    }
   ],
   "source": [
    "t_test(greenpoint['MEAN_price_clea'].iloc[0],greenpoint['STD_price_clea'].iloc[0],greenpoint['Point_Count'].iloc[0],\n",
    "      greenpoint['MEAN_price_clea'].iloc[2],greenpoint['STD_price_clea'].iloc[2],greenpoint['Point_Count'].iloc[2])"
   ]
  },
  {
   "cell_type": "code",
   "execution_count": 42,
   "metadata": {},
   "outputs": [
    {
     "name": "stdout",
     "output_type": "stream",
     "text": [
      "ttest_ind_from_stats: t = -6.93428  p = 5.2338e-12\n"
     ]
    }
   ],
   "source": [
    "t_test(greenpoint['MEAN_price_clea'].iloc[1],greenpoint['STD_price_clea'].iloc[1],greenpoint['Point_Count'].iloc[1],\n",
    "      greenpoint['MEAN_price_clea'].iloc[2],greenpoint['STD_price_clea'].iloc[2],greenpoint['Point_Count'].iloc[2])"
   ]
  },
  {
   "cell_type": "code",
   "execution_count": 13,
   "metadata": {},
   "outputs": [
    {
     "data": {
      "text/html": [
       "<div>\n",
       "<style scoped>\n",
       "    .dataframe tbody tr th:only-of-type {\n",
       "        vertical-align: middle;\n",
       "    }\n",
       "\n",
       "    .dataframe tbody tr th {\n",
       "        vertical-align: top;\n",
       "    }\n",
       "\n",
       "    .dataframe thead th {\n",
       "        text-align: right;\n",
       "    }\n",
       "</style>\n",
       "<table border=\"1\" class=\"dataframe\">\n",
       "  <thead>\n",
       "    <tr style=\"text-align: right;\">\n",
       "      <th></th>\n",
       "      <th>Point_Count</th>\n",
       "      <th>Name</th>\n",
       "      <th>FromBreak</th>\n",
       "      <th>ToBreak</th>\n",
       "      <th>Selected_N</th>\n",
       "      <th>Prop_ID</th>\n",
       "      <th>Barbecue</th>\n",
       "      <th>Basketball</th>\n",
       "      <th>Dogfriend</th>\n",
       "      <th>Eateries</th>\n",
       "      <th>Playground</th>\n",
       "      <th>Tennis</th>\n",
       "      <th>skate</th>\n",
       "      <th>parknum</th>\n",
       "      <th>area</th>\n",
       "      <th>park_name</th>\n",
       "      <th>ORIG_FID</th>\n",
       "      <th>AnalysisArea</th>\n",
       "      <th>MEAN_price_clea</th>\n",
       "      <th>STD_price_clea</th>\n",
       "    </tr>\n",
       "  </thead>\n",
       "  <tbody>\n",
       "    <tr>\n",
       "      <th>0</th>\n",
       "      <td>180</td>\n",
       "      <td>Location 1 : 10 - 15</td>\n",
       "      <td>10.0</td>\n",
       "      <td>15.0</td>\n",
       "      <td>Washington Square Park</td>\n",
       "      <td>M098</td>\n",
       "      <td>0</td>\n",
       "      <td>0</td>\n",
       "      <td>1</td>\n",
       "      <td>2</td>\n",
       "      <td>1</td>\n",
       "      <td>0</td>\n",
       "      <td>0</td>\n",
       "      <td>M098</td>\n",
       "      <td>0.053019</td>\n",
       "      <td>Washington Square Park</td>\n",
       "      <td>5</td>\n",
       "      <td>0.808526</td>\n",
       "      <td>162.277778</td>\n",
       "      <td>90.570819</td>\n",
       "    </tr>\n",
       "    <tr>\n",
       "      <th>1</th>\n",
       "      <td>2763</td>\n",
       "      <td>Location 1 : 5 - 10</td>\n",
       "      <td>5.0</td>\n",
       "      <td>10.0</td>\n",
       "      <td>Washington Square Park</td>\n",
       "      <td>M098</td>\n",
       "      <td>0</td>\n",
       "      <td>0</td>\n",
       "      <td>1</td>\n",
       "      <td>2</td>\n",
       "      <td>1</td>\n",
       "      <td>0</td>\n",
       "      <td>0</td>\n",
       "      <td>M098</td>\n",
       "      <td>0.053019</td>\n",
       "      <td>Washington Square Park</td>\n",
       "      <td>5</td>\n",
       "      <td>0.492685</td>\n",
       "      <td>222.560623</td>\n",
       "      <td>123.091435</td>\n",
       "    </tr>\n",
       "    <tr>\n",
       "      <th>2</th>\n",
       "      <td>2180</td>\n",
       "      <td>Location 1 : 0 - 5</td>\n",
       "      <td>0.0</td>\n",
       "      <td>5.0</td>\n",
       "      <td>Washington Square Park</td>\n",
       "      <td>M098</td>\n",
       "      <td>0</td>\n",
       "      <td>0</td>\n",
       "      <td>1</td>\n",
       "      <td>2</td>\n",
       "      <td>1</td>\n",
       "      <td>0</td>\n",
       "      <td>0</td>\n",
       "      <td>M098</td>\n",
       "      <td>0.053019</td>\n",
       "      <td>Washington Square Park</td>\n",
       "      <td>5</td>\n",
       "      <td>0.187214</td>\n",
       "      <td>204.200000</td>\n",
       "      <td>109.178939</td>\n",
       "    </tr>\n",
       "  </tbody>\n",
       "</table>\n",
       "</div>"
      ],
      "text/plain": [
       "   Point_Count                  Name  FromBreak  ToBreak  \\\n",
       "0          180  Location 1 : 10 - 15       10.0     15.0   \n",
       "1         2763   Location 1 : 5 - 10        5.0     10.0   \n",
       "2         2180    Location 1 : 0 - 5        0.0      5.0   \n",
       "\n",
       "               Selected_N Prop_ID  Barbecue  Basketball  Dogfriend  Eateries  \\\n",
       "0  Washington Square Park    M098         0           0          1         2   \n",
       "1  Washington Square Park    M098         0           0          1         2   \n",
       "2  Washington Square Park    M098         0           0          1         2   \n",
       "\n",
       "   Playground  Tennis  skate parknum      area               park_name  \\\n",
       "0           1       0      0    M098  0.053019  Washington Square Park   \n",
       "1           1       0      0    M098  0.053019  Washington Square Park   \n",
       "2           1       0      0    M098  0.053019  Washington Square Park   \n",
       "\n",
       "   ORIG_FID  AnalysisArea  MEAN_price_clea  STD_price_clea  \n",
       "0         5      0.808526       162.277778       90.570819  \n",
       "1         5      0.492685       222.560623      123.091435  \n",
       "2         5      0.187214       204.200000      109.178939  "
      ]
     },
     "execution_count": 13,
     "metadata": {},
     "output_type": "execute_result"
    }
   ],
   "source": [
    "w4"
   ]
  },
  {
   "cell_type": "code",
   "execution_count": null,
   "metadata": {},
   "outputs": [],
   "source": [
    "t_test(w4['MEAN_price_clea'].iloc[0],w4['STD_price_clea'].iloc[0],w4['Point_Count'].iloc[0],\n",
    "      w4['MEAN_price_clea'].iloc[1],w4['STD_price_clea'].iloc[1],w4['Point_Count'].iloc[1])"
   ]
  },
  {
   "cell_type": "code",
   "execution_count": 43,
   "metadata": {},
   "outputs": [
    {
     "name": "stdout",
     "output_type": "stream",
     "text": [
      "ttest_ind_from_stats: t = -5.86795  p = 1.5723e-08\n"
     ]
    }
   ],
   "source": [
    "t_test(w4['MEAN_price_clea'].iloc[0],w4['STD_price_clea'].iloc[0],w4['Point_Count'].iloc[0],\n",
    "      w4['MEAN_price_clea'].iloc[2],w4['STD_price_clea'].iloc[2],w4['Point_Count'].iloc[2])"
   ]
  },
  {
   "cell_type": "code",
   "execution_count": 44,
   "metadata": {},
   "outputs": [
    {
     "name": "stdout",
     "output_type": "stream",
     "text": [
      "ttest_ind_from_stats: t = 5.54815  p = 3.03969e-08\n"
     ]
    }
   ],
   "source": [
    "t_test(w4['MEAN_price_clea'].iloc[1],w4['STD_price_clea'].iloc[1],w4['Point_Count'].iloc[1],\n",
    "      w4['MEAN_price_clea'].iloc[2],w4['STD_price_clea'].iloc[2],w4['Point_Count'].iloc[2])"
   ]
  },
  {
   "cell_type": "code",
   "execution_count": 14,
   "metadata": {},
   "outputs": [
    {
     "data": {
      "text/html": [
       "<div>\n",
       "<style scoped>\n",
       "    .dataframe tbody tr th:only-of-type {\n",
       "        vertical-align: middle;\n",
       "    }\n",
       "\n",
       "    .dataframe tbody tr th {\n",
       "        vertical-align: top;\n",
       "    }\n",
       "\n",
       "    .dataframe thead th {\n",
       "        text-align: right;\n",
       "    }\n",
       "</style>\n",
       "<table border=\"1\" class=\"dataframe\">\n",
       "  <thead>\n",
       "    <tr style=\"text-align: right;\">\n",
       "      <th></th>\n",
       "      <th>Point_Count</th>\n",
       "      <th>Name</th>\n",
       "      <th>FromBreak</th>\n",
       "      <th>ToBreak</th>\n",
       "      <th>Selected_N</th>\n",
       "      <th>Prop_ID</th>\n",
       "      <th>Barbecue</th>\n",
       "      <th>Basketball</th>\n",
       "      <th>Dogfriend</th>\n",
       "      <th>Eateries</th>\n",
       "      <th>Playground</th>\n",
       "      <th>Tennis</th>\n",
       "      <th>skate</th>\n",
       "      <th>parknum</th>\n",
       "      <th>area</th>\n",
       "      <th>park_name</th>\n",
       "      <th>ORIG_FID</th>\n",
       "      <th>AnalysisArea</th>\n",
       "      <th>MEAN_price_clea</th>\n",
       "      <th>STD_price_clea</th>\n",
       "    </tr>\n",
       "  </thead>\n",
       "  <tbody>\n",
       "    <tr>\n",
       "      <th>0</th>\n",
       "      <td>1891</td>\n",
       "      <td>Location 1 : 10 - 15</td>\n",
       "      <td>10.0</td>\n",
       "      <td>15.0</td>\n",
       "      <td>Fort Greene Park</td>\n",
       "      <td>B032</td>\n",
       "      <td>1</td>\n",
       "      <td>1</td>\n",
       "      <td>1</td>\n",
       "      <td>0</td>\n",
       "      <td>2</td>\n",
       "      <td>1</td>\n",
       "      <td>0</td>\n",
       "      <td>B032</td>\n",
       "      <td>0.16046</td>\n",
       "      <td>Fort Greene Park</td>\n",
       "      <td>2</td>\n",
       "      <td>0.657860</td>\n",
       "      <td>147.907456</td>\n",
       "      <td>90.379075</td>\n",
       "    </tr>\n",
       "    <tr>\n",
       "      <th>1</th>\n",
       "      <td>1290</td>\n",
       "      <td>Location 1 : 5 - 10</td>\n",
       "      <td>5.0</td>\n",
       "      <td>10.0</td>\n",
       "      <td>Fort Greene Park</td>\n",
       "      <td>B032</td>\n",
       "      <td>1</td>\n",
       "      <td>1</td>\n",
       "      <td>1</td>\n",
       "      <td>0</td>\n",
       "      <td>2</td>\n",
       "      <td>1</td>\n",
       "      <td>0</td>\n",
       "      <td>B032</td>\n",
       "      <td>0.16046</td>\n",
       "      <td>Fort Greene Park</td>\n",
       "      <td>2</td>\n",
       "      <td>0.401049</td>\n",
       "      <td>149.396124</td>\n",
       "      <td>86.386338</td>\n",
       "    </tr>\n",
       "    <tr>\n",
       "      <th>2</th>\n",
       "      <td>191</td>\n",
       "      <td>Location 1 : 0 - 5</td>\n",
       "      <td>0.0</td>\n",
       "      <td>5.0</td>\n",
       "      <td>Fort Greene Park</td>\n",
       "      <td>B032</td>\n",
       "      <td>1</td>\n",
       "      <td>1</td>\n",
       "      <td>1</td>\n",
       "      <td>0</td>\n",
       "      <td>2</td>\n",
       "      <td>1</td>\n",
       "      <td>0</td>\n",
       "      <td>B032</td>\n",
       "      <td>0.16046</td>\n",
       "      <td>Fort Greene Park</td>\n",
       "      <td>2</td>\n",
       "      <td>0.092949</td>\n",
       "      <td>158.979058</td>\n",
       "      <td>142.025459</td>\n",
       "    </tr>\n",
       "  </tbody>\n",
       "</table>\n",
       "</div>"
      ],
      "text/plain": [
       "   Point_Count                  Name  FromBreak  ToBreak        Selected_N  \\\n",
       "0         1891  Location 1 : 10 - 15       10.0     15.0  Fort Greene Park   \n",
       "1         1290   Location 1 : 5 - 10        5.0     10.0  Fort Greene Park   \n",
       "2          191    Location 1 : 0 - 5        0.0      5.0  Fort Greene Park   \n",
       "\n",
       "  Prop_ID  Barbecue  Basketball  Dogfriend  Eateries  Playground  Tennis  \\\n",
       "0    B032         1           1          1         0           2       1   \n",
       "1    B032         1           1          1         0           2       1   \n",
       "2    B032         1           1          1         0           2       1   \n",
       "\n",
       "   skate parknum     area         park_name  ORIG_FID  AnalysisArea  \\\n",
       "0      0    B032  0.16046  Fort Greene Park         2      0.657860   \n",
       "1      0    B032  0.16046  Fort Greene Park         2      0.401049   \n",
       "2      0    B032  0.16046  Fort Greene Park         2      0.092949   \n",
       "\n",
       "   MEAN_price_clea  STD_price_clea  \n",
       "0       147.907456       90.379075  \n",
       "1       149.396124       86.386338  \n",
       "2       158.979058      142.025459  "
      ]
     },
     "execution_count": 14,
     "metadata": {},
     "output_type": "execute_result"
    }
   ],
   "source": [
    "br"
   ]
  },
  {
   "cell_type": "code",
   "execution_count": 45,
   "metadata": {},
   "outputs": [
    {
     "name": "stdout",
     "output_type": "stream",
     "text": [
      "ttest_ind_from_stats: t = -0.468316  p = 0.639595\n"
     ]
    }
   ],
   "source": [
    "t_test(br['MEAN_price_clea'].iloc[0],br['STD_price_clea'].iloc[0],br['Point_Count'].iloc[0],\n",
    "      br['MEAN_price_clea'].iloc[1],br['STD_price_clea'].iloc[1],br['Point_Count'].iloc[1])"
   ]
  },
  {
   "cell_type": "code",
   "execution_count": 46,
   "metadata": {},
   "outputs": [
    {
     "name": "stdout",
     "output_type": "stream",
     "text": [
      "ttest_ind_from_stats: t = -1.05598  p = 0.292215\n"
     ]
    }
   ],
   "source": [
    "t_test(br['MEAN_price_clea'].iloc[0],br['STD_price_clea'].iloc[0],br['Point_Count'].iloc[0],\n",
    "      br['MEAN_price_clea'].iloc[2],br['STD_price_clea'].iloc[2],br['Point_Count'].iloc[2])"
   ]
  },
  {
   "cell_type": "code",
   "execution_count": 47,
   "metadata": {},
   "outputs": [
    {
     "name": "stdout",
     "output_type": "stream",
     "text": [
      "ttest_ind_from_stats: t = -0.907964  p = 0.364932\n"
     ]
    }
   ],
   "source": [
    "t_test(br['MEAN_price_clea'].iloc[1],br['STD_price_clea'].iloc[1],br['Point_Count'].iloc[1],\n",
    "      br['MEAN_price_clea'].iloc[2],br['STD_price_clea'].iloc[2],br['Point_Count'].iloc[2])"
   ]
  },
  {
   "cell_type": "code",
   "execution_count": 15,
   "metadata": {},
   "outputs": [
    {
     "data": {
      "text/html": [
       "<div>\n",
       "<style scoped>\n",
       "    .dataframe tbody tr th:only-of-type {\n",
       "        vertical-align: middle;\n",
       "    }\n",
       "\n",
       "    .dataframe tbody tr th {\n",
       "        vertical-align: top;\n",
       "    }\n",
       "\n",
       "    .dataframe thead th {\n",
       "        text-align: right;\n",
       "    }\n",
       "</style>\n",
       "<table border=\"1\" class=\"dataframe\">\n",
       "  <thead>\n",
       "    <tr style=\"text-align: right;\">\n",
       "      <th></th>\n",
       "      <th>Point_Count</th>\n",
       "      <th>Name</th>\n",
       "      <th>FromBreak</th>\n",
       "      <th>ToBreak</th>\n",
       "      <th>Selected_N</th>\n",
       "      <th>Prop_ID</th>\n",
       "      <th>Barbecue</th>\n",
       "      <th>Basketball</th>\n",
       "      <th>Dogfriend</th>\n",
       "      <th>Eateries</th>\n",
       "      <th>Playground</th>\n",
       "      <th>Tennis</th>\n",
       "      <th>skate</th>\n",
       "      <th>parknum</th>\n",
       "      <th>area</th>\n",
       "      <th>park_name</th>\n",
       "      <th>ORIG_FID</th>\n",
       "      <th>AnalysisArea</th>\n",
       "      <th>MEAN_price_clea</th>\n",
       "      <th>STD_price_clea</th>\n",
       "    </tr>\n",
       "  </thead>\n",
       "  <tbody>\n",
       "    <tr>\n",
       "      <th>0</th>\n",
       "      <td>0</td>\n",
       "      <td>Location 1 : 25 - 30</td>\n",
       "      <td>25.0</td>\n",
       "      <td>30.0</td>\n",
       "      <td>Park Of The Americas</td>\n",
       "      <td>Q026</td>\n",
       "      <td>0</td>\n",
       "      <td>1</td>\n",
       "      <td>0</td>\n",
       "      <td>1</td>\n",
       "      <td>1</td>\n",
       "      <td>0</td>\n",
       "      <td>0</td>\n",
       "      <td>Q026</td>\n",
       "      <td>0.016936</td>\n",
       "      <td>Park Of The Americas</td>\n",
       "      <td>7</td>\n",
       "      <td>1.531628</td>\n",
       "      <td>NaN</td>\n",
       "      <td>NaN</td>\n",
       "    </tr>\n",
       "    <tr>\n",
       "      <th>1</th>\n",
       "      <td>0</td>\n",
       "      <td>Location 1 : 20 - 25</td>\n",
       "      <td>20.0</td>\n",
       "      <td>25.0</td>\n",
       "      <td>Park Of The Americas</td>\n",
       "      <td>Q026</td>\n",
       "      <td>0</td>\n",
       "      <td>1</td>\n",
       "      <td>0</td>\n",
       "      <td>1</td>\n",
       "      <td>1</td>\n",
       "      <td>0</td>\n",
       "      <td>0</td>\n",
       "      <td>Q026</td>\n",
       "      <td>0.016936</td>\n",
       "      <td>Park Of The Americas</td>\n",
       "      <td>7</td>\n",
       "      <td>1.206592</td>\n",
       "      <td>NaN</td>\n",
       "      <td>NaN</td>\n",
       "    </tr>\n",
       "    <tr>\n",
       "      <th>2</th>\n",
       "      <td>10</td>\n",
       "      <td>Location 1 : 15 - 20</td>\n",
       "      <td>15.0</td>\n",
       "      <td>20.0</td>\n",
       "      <td>Park Of The Americas</td>\n",
       "      <td>Q026</td>\n",
       "      <td>0</td>\n",
       "      <td>1</td>\n",
       "      <td>0</td>\n",
       "      <td>1</td>\n",
       "      <td>1</td>\n",
       "      <td>0</td>\n",
       "      <td>0</td>\n",
       "      <td>Q026</td>\n",
       "      <td>0.016936</td>\n",
       "      <td>Park Of The Americas</td>\n",
       "      <td>7</td>\n",
       "      <td>0.964748</td>\n",
       "      <td>85.000000</td>\n",
       "      <td>35.590261</td>\n",
       "    </tr>\n",
       "    <tr>\n",
       "      <th>3</th>\n",
       "      <td>107</td>\n",
       "      <td>Location 1 : 10 - 15</td>\n",
       "      <td>10.0</td>\n",
       "      <td>15.0</td>\n",
       "      <td>Park Of The Americas</td>\n",
       "      <td>Q026</td>\n",
       "      <td>0</td>\n",
       "      <td>1</td>\n",
       "      <td>0</td>\n",
       "      <td>1</td>\n",
       "      <td>1</td>\n",
       "      <td>0</td>\n",
       "      <td>0</td>\n",
       "      <td>Q026</td>\n",
       "      <td>0.016936</td>\n",
       "      <td>Park Of The Americas</td>\n",
       "      <td>7</td>\n",
       "      <td>0.722948</td>\n",
       "      <td>86.093458</td>\n",
       "      <td>34.146337</td>\n",
       "    </tr>\n",
       "    <tr>\n",
       "      <th>4</th>\n",
       "      <td>79</td>\n",
       "      <td>Location 1 : 5 - 10</td>\n",
       "      <td>5.0</td>\n",
       "      <td>10.0</td>\n",
       "      <td>Park Of The Americas</td>\n",
       "      <td>Q026</td>\n",
       "      <td>0</td>\n",
       "      <td>1</td>\n",
       "      <td>0</td>\n",
       "      <td>1</td>\n",
       "      <td>1</td>\n",
       "      <td>0</td>\n",
       "      <td>0</td>\n",
       "      <td>Q026</td>\n",
       "      <td>0.016936</td>\n",
       "      <td>Park Of The Americas</td>\n",
       "      <td>7</td>\n",
       "      <td>0.465889</td>\n",
       "      <td>40.189873</td>\n",
       "      <td>8.258758</td>\n",
       "    </tr>\n",
       "    <tr>\n",
       "      <th>5</th>\n",
       "      <td>91</td>\n",
       "      <td>Location 1 : 0 - 5</td>\n",
       "      <td>0.0</td>\n",
       "      <td>5.0</td>\n",
       "      <td>Park Of The Americas</td>\n",
       "      <td>Q026</td>\n",
       "      <td>0</td>\n",
       "      <td>1</td>\n",
       "      <td>0</td>\n",
       "      <td>1</td>\n",
       "      <td>1</td>\n",
       "      <td>0</td>\n",
       "      <td>0</td>\n",
       "      <td>Q026</td>\n",
       "      <td>0.016936</td>\n",
       "      <td>Park Of The Americas</td>\n",
       "      <td>7</td>\n",
       "      <td>0.162449</td>\n",
       "      <td>56.252747</td>\n",
       "      <td>48.637570</td>\n",
       "    </tr>\n",
       "  </tbody>\n",
       "</table>\n",
       "</div>"
      ],
      "text/plain": [
       "   Point_Count                  Name  FromBreak  ToBreak  \\\n",
       "0            0  Location 1 : 25 - 30       25.0     30.0   \n",
       "1            0  Location 1 : 20 - 25       20.0     25.0   \n",
       "2           10  Location 1 : 15 - 20       15.0     20.0   \n",
       "3          107  Location 1 : 10 - 15       10.0     15.0   \n",
       "4           79   Location 1 : 5 - 10        5.0     10.0   \n",
       "5           91    Location 1 : 0 - 5        0.0      5.0   \n",
       "\n",
       "             Selected_N Prop_ID  Barbecue  Basketball  Dogfriend  Eateries  \\\n",
       "0  Park Of The Americas    Q026         0           1          0         1   \n",
       "1  Park Of The Americas    Q026         0           1          0         1   \n",
       "2  Park Of The Americas    Q026         0           1          0         1   \n",
       "3  Park Of The Americas    Q026         0           1          0         1   \n",
       "4  Park Of The Americas    Q026         0           1          0         1   \n",
       "5  Park Of The Americas    Q026         0           1          0         1   \n",
       "\n",
       "   Playground  Tennis  skate parknum      area             park_name  \\\n",
       "0           1       0      0    Q026  0.016936  Park Of The Americas   \n",
       "1           1       0      0    Q026  0.016936  Park Of The Americas   \n",
       "2           1       0      0    Q026  0.016936  Park Of The Americas   \n",
       "3           1       0      0    Q026  0.016936  Park Of The Americas   \n",
       "4           1       0      0    Q026  0.016936  Park Of The Americas   \n",
       "5           1       0      0    Q026  0.016936  Park Of The Americas   \n",
       "\n",
       "   ORIG_FID  AnalysisArea  MEAN_price_clea  STD_price_clea  \n",
       "0         7      1.531628              NaN             NaN  \n",
       "1         7      1.206592              NaN             NaN  \n",
       "2         7      0.964748        85.000000       35.590261  \n",
       "3         7      0.722948        86.093458       34.146337  \n",
       "4         7      0.465889        40.189873        8.258758  \n",
       "5         7      0.162449        56.252747       48.637570  "
      ]
     },
     "execution_count": 15,
     "metadata": {},
     "output_type": "execute_result"
    }
   ],
   "source": [
    "qn"
   ]
  },
  {
   "cell_type": "code",
   "execution_count": 48,
   "metadata": {},
   "outputs": [
    {
     "name": "stdout",
     "output_type": "stream",
     "text": [
      "ttest_ind_from_stats: t = -0.0932288  p = 0.927459\n"
     ]
    }
   ],
   "source": [
    "t_test(qn['MEAN_price_clea'].iloc[2],qn['STD_price_clea'].iloc[2],qn['Point_Count'].iloc[2],\n",
    "      qn['MEAN_price_clea'].iloc[3],qn['STD_price_clea'].iloc[3],qn['Point_Count'].iloc[3])"
   ]
  },
  {
   "cell_type": "code",
   "execution_count": 49,
   "metadata": {},
   "outputs": [
    {
     "name": "stdout",
     "output_type": "stream",
     "text": [
      "ttest_ind_from_stats: t = 3.96798  p = 0.00317779\n"
     ]
    }
   ],
   "source": [
    "t_test(qn['MEAN_price_clea'].iloc[2],qn['STD_price_clea'].iloc[2],qn['Point_Count'].iloc[2],\n",
    "      qn['MEAN_price_clea'].iloc[4],qn['STD_price_clea'].iloc[4],qn['Point_Count'].iloc[4])"
   ]
  },
  {
   "cell_type": "code",
   "execution_count": 50,
   "metadata": {},
   "outputs": [
    {
     "name": "stdout",
     "output_type": "stream",
     "text": [
      "ttest_ind_from_stats: t = 2.32665  p = 0.0367663\n"
     ]
    }
   ],
   "source": [
    "t_test(qn['MEAN_price_clea'].iloc[2],qn['STD_price_clea'].iloc[2],qn['Point_Count'].iloc[2],\n",
    "      qn['MEAN_price_clea'].iloc[5],qn['STD_price_clea'].iloc[5],qn['Point_Count'].iloc[5])"
   ]
  },
  {
   "cell_type": "code",
   "execution_count": 51,
   "metadata": {},
   "outputs": [
    {
     "name": "stdout",
     "output_type": "stream",
     "text": [
      "ttest_ind_from_stats: t = 13.3856  p = 9.99967e-26\n"
     ]
    }
   ],
   "source": [
    "t_test(qn['MEAN_price_clea'].iloc[3],qn['STD_price_clea'].iloc[3],qn['Point_Count'].iloc[3],\n",
    "      qn['MEAN_price_clea'].iloc[4],qn['STD_price_clea'].iloc[4],qn['Point_Count'].iloc[4])"
   ]
  },
  {
   "cell_type": "code",
   "execution_count": 52,
   "metadata": {},
   "outputs": [
    {
     "name": "stdout",
     "output_type": "stream",
     "text": [
      "ttest_ind_from_stats: t = 4.91291  p = 2.2266e-06\n"
     ]
    }
   ],
   "source": [
    "t_test(qn['MEAN_price_clea'].iloc[3],qn['STD_price_clea'].iloc[3],qn['Point_Count'].iloc[3],\n",
    "      qn['MEAN_price_clea'].iloc[5],qn['STD_price_clea'].iloc[5],qn['Point_Count'].iloc[5])"
   ]
  },
  {
   "cell_type": "code",
   "execution_count": 53,
   "metadata": {},
   "outputs": [
    {
     "name": "stdout",
     "output_type": "stream",
     "text": [
      "ttest_ind_from_stats: t = -3.0994  p = 0.00254484\n"
     ]
    }
   ],
   "source": [
    "t_test(qn['MEAN_price_clea'].iloc[4],qn['STD_price_clea'].iloc[4],qn['Point_Count'].iloc[4],\n",
    "      qn['MEAN_price_clea'].iloc[5],qn['STD_price_clea'].iloc[5],qn['Point_Count'].iloc[5])"
   ]
  }
 ],
 "metadata": {
  "kernelspec": {
   "display_name": "ADS",
   "language": "python",
   "name": "ads"
  },
  "language_info": {
   "codemirror_mode": {
    "name": "ipython",
    "version": 3
   },
   "file_extension": ".py",
   "mimetype": "text/x-python",
   "name": "python",
   "nbconvert_exporter": "python",
   "pygments_lexer": "ipython3",
   "version": "3.5.0"
  }
 },
 "nbformat": 4,
 "nbformat_minor": 2
}
