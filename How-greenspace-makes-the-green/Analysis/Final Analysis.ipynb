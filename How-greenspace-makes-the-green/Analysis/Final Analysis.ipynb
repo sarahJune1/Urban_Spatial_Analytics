{
 "cells": [
  {
   "cell_type": "markdown",
   "metadata": {},
   "source": [
    "# Purpose:\n",
    "This notebook analyzes the combined AirBnb, Park, and Demographic data and attempts to isolate the effect of an AirBnB's proximity to a park on its rental price\n",
    "\n",
    "The order of the notebook is:\n",
    "- Prep\n",
    "- EDA and Outliers\n",
    "- Feature Creation\n",
    "- Analysis"
   ]
  },
  {
   "cell_type": "markdown",
   "metadata": {},
   "source": [
    "# Prep"
   ]
  },
  {
   "cell_type": "code",
   "execution_count": 483,
   "metadata": {
    "collapsed": false,
    "scrolled": true
   },
   "outputs": [],
   "source": [
    "# Packages\n",
    "\n",
    "import pandas as pd\n",
    "import matplotlib.pyplot as plt\n",
    "%matplotlib inline\n",
    "import numpy as np\n",
    "import seaborn as sns\n",
    "import os\n",
    "import zipfile\n",
    "\n",
    "from sklearn.cross_validation import train_test_split\n",
    "from sklearn.linear_model import LinearRegression\n",
    "from sklearn.linear_model import Ridge\n",
    "from sklearn.linear_model import Lasso\n",
    "import statsmodels.formula.api as smf"
   ]
  },
  {
   "cell_type": "code",
   "execution_count": 484,
   "metadata": {
    "collapsed": false,
    "scrolled": true
   },
   "outputs": [
    {
     "data": {
      "text/html": [
       "<div>\n",
       "<style>\n",
       "    .dataframe thead tr:only-child th {\n",
       "        text-align: right;\n",
       "    }\n",
       "\n",
       "    .dataframe thead th {\n",
       "        text-align: left;\n",
       "    }\n",
       "\n",
       "    .dataframe tbody tr th {\n",
       "        vertical-align: top;\n",
       "    }\n",
       "</style>\n",
       "<table border=\"1\" class=\"dataframe\">\n",
       "  <thead>\n",
       "    <tr style=\"text-align: right;\">\n",
       "      <th></th>\n",
       "      <th>Unnamed: 0</th>\n",
       "      <th>Unnamed__0</th>\n",
       "      <th>id</th>\n",
       "      <th>listing_ur</th>\n",
       "      <th>name</th>\n",
       "      <th>interactio</th>\n",
       "      <th>host_since</th>\n",
       "      <th>host_is_su</th>\n",
       "      <th>host_ident</th>\n",
       "      <th>neighbourh</th>\n",
       "      <th>...</th>\n",
       "      <th>Basketball</th>\n",
       "      <th>Dogfriend</th>\n",
       "      <th>Eateries</th>\n",
       "      <th>Playground</th>\n",
       "      <th>Tennis</th>\n",
       "      <th>skate</th>\n",
       "      <th>parknum</th>\n",
       "      <th>area</th>\n",
       "      <th>park_name</th>\n",
       "      <th>geometry_y</th>\n",
       "    </tr>\n",
       "  </thead>\n",
       "  <tbody>\n",
       "    <tr>\n",
       "      <th>0</th>\n",
       "      <td>0</td>\n",
       "      <td>348657</td>\n",
       "      <td>3185840</td>\n",
       "      <td>https://www.airbnb.com/rooms/3185840</td>\n",
       "      <td>Cozy Room in Lefferts Gardens!</td>\n",
       "      <td>We are both working professionals who travel q...</td>\n",
       "      <td>2014-05-21</td>\n",
       "      <td>f</td>\n",
       "      <td>t</td>\n",
       "      <td>Prospect-Lefferts Gardens</td>\n",
       "      <td>...</td>\n",
       "      <td>0</td>\n",
       "      <td>1</td>\n",
       "      <td>1</td>\n",
       "      <td>7</td>\n",
       "      <td>1</td>\n",
       "      <td>1</td>\n",
       "      <td>B073</td>\n",
       "      <td>2.523662</td>\n",
       "      <td>Prospect Park</td>\n",
       "      <td>POLYGON ((-73.96922134886606 40.67237187453492...</td>\n",
       "    </tr>\n",
       "    <tr>\n",
       "      <th>1</th>\n",
       "      <td>1</td>\n",
       "      <td>348780</td>\n",
       "      <td>3272610</td>\n",
       "      <td>https://www.airbnb.com/rooms/3272610</td>\n",
       "      <td>Beautiful 1BD on Prospect Park</td>\n",
       "      <td>NaN</td>\n",
       "      <td>2013-07-01</td>\n",
       "      <td>f</td>\n",
       "      <td>t</td>\n",
       "      <td>Prospect-Lefferts Gardens</td>\n",
       "      <td>...</td>\n",
       "      <td>0</td>\n",
       "      <td>1</td>\n",
       "      <td>1</td>\n",
       "      <td>7</td>\n",
       "      <td>1</td>\n",
       "      <td>1</td>\n",
       "      <td>B073</td>\n",
       "      <td>2.523662</td>\n",
       "      <td>Prospect Park</td>\n",
       "      <td>POLYGON ((-73.96922134886606 40.67237187453492...</td>\n",
       "    </tr>\n",
       "    <tr>\n",
       "      <th>2</th>\n",
       "      <td>2</td>\n",
       "      <td>349723</td>\n",
       "      <td>3857180</td>\n",
       "      <td>https://www.airbnb.com/rooms/3857180</td>\n",
       "      <td>Parkside Brooklyn Artist Apartment!</td>\n",
       "      <td>We want you to enjoy your stay so feel free to...</td>\n",
       "      <td>2012-10-14</td>\n",
       "      <td>f</td>\n",
       "      <td>f</td>\n",
       "      <td>Prospect-Lefferts Gardens</td>\n",
       "      <td>...</td>\n",
       "      <td>0</td>\n",
       "      <td>1</td>\n",
       "      <td>1</td>\n",
       "      <td>7</td>\n",
       "      <td>1</td>\n",
       "      <td>1</td>\n",
       "      <td>B073</td>\n",
       "      <td>2.523662</td>\n",
       "      <td>Prospect Park</td>\n",
       "      <td>POLYGON ((-73.96922134886606 40.67237187453492...</td>\n",
       "    </tr>\n",
       "    <tr>\n",
       "      <th>3</th>\n",
       "      <td>3</td>\n",
       "      <td>351448</td>\n",
       "      <td>4756551</td>\n",
       "      <td>https://www.airbnb.com/rooms/4756551</td>\n",
       "      <td>Bedroom w/Private Bath</td>\n",
       "      <td>I work from my home office and have a flexible...</td>\n",
       "      <td>2012-11-01</td>\n",
       "      <td>t</td>\n",
       "      <td>t</td>\n",
       "      <td>Prospect-Lefferts Gardens</td>\n",
       "      <td>...</td>\n",
       "      <td>0</td>\n",
       "      <td>1</td>\n",
       "      <td>1</td>\n",
       "      <td>7</td>\n",
       "      <td>1</td>\n",
       "      <td>1</td>\n",
       "      <td>B073</td>\n",
       "      <td>2.523662</td>\n",
       "      <td>Prospect Park</td>\n",
       "      <td>POLYGON ((-73.96922134886606 40.67237187453492...</td>\n",
       "    </tr>\n",
       "    <tr>\n",
       "      <th>4</th>\n",
       "      <td>4</td>\n",
       "      <td>351602</td>\n",
       "      <td>4810558</td>\n",
       "      <td>https://www.airbnb.com/rooms/4810558</td>\n",
       "      <td>Cozy apartment right on the park</td>\n",
       "      <td>NaN</td>\n",
       "      <td>2014-10-04</td>\n",
       "      <td>f</td>\n",
       "      <td>t</td>\n",
       "      <td>Prospect-Lefferts Gardens</td>\n",
       "      <td>...</td>\n",
       "      <td>0</td>\n",
       "      <td>1</td>\n",
       "      <td>1</td>\n",
       "      <td>7</td>\n",
       "      <td>1</td>\n",
       "      <td>1</td>\n",
       "      <td>B073</td>\n",
       "      <td>2.523662</td>\n",
       "      <td>Prospect Park</td>\n",
       "      <td>POLYGON ((-73.96922134886606 40.67237187453492...</td>\n",
       "    </tr>\n",
       "  </tbody>\n",
       "</table>\n",
       "<p>5 rows × 64 columns</p>\n",
       "</div>"
      ],
      "text/plain": [
       "   Unnamed: 0  Unnamed__0       id                            listing_ur  \\\n",
       "0           0      348657  3185840  https://www.airbnb.com/rooms/3185840   \n",
       "1           1      348780  3272610  https://www.airbnb.com/rooms/3272610   \n",
       "2           2      349723  3857180  https://www.airbnb.com/rooms/3857180   \n",
       "3           3      351448  4756551  https://www.airbnb.com/rooms/4756551   \n",
       "4           4      351602  4810558  https://www.airbnb.com/rooms/4810558   \n",
       "\n",
       "                                  name  \\\n",
       "0       Cozy Room in Lefferts Gardens!   \n",
       "1       Beautiful 1BD on Prospect Park   \n",
       "2  Parkside Brooklyn Artist Apartment!   \n",
       "3               Bedroom w/Private Bath   \n",
       "4     Cozy apartment right on the park   \n",
       "\n",
       "                                          interactio  host_since host_is_su  \\\n",
       "0  We are both working professionals who travel q...  2014-05-21          f   \n",
       "1                                                NaN  2013-07-01          f   \n",
       "2  We want you to enjoy your stay so feel free to...  2012-10-14          f   \n",
       "3  I work from my home office and have a flexible...  2012-11-01          t   \n",
       "4                                                NaN  2014-10-04          f   \n",
       "\n",
       "  host_ident                 neighbourh  \\\n",
       "0          t  Prospect-Lefferts Gardens   \n",
       "1          t  Prospect-Lefferts Gardens   \n",
       "2          f  Prospect-Lefferts Gardens   \n",
       "3          t  Prospect-Lefferts Gardens   \n",
       "4          t  Prospect-Lefferts Gardens   \n",
       "\n",
       "                         ...                         Basketball  Dogfriend  \\\n",
       "0                        ...                                  0          1   \n",
       "1                        ...                                  0          1   \n",
       "2                        ...                                  0          1   \n",
       "3                        ...                                  0          1   \n",
       "4                        ...                                  0          1   \n",
       "\n",
       "   Eateries Playground Tennis skate  parknum      area      park_name  \\\n",
       "0         1          7      1     1     B073  2.523662  Prospect Park   \n",
       "1         1          7      1     1     B073  2.523662  Prospect Park   \n",
       "2         1          7      1     1     B073  2.523662  Prospect Park   \n",
       "3         1          7      1     1     B073  2.523662  Prospect Park   \n",
       "4         1          7      1     1     B073  2.523662  Prospect Park   \n",
       "\n",
       "                                          geometry_y  \n",
       "0  POLYGON ((-73.96922134886606 40.67237187453492...  \n",
       "1  POLYGON ((-73.96922134886606 40.67237187453492...  \n",
       "2  POLYGON ((-73.96922134886606 40.67237187453492...  \n",
       "3  POLYGON ((-73.96922134886606 40.67237187453492...  \n",
       "4  POLYGON ((-73.96922134886606 40.67237187453492...  \n",
       "\n",
       "[5 rows x 64 columns]"
      ]
     },
     "execution_count": 484,
     "metadata": {},
     "output_type": "execute_result"
    }
   ],
   "source": [
    "# Read in data\n",
    "df = pd.read_csv('final.csv')\n",
    "df.head()"
   ]
  },
  {
   "cell_type": "markdown",
   "metadata": {},
   "source": [
    "### Remove columns"
   ]
  },
  {
   "cell_type": "code",
   "execution_count": 485,
   "metadata": {
    "collapsed": false
   },
   "outputs": [],
   "source": [
    "df.drop(['Unnamed: 0', 'geometry_x', 'geometry_y', 'total_po_1'], axis=1, inplace=True)"
   ]
  },
  {
   "cell_type": "code",
   "execution_count": 486,
   "metadata": {
    "collapsed": false
   },
   "outputs": [
    {
     "data": {
      "text/plain": [
       "Index(['Unnamed__0', 'id', 'listing_ur', 'name', 'interactio', 'host_since',\n",
       "       'host_is_su', 'host_ident', 'neighbourh', 'market', 'latitude',\n",
       "       'longitude', 'is_locatio', 'property_t', 'room_type', 'accommodat',\n",
       "       'bedrooms', 'beds', 'bed_type', 'amenities', 'square_fee', 'price',\n",
       "       'weekly_pri', 'monthly_pr', 'cleaning_f', 'guests_inc', 'extra_peop',\n",
       "       'maximum_ni', 'review_sco', 'review_s_1', 'review_s_2', 'review_s_3',\n",
       "       'review_s_4', 'review_s_5', 'review_s_6', 'instant_bo', 'reviews_pe',\n",
       "       'price_clea', 'bedrooms_t', 'cleaning_1', 'Unnamed__1', 'census_tra',\n",
       "       'total_popu', 'median_age', 'total_bach', 'median_inc', 'distance',\n",
       "       'CTs', 'Selected N', 'Prop_ID', 'Barbecue', 'Basketball', 'Dogfriend',\n",
       "       'Eateries', 'Playground', 'Tennis', 'skate', 'parknum', 'area',\n",
       "       'park_name'],\n",
       "      dtype='object')"
      ]
     },
     "execution_count": 486,
     "metadata": {},
     "output_type": "execute_result"
    }
   ],
   "source": [
    "df.columns"
   ]
  },
  {
   "cell_type": "markdown",
   "metadata": {},
   "source": [
    "### Fix Column names"
   ]
  },
  {
   "cell_type": "code",
   "execution_count": 487,
   "metadata": {
    "collapsed": false
   },
   "outputs": [],
   "source": [
    "df.columns = ['Unnamed__0', 'id', 'listing_url', 'name', 'interaction', 'host_since', 'host_is_superhost',\n",
    "  'host_identity_verified', 'neighbourhood_cleansed',\n",
    " 'market','latitude', 'longitude','is_location_exact','property_type', 'room_type', \n",
    " 'accommodates', 'bedrooms', 'beds', 'bed_type', 'amenities', 'square_feet',\n",
    "'price', 'weekly_price', 'monthly_price', 'cleaning_fee','guests_included',\n",
    " 'extra_people','maximum_nights', 'review_scores_rating', 'review_scores_accuracy',\n",
    "'review_scores_cleanliness','review_scores_checkin', 'review_scores_communication',\n",
    " 'review_scores_location', 'review_scores_value', 'instant_bookable', 'reviews_per_month', 'price_clean', 'bedrooms_to_beds', \n",
    "'cleaning_fee_clean', 'Unnamed__1', 'census_tract', 'total_population', 'median_age', 'percentage_bachelors_degree', 'median_income',\n",
    "'distance', 'CTs', 'Selected N', 'Prop_ID','Barbecue', 'Basketball', 'Dogfriend', 'Eateries', 'Playground',\n",
    "'Tennis', 'Skate', 'parknum', 'area', 'park_name']"
   ]
  },
  {
   "cell_type": "code",
   "execution_count": 488,
   "metadata": {
    "collapsed": false
   },
   "outputs": [],
   "source": [
    "df.drop(['cleaning_fee', 'price', 'CTs'], axis=1, inplace=True)"
   ]
  },
  {
   "cell_type": "markdown",
   "metadata": {},
   "source": [
    "# Feature Creation"
   ]
  },
  {
   "cell_type": "markdown",
   "metadata": {},
   "source": [
    "### distance_log"
   ]
  },
  {
   "cell_type": "code",
   "execution_count": 514,
   "metadata": {
    "collapsed": false
   },
   "outputs": [
    {
     "data": {
      "text/plain": [
       "<matplotlib.axes._subplots.AxesSubplot at 0x1a2b075f98>"
      ]
     },
     "execution_count": 514,
     "metadata": {},
     "output_type": "execute_result"
    },
    {
     "data": {
      "image/png": "[encoded data removed]",
      "text/plain": [
       "<Figure size 600x400 with 1 Axes>"
      ]
     },
     "metadata": {},
     "output_type": "display_data"
    }
   ],
   "source": [
    "df.distance.hist()"
   ]
  },
  {
   "cell_type": "code",
   "execution_count": 489,
   "metadata": {
    "collapsed": false,
    "scrolled": true
   },
   "outputs": [
    {
     "data": {
      "text/plain": [
       "<matplotlib.axes._subplots.AxesSubplot at 0x1a284e82b0>"
      ]
     },
     "execution_count": 489,
     "metadata": {},
     "output_type": "execute_result"
    },
    {
     "data": {
      "image/png": "[encoded data removed]",
      "text/plain": [
       "<Figure size 600x400 with 1 Axes>"
      ]
     },
     "metadata": {},
     "output_type": "display_data"
    }
   ],
   "source": [
    "df['distance_log'] = np.log(df.distance)\n",
    "df.distance_log.hist()"
   ]
  },
  {
   "cell_type": "code",
   "execution_count": 490,
   "metadata": {
    "collapsed": false
   },
   "outputs": [
    {
     "data": {
      "text/plain": [
       "<matplotlib.axes._subplots.AxesSubplot at 0x1a28573438>"
      ]
     },
     "execution_count": 490,
     "metadata": {},
     "output_type": "execute_result"
    },
    {
     "data": {
      "image/png": "[encoded data removed]",
      "text/plain": [
       "<Figure size 600x400 with 1 Axes>"
      ]
     },
     "metadata": {},
     "output_type": "display_data"
    }
   ],
   "source": [
    "df['distance_log_sq'] = df.distance_log**2\n",
    "df.distance_log_sq.hist()"
   ]
  },
  {
   "cell_type": "markdown",
   "metadata": {},
   "source": [
    "### superhost binary"
   ]
  },
  {
   "cell_type": "code",
   "execution_count": 491,
   "metadata": {
    "collapsed": false
   },
   "outputs": [
    {
     "data": {
      "text/plain": [
       "f    29776\n",
       "t     7514\n",
       "Name: host_is_superhost, dtype: int64"
      ]
     },
     "execution_count": 491,
     "metadata": {},
     "output_type": "execute_result"
    }
   ],
   "source": [
    "df.host_is_superhost.value_counts()"
   ]
  },
  {
   "cell_type": "code",
   "execution_count": 492,
   "metadata": {
    "collapsed": false
   },
   "outputs": [],
   "source": [
    "df['isSuperHost'] = df.host_is_superhost.apply(lambda x: 1 if (x=='t') else 0) "
   ]
  },
  {
   "cell_type": "markdown",
   "metadata": {
    "collapsed": true
   },
   "source": [
    "### price_w_cleaning_fee"
   ]
  },
  {
   "cell_type": "code",
   "execution_count": 493,
   "metadata": {
    "collapsed": false,
    "scrolled": true
   },
   "outputs": [
    {
     "data": {
      "text/plain": [
       "<matplotlib.axes._subplots.AxesSubplot at 0x1a29671b00>"
      ]
     },
     "execution_count": 493,
     "metadata": {},
     "output_type": "execute_result"
    },
    {
     "data": {
      "image/png": "[encoded data removed]",
      "text/plain": [
       "<Figure size 600x400 with 1 Axes>"
      ]
     },
     "metadata": {},
     "output_type": "display_data"
    }
   ],
   "source": [
    "df['price_w_cleaning_fee'] = df.price_clean + df.cleaning_fee_clean\n",
    "df.price_w_cleaning_fee.hist()"
   ]
  },
  {
   "cell_type": "markdown",
   "metadata": {},
   "source": [
    "### isInstantBookable"
   ]
  },
  {
   "cell_type": "code",
   "execution_count": 494,
   "metadata": {
    "collapsed": false,
    "scrolled": false
   },
   "outputs": [
    {
     "data": {
      "text/plain": [
       "f    26918\n",
       "t    10416\n",
       "Name: instant_bookable, dtype: int64"
      ]
     },
     "execution_count": 494,
     "metadata": {},
     "output_type": "execute_result"
    }
   ],
   "source": [
    "df.instant_bookable.value_counts()"
   ]
  },
  {
   "cell_type": "code",
   "execution_count": 495,
   "metadata": {
    "collapsed": true
   },
   "outputs": [],
   "source": [
    "df['isInstantBookable'] = df.instant_bookable.apply(lambda x: 1 if(x == 't') else 0)"
   ]
  },
  {
   "cell_type": "markdown",
   "metadata": {},
   "source": [
    "### isActivePark"
   ]
  },
  {
   "cell_type": "code",
   "execution_count": 496,
   "metadata": {
    "collapsed": false
   },
   "outputs": [
    {
     "data": {
      "text/plain": [
       "1    32211\n",
       "0     5123\n",
       "Name: isActivePark, dtype: int64"
      ]
     },
     "execution_count": 496,
     "metadata": {},
     "output_type": "execute_result"
    }
   ],
   "source": [
    "df['isActivePark'] = (df['Basketball'] > 0) | (df['Tennis'] > 0) | (df['Skate'] > 0)\n",
    "df.isActivePark = df.isActivePark.apply(lambda x: 1 if(x) else 0)\n",
    "df.isActivePark.value_counts()"
   ]
  },
  {
   "cell_type": "code",
   "execution_count": 497,
   "metadata": {
    "collapsed": false,
    "scrolled": true
   },
   "outputs": [
    {
     "data": {
      "text/plain": [
       "Washington Square Park    5123\n",
       "Name: park_name, dtype: int64"
      ]
     },
     "execution_count": 497,
     "metadata": {},
     "output_type": "execute_result"
    }
   ],
   "source": [
    "# Which parks are passive\n",
    "passive_df = df[df['isActivePark'] == 0]\n",
    "passive_df.park_name.value_counts()"
   ]
  },
  {
   "cell_type": "code",
   "execution_count": 498,
   "metadata": {
    "collapsed": false,
    "scrolled": true
   },
   "outputs": [
    {
     "data": {
      "text/plain": [
       "<matplotlib.axes._subplots.AxesSubplot at 0x1a2bbcdb38>"
      ]
     },
     "execution_count": 498,
     "metadata": {},
     "output_type": "execute_result"
    },
    {
     "data": {
      "image/png": "[encoded data removed]",
      "text/plain": [
       "<Figure size 600x400 with 1 Axes>"
      ]
     },
     "metadata": {},
     "output_type": "display_data"
    }
   ],
   "source": [
    "df.price_w_cleaning_fee.hist()"
   ]
  },
  {
   "cell_type": "code",
   "execution_count": 499,
   "metadata": {
    "collapsed": false,
    "scrolled": true
   },
   "outputs": [
    {
     "data": {
      "text/plain": [
       "<matplotlib.axes._subplots.AxesSubplot at 0x1a29bdcd30>"
      ]
     },
     "execution_count": 499,
     "metadata": {},
     "output_type": "execute_result"
    },
    {
     "data": {
      "image/png": "[encoded data removed]",
      "text/plain": [
       "<Figure size 600x400 with 1 Axes>"
      ]
     },
     "metadata": {},
     "output_type": "display_data"
    }
   ],
   "source": [
    "df.median_age.hist()"
   ]
  },
  {
   "cell_type": "markdown",
   "metadata": {},
   "source": [
    "# EDA and Outliers"
   ]
  },
  {
   "cell_type": "code",
   "execution_count": 500,
   "metadata": {
    "collapsed": false
   },
   "outputs": [],
   "source": [
    "# make df with quantitative vars\n",
    "quant = df[['isSuperHost','accommodates', 'bedrooms', 'beds', 'cleaning_fee_clean','guests_included',\n",
    "         'maximum_nights', 'review_scores_rating', 'review_scores_accuracy',\n",
    "        'review_scores_cleanliness','review_scores_checkin', 'review_scores_communication',\n",
    "        'instant_bookable', 'reviews_per_month', 'price_clean',\n",
    "         'total_population', 'median_age', 'percentage_bachelors_degree', 'median_income',\n",
    "        'distance_log', 'distance_log_sq','Barbecue', 'Basketball', 'Eateries', 'Playground',\n",
    "        'Tennis', 'Skate', 'area', 'price_w_cleaning_fee', 'isInstantBookable',\n",
    "        'isActivePark']]"
   ]
  },
  {
   "cell_type": "code",
   "execution_count": 501,
   "metadata": {
    "collapsed": false
   },
   "outputs": [
    {
     "data": {
      "text/plain": [
       "31"
      ]
     },
     "execution_count": 501,
     "metadata": {},
     "output_type": "execute_result"
    }
   ],
   "source": [
    "len(quant.columns)"
   ]
  },
  {
   "cell_type": "markdown",
   "metadata": {},
   "source": [
    "### Correlation Plot"
   ]
  },
  {
   "cell_type": "code",
   "execution_count": 502,
   "metadata": {
    "collapsed": false,
    "scrolled": true
   },
   "outputs": [
    {
     "data": {
      "text/plain": [
       "<matplotlib.axes._subplots.AxesSubplot at 0x1a29fad5c0>"
      ]
     },
     "execution_count": 502,
     "metadata": {},
     "output_type": "execute_result"
    },
    {
     "data": {
      "image/png": "[encoded data removed]",
      "text/plain": [
       "<Figure size 1400x1200 with 2 Axes>"
      ]
     },
     "metadata": {},
     "output_type": "display_data"
    }
   ],
   "source": [
    "f, ax = plt.subplots(figsize=(14, 12))\n",
    "corr = quant.corr()\n",
    "sns.heatmap(corr, mask=np.zeros_like(corr, dtype=np.bool), cmap=sns.diverging_palette(220, 10, as_cmap=True),\n",
    "            square=True, ax=ax)"
   ]
  },
  {
   "cell_type": "code",
   "execution_count": 515,
   "metadata": {
    "collapsed": false
   },
   "outputs": [
    {
     "name": "stdout",
     "output_type": "stream",
     "text": [
      "x0: isSuperHost\n",
      "x1: accommodates\n",
      "x2: guests_included\n",
      "x3: maximum_nights\n",
      "x4: review_scores_rating\n",
      "x5: reviews_per_month\n",
      "x6: isInstantBookable\n",
      "x7: total_population\n",
      "x8: median_age\n",
      "x9: median_income\n",
      "x10: distance_log\n",
      "x11: Eateries\n",
      "x12: Playground\n",
      "x13: isActivePark\n"
     ]
    }
   ],
   "source": [
    "for i in range(len(target_cols)):\n",
    "    print('x' + str(i) + ': ' + target_cols[i])"
   ]
  },
  {
   "cell_type": "markdown",
   "metadata": {},
   "source": [
    "### Collinearity notes:\n",
    "- Choose one from 'accommodates', 'bedrooms', 'beds' (probably accommodates)\n",
    "- Choose one from review_scores (probably review_scores_rating)\n",
    "- Choose one from price_clean and price_w_cleaning_fee\n",
    "- Choose isActivePark as proxy for Active amenities\n",
    "- Choose area or amenities as they are highly collinear\n",
    "- median_income and percentage_bachelors_degree highly correlated"
   ]
  },
  {
   "cell_type": "code",
   "execution_count": 545,
   "metadata": {
    "collapsed": true
   },
   "outputs": [],
   "source": [
    "df.to_csv('finalDataClean.csv')"
   ]
  },
  {
   "cell_type": "markdown",
   "metadata": {},
   "source": [
    "# Analysis\n",
    "1.) OLS\n",
    "\n",
    "2.) Ridge\n",
    "\n",
    "3.) Lasso"
   ]
  },
  {
   "cell_type": "code",
   "execution_count": 521,
   "metadata": {
    "collapsed": false
   },
   "outputs": [],
   "source": [
    "target_cols = [#AirBnB\n",
    "        'isSuperHost','accommodates','guests_included',\n",
    "         'maximum_nights', 'review_scores_rating', 'reviews_per_month', 'isInstantBookable',\n",
    "        #Demographic\n",
    "         'total_population', 'median_age', 'median_income',\n",
    "        #Parks\n",
    "        'distance_log', 'Eateries', 'Playground',\n",
    "        'isActivePark'\n",
    "        #Parkname for stratification\n",
    "        #'park_name'\n",
    "        ]\n",
    "X = df[target_cols]\n",
    "y_price_w_cleaning_fee = df['price_w_cleaning_fee']\n",
    "y_price = df['price_clean']"
   ]
  },
  {
   "cell_type": "markdown",
   "metadata": {},
   "source": [
    "### Standardize"
   ]
  },
  {
   "cell_type": "code",
   "execution_count": 522,
   "metadata": {
    "collapsed": false
   },
   "outputs": [
    {
     "data": {
      "text/html": [
       "<div>\n",
       "<style>\n",
       "    .dataframe thead tr:only-child th {\n",
       "        text-align: right;\n",
       "    }\n",
       "\n",
       "    .dataframe thead th {\n",
       "        text-align: left;\n",
       "    }\n",
       "\n",
       "    .dataframe tbody tr th {\n",
       "        vertical-align: top;\n",
       "    }\n",
       "</style>\n",
       "<table border=\"1\" class=\"dataframe\">\n",
       "  <thead>\n",
       "    <tr style=\"text-align: right;\">\n",
       "      <th></th>\n",
       "      <th>0</th>\n",
       "      <th>1</th>\n",
       "      <th>2</th>\n",
       "      <th>3</th>\n",
       "      <th>4</th>\n",
       "      <th>5</th>\n",
       "      <th>6</th>\n",
       "      <th>7</th>\n",
       "      <th>8</th>\n",
       "      <th>9</th>\n",
       "      <th>10</th>\n",
       "      <th>11</th>\n",
       "      <th>12</th>\n",
       "      <th>13</th>\n",
       "      <th>park_name</th>\n",
       "    </tr>\n",
       "  </thead>\n",
       "  <tbody>\n",
       "    <tr>\n",
       "      <th>0</th>\n",
       "      <td>-0.501975</td>\n",
       "      <td>-1.166632</td>\n",
       "      <td>-0.560455</td>\n",
       "      <td>0.61607</td>\n",
       "      <td>-0.111643</td>\n",
       "      <td>-0.656408</td>\n",
       "      <td>-0.622055</td>\n",
       "      <td>0.402636</td>\n",
       "      <td>0.180902</td>\n",
       "      <td>-0.655202</td>\n",
       "      <td>0.496169</td>\n",
       "      <td>0.331372</td>\n",
       "      <td>1.127265</td>\n",
       "      <td>0.398805</td>\n",
       "      <td>Prospect Park</td>\n",
       "    </tr>\n",
       "    <tr>\n",
       "      <th>1</th>\n",
       "      <td>-0.501975</td>\n",
       "      <td>-0.557292</td>\n",
       "      <td>-0.560455</td>\n",
       "      <td>0.61607</td>\n",
       "      <td>-0.111643</td>\n",
       "      <td>-0.548746</td>\n",
       "      <td>-0.622055</td>\n",
       "      <td>0.402636</td>\n",
       "      <td>0.180902</td>\n",
       "      <td>-0.655202</td>\n",
       "      <td>0.318146</td>\n",
       "      <td>0.331372</td>\n",
       "      <td>1.127265</td>\n",
       "      <td>0.398805</td>\n",
       "      <td>Prospect Park</td>\n",
       "    </tr>\n",
       "    <tr>\n",
       "      <th>2</th>\n",
       "      <td>-0.501975</td>\n",
       "      <td>0.661389</td>\n",
       "      <td>2.134436</td>\n",
       "      <td>0.61607</td>\n",
       "      <td>-1.676822</td>\n",
       "      <td>-0.536080</td>\n",
       "      <td>-0.622055</td>\n",
       "      <td>0.402636</td>\n",
       "      <td>0.180902</td>\n",
       "      <td>-0.655202</td>\n",
       "      <td>0.492573</td>\n",
       "      <td>0.331372</td>\n",
       "      <td>1.127265</td>\n",
       "      <td>0.398805</td>\n",
       "      <td>Prospect Park</td>\n",
       "    </tr>\n",
       "    <tr>\n",
       "      <th>3</th>\n",
       "      <td>1.992133</td>\n",
       "      <td>-0.557292</td>\n",
       "      <td>0.337842</td>\n",
       "      <td>-0.58028</td>\n",
       "      <td>0.357911</td>\n",
       "      <td>1.040856</td>\n",
       "      <td>-0.622055</td>\n",
       "      <td>0.402636</td>\n",
       "      <td>0.180902</td>\n",
       "      <td>-0.655202</td>\n",
       "      <td>0.378243</td>\n",
       "      <td>0.331372</td>\n",
       "      <td>1.127265</td>\n",
       "      <td>0.398805</td>\n",
       "      <td>Prospect Park</td>\n",
       "    </tr>\n",
       "    <tr>\n",
       "      <th>4</th>\n",
       "      <td>-0.501975</td>\n",
       "      <td>-0.557292</td>\n",
       "      <td>-0.560455</td>\n",
       "      <td>0.61607</td>\n",
       "      <td>0.827465</td>\n",
       "      <td>-0.719739</td>\n",
       "      <td>-0.622055</td>\n",
       "      <td>0.402636</td>\n",
       "      <td>0.180902</td>\n",
       "      <td>-0.655202</td>\n",
       "      <td>0.318146</td>\n",
       "      <td>0.331372</td>\n",
       "      <td>1.127265</td>\n",
       "      <td>0.398805</td>\n",
       "      <td>Prospect Park</td>\n",
       "    </tr>\n",
       "  </tbody>\n",
       "</table>\n",
       "</div>"
      ],
      "text/plain": [
       "          0         1         2        3         4         5         6  \\\n",
       "0 -0.501975 -1.166632 -0.560455  0.61607 -0.111643 -0.656408 -0.622055   \n",
       "1 -0.501975 -0.557292 -0.560455  0.61607 -0.111643 -0.548746 -0.622055   \n",
       "2 -0.501975  0.661389  2.134436  0.61607 -1.676822 -0.536080 -0.622055   \n",
       "3  1.992133 -0.557292  0.337842 -0.58028  0.357911  1.040856 -0.622055   \n",
       "4 -0.501975 -0.557292 -0.560455  0.61607  0.827465 -0.719739 -0.622055   \n",
       "\n",
       "          7         8         9        10        11        12        13  \\\n",
       "0  0.402636  0.180902 -0.655202  0.496169  0.331372  1.127265  0.398805   \n",
       "1  0.402636  0.180902 -0.655202  0.318146  0.331372  1.127265  0.398805   \n",
       "2  0.402636  0.180902 -0.655202  0.492573  0.331372  1.127265  0.398805   \n",
       "3  0.402636  0.180902 -0.655202  0.378243  0.331372  1.127265  0.398805   \n",
       "4  0.402636  0.180902 -0.655202  0.318146  0.331372  1.127265  0.398805   \n",
       "\n",
       "       park_name  \n",
       "0  Prospect Park  \n",
       "1  Prospect Park  \n",
       "2  Prospect Park  \n",
       "3  Prospect Park  \n",
       "4  Prospect Park  "
      ]
     },
     "execution_count": 522,
     "metadata": {},
     "output_type": "execute_result"
    }
   ],
   "source": [
    "from sklearn.preprocessing import StandardScaler\n",
    "scaler = StandardScaler()\n",
    "X_std =pd.DataFrame(scaler.fit_transform(X))\n",
    "X = pd.concat([X_std,df.park_name], axis=1)\n",
    "X.head()"
   ]
  },
  {
   "cell_type": "markdown",
   "metadata": {},
   "source": [
    "### Split for OLS (no alpha)"
   ]
  },
  {
   "cell_type": "code",
   "execution_count": 523,
   "metadata": {
    "collapsed": false
   },
   "outputs": [],
   "source": [
    "X_train_w, X_test_w, y_train_ols_w, y_test_ols_w = train_test_split(X, y_price_w_cleaning_fee, random_state = 42, test_size = 0.20, stratify=X['park_name'])\n",
    "X_train, X_test, y_train_ols, y_test_ols = train_test_split(X, y_price, random_state = 42, test_size = 0.20, stratify=X['park_name'])\n",
    "\n",
    "X_train_ols = X_train.drop(['park_name'], axis=1)\n",
    "X_test_ols = X_test.drop(['park_name'], axis=1)\n",
    "X_train_ols_w = X_train_w.drop(['park_name'], axis=1)\n",
    "X_test_ols_w = X_test_w.drop(['park_name'], axis=1)"
   ]
  },
  {
   "cell_type": "markdown",
   "metadata": {},
   "source": [
    "### Split for training alphas\n"
   ]
  },
  {
   "cell_type": "code",
   "execution_count": 526,
   "metadata": {
    "collapsed": false
   },
   "outputs": [],
   "source": [
    "#For price_clean\n",
    "X_mod, X_alpha, y_mod, y_alpha = train_test_split(X, y_price, random_state=42, test_size=0.20, stratify=X['park_name'])\n",
    "X_train, X_test, y_train_rl, y_test_rl = train_test_split(X_mod, y_mod, random_state = 42, test_size = 0.20)\n",
    "X_alpha_train, X_alpha_test, y_alpha_train_rl, y_alpha_test_rl = train_test_split(X_alpha, y_alpha, random_state = 42, test_size = 0.20)\n",
    "\n",
    "X_alpha_train_rl = X_alpha_train.drop('park_name', axis=1)\n",
    "\n",
    "X_alpha_test_rl = X_alpha_test.drop('park_name', axis=1)\n",
    "\n",
    "X_train_rl = X_train.drop(['park_name'], axis=1)\n",
    "\n",
    "X_test_rl = X_test.drop(['park_name'], axis=1)"
   ]
  },
  {
   "cell_type": "code",
   "execution_count": 527,
   "metadata": {
    "collapsed": true
   },
   "outputs": [],
   "source": [
    "#For price_w_cleaning_fee\n",
    "X_mod, X_alpha, y_mod, y_alpha = train_test_split(X, y_price_w_cleaning_fee, random_state=42, test_size=0.20, stratify=X['park_name'])\n",
    "X_train, X_test, y_train_rl_w, y_test_rl_w = train_test_split(X_mod, y_mod, random_state = 42, test_size = 0.20)\n",
    "X_alpha_train, X_alpha_test, y_alpha_train_rl_w, y_alpha_test_rl_w = train_test_split(X_alpha, y_alpha, random_state = 42, test_size = 0.20)\n",
    "\n",
    "X_alpha_train_w = X_alpha_train.drop('park_name', axis=1)\n",
    "\n",
    "X_alpha_test_w = X_alpha_test.drop('park_name', axis=1)\n",
    "\n",
    "X_train_rl_w = X_train.drop(['park_name'], axis=1)\n",
    "\n",
    "X_test_rl_w = X_test.drop(['park_name'], axis=1)"
   ]
  },
  {
   "cell_type": "markdown",
   "metadata": {},
   "source": [
    "### OLS"
   ]
  },
  {
   "cell_type": "code",
   "execution_count": 435,
   "metadata": {
    "collapsed": false
   },
   "outputs": [
    {
     "name": "stdout",
     "output_type": "stream",
     "text": [
      "Price Score: 0.545\n",
      "Price_with_cleaning: 0.306\n"
     ]
    }
   ],
   "source": [
    "reg = LinearRegression()\n",
    "reg.fit(X_train_ols, y_train_ols)\n",
    "print('Price Score: %0.3f' %reg.score(X_test_ols, y_test_ols))\n",
    "reg_w = LinearRegression()\n",
    "reg_w.fit(X_train_ols_w, y_train_ols_w)\n",
    "print('Price_with_cleaning: %0.3f' %reg.score(X_test_ols_w, y_test_ols_w))"
   ]
  },
  {
   "cell_type": "code",
   "execution_count": 524,
   "metadata": {
    "collapsed": false
   },
   "outputs": [
    {
     "name": "stdout",
     "output_type": "stream",
     "text": [
      "                             OLS Regression Results                             \n",
      "================================================================================\n",
      "Dep. Variable:     price_w_cleaning_fee   R-squared:                       0.579\n",
      "Model:                              OLS   Adj. R-squared:                  0.579\n",
      "Method:                   Least Squares   F-statistic:                     3662.\n",
      "Date:                  Wed, 12 Dec 2018   Prob (F-statistic):               0.00\n",
      "Time:                          10:43:38   Log-Likelihood:            -2.1717e+05\n",
      "No. Observations:                 37334   AIC:                         4.344e+05\n",
      "Df Residuals:                     37319   BIC:                         4.345e+05\n",
      "Df Model:                            14                                         \n",
      "Covariance Type:              nonrobust                                         \n",
      "==============================================================================\n",
      "                 coef    std err          t      P>|t|      [0.025      0.975]\n",
      "------------------------------------------------------------------------------\n",
      "Intercept    193.2512      0.421    459.277      0.000     192.427     194.076\n",
      "x0             3.0636      0.451      6.787      0.000       2.179       3.948\n",
      "x1            67.8464      0.531    127.787      0.000      66.806      68.887\n",
      "x2            15.9675      0.529     30.194      0.000      14.931      17.004\n",
      "x3             1.2114      0.423      2.865      0.004       0.383       2.040\n",
      "x4             4.2032      0.432      9.730      0.000       3.356       5.050\n",
      "x5           -12.2003      0.459    -26.569      0.000     -13.100     -11.300\n",
      "x6            -4.8477      0.439    -11.051      0.000      -5.708      -3.988\n",
      "x7            -1.1267      0.536     -2.100      0.036      -2.178      -0.075\n",
      "x8             3.7180      0.456      8.156      0.000       2.825       4.611\n",
      "x9            32.3979      0.686     47.254      0.000      31.054      33.742\n",
      "x10           -2.6530      0.624     -4.253      0.000      -3.876      -1.430\n",
      "x11           -4.3794      1.039     -4.215      0.000      -6.416      -2.343\n",
      "x12          -10.1336      0.921    -11.003      0.000     -11.939      -8.328\n",
      "x13          -17.7190      1.171    -15.135      0.000     -20.014     -15.424\n",
      "==============================================================================\n",
      "Omnibus:                    18989.968   Durbin-Watson:                   1.398\n",
      "Prob(Omnibus):                  0.000   Jarque-Bera (JB):           286146.733\n",
      "Skew:                           2.089   Prob(JB):                         0.00\n",
      "Kurtosis:                      15.903   Cond. No.                         6.70\n",
      "==============================================================================\n",
      "\n",
      "Warnings:\n",
      "[1] Standard Errors assume that the covariance matrix of the errors is correctly specified.\n"
     ]
    }
   ],
   "source": [
    "data = pd.concat([y_price_w_cleaning_fee, X],axis=1)\n",
    "data = data.drop('park_name', axis=1)\n",
    "data.head()\n",
    "cols = []\n",
    "for i in range(len(data.columns) - 1):\n",
    "    cols.append('x' + str(i))\n",
    "cols.insert(0,'price_w_cleaning_fee')\n",
    "data.columns = cols\n",
    "data.head()\n",
    "result = smf.ols(formula = 'price_w_cleaning_fee ~ ' + \"+\".join(str(data.columns[i]) for i in range(1,len(data.columns))), data = data).fit()\n",
    "OLS_coef=result.params\n",
    "print(result.summary())"
   ]
  },
  {
   "cell_type": "code",
   "execution_count": 525,
   "metadata": {
    "collapsed": false
   },
   "outputs": [
    {
     "name": "stdout",
     "output_type": "stream",
     "text": [
      "x0: isSuperHost\n",
      "x1: accommodates\n",
      "x2: guests_included\n",
      "x3: maximum_nights\n",
      "x4: review_scores_rating\n",
      "x5: reviews_per_month\n",
      "x6: isInstantBookable\n",
      "x7: total_population\n",
      "x8: median_age\n",
      "x9: median_income\n",
      "x10: distance_log\n",
      "x11: Eateries\n",
      "x12: Playground\n",
      "x13: isActivePark\n"
     ]
    }
   ],
   "source": [
    "for i in range(len(target_cols)):\n",
    "    print('x' + str(i) + ': ' + target_cols[i])"
   ]
  },
  {
   "cell_type": "markdown",
   "metadata": {},
   "source": [
    "### Ridge"
   ]
  },
  {
   "cell_type": "code",
   "execution_count": 528,
   "metadata": {
    "collapsed": false,
    "scrolled": false
   },
   "outputs": [
    {
     "name": "stdout",
     "output_type": "stream",
     "text": [
      "Max Score alpha = 192\n"
     ]
    },
    {
     "data": {
      "text/plain": [
       "<matplotlib.lines.Line2D at 0x1a2a2b9550>"
      ]
     },
     "execution_count": 528,
     "metadata": {},
     "output_type": "execute_result"
    },
    {
     "data": {
      "image/png": "[encoded data removed]",
      "text/plain": [
       "<Figure size 600x400 with 1 Axes>"
      ]
     },
     "metadata": {},
     "output_type": "display_data"
    }
   ],
   "source": [
    "#For price dependent variable\n",
    "\n",
    "# Find optimal alpha\n",
    "alphas = np.arange(0,1000,1)\n",
    "scores = []\n",
    "\n",
    "for i in range(len(alphas)):\n",
    "    ridge_alpha = Ridge(alpha=alphas[i])\n",
    "    ridge_alpha.fit(X_alpha_train_rl, y_alpha_train_rl)\n",
    "    scores.append(ridge_alpha.score(X_alpha_test_rl,y_alpha_test_rl))\n",
    "\n",
    "max_alpha_ridge = str(alphas[scores.index(max(scores))])\n",
    "print('Max Score alpha = ' + str(alphas[scores.index(max(scores))]))\n",
    "plt.title('Finding Optimal Ridge Alpha\\n(With Price Variable)',fontsize=18)\n",
    "plt.xlabel('Alpha', fontsize=14)\n",
    "plt.ylabel('R^2', fontsize=14)\n",
    "plt.annotate('Alpha = %0.1f' %float(max_alpha_ridge), xy=(float(max_alpha_ridge)+1,0.6055), color='red', fontsize=14)\n",
    "plt.plot(alphas, scores, '-')\n",
    "plt.axvline(x=float(max_alpha_ridge),color='red')"
   ]
  },
  {
   "cell_type": "code",
   "execution_count": 529,
   "metadata": {
    "collapsed": false
   },
   "outputs": [
    {
     "name": "stdout",
     "output_type": "stream",
     "text": [
      "Max Score alpha = 63\n"
     ]
    },
    {
     "data": {
      "text/plain": [
       "<matplotlib.lines.Line2D at 0x1a2a2e3470>"
      ]
     },
     "execution_count": 529,
     "metadata": {},
     "output_type": "execute_result"
    },
    {
     "data": {
      "image/png": "[encoded data removed]",
      "text/plain": [
       "<Figure size 600x400 with 1 Axes>"
      ]
     },
     "metadata": {},
     "output_type": "display_data"
    }
   ],
   "source": [
    "#For price with cleaning fee dependent variable\n",
    "\n",
    "# Find optimal alpha\n",
    "alphas = np.arange(0,1000,1)\n",
    "scores = []\n",
    "\n",
    "for i in range(len(alphas)):\n",
    "    ridge_alpha = Ridge(alpha=alphas[i])\n",
    "    ridge_alpha.fit(X_alpha_train_w, y_alpha_train_w)\n",
    "    scores.append(ridge_alpha.score(X_alpha_test_w, y_alpha_test_w))\n",
    "\n",
    "max_alpha_ridge_w = str(alphas[scores.index(max(scores))])\n",
    "print('Max Score alpha = ' + str(alphas[scores.index(max(scores))]))\n",
    "plt.title('Finding Optimal Ridge Alpha\\n(With Price Variable)',fontsize=18)\n",
    "plt.xlabel('Alpha', fontsize=14)\n",
    "plt.ylabel('R^2', fontsize=14)\n",
    "plt.annotate('Alpha = %0.1f' %float(max_alpha_ridge_w), xy=(float(max_alpha_ridge_w)+1,0.6055), color='red', fontsize=14)\n",
    "plt.plot(alphas, scores, '-')\n",
    "plt.axvline(x=float(max_alpha_ridge_w),color='red')"
   ]
  },
  {
   "cell_type": "code",
   "execution_count": 530,
   "metadata": {
    "collapsed": false,
    "scrolled": true
   },
   "outputs": [
    {
     "name": "stdout",
     "output_type": "stream",
     "text": [
      "R^2 of Price Model: 0.560313\n",
      "R^2 of Price with Cleaning Fee Model: 0.584691\n"
     ]
    }
   ],
   "source": [
    "#Train and test\n",
    "ridge = Ridge(alpha = max_alpha_ridge)\n",
    "ridge.fit(X_train_rl, y_train_rl)\n",
    "print(\"R^2 of Price Model: %f\" %ridge.score(X_test_rl, y_test_rl))\n",
    "      \n",
    "ridge_w = Ridge(alpha = max_alpha_ridge_w)\n",
    "ridge_w.fit(X_train_rl_w, y_train_rl_w)\n",
    "print(\"R^2 of Price with Cleaning Fee Model: %f\" %ridge_w.score(X_test_rl_w, y_test_rl_w))"
   ]
  },
  {
   "cell_type": "markdown",
   "metadata": {},
   "source": [
    "### Lasso"
   ]
  },
  {
   "cell_type": "code",
   "execution_count": 531,
   "metadata": {
    "collapsed": false
   },
   "outputs": [
    {
     "name": "stdout",
     "output_type": "stream",
     "text": [
      "Max Score alpha = 0.226130653266\n"
     ]
    },
    {
     "name": "stderr",
     "output_type": "stream",
     "text": [
      "//anaconda/lib/python3.5/site-packages/sklearn/linear_model/coordinate_descent.py:491: ConvergenceWarning: Objective did not converge. You might want to increase the number of iterations. Fitting data with very small alpha may cause precision problems.\n",
      "  ConvergenceWarning)\n"
     ]
    },
    {
     "data": {
      "text/plain": [
       "<matplotlib.lines.Line2D at 0x1a29b11e10>"
      ]
     },
     "execution_count": 531,
     "metadata": {},
     "output_type": "execute_result"
    },
    {
     "data": {
      "image/png": "[encoded data removed]",
      "text/plain": [
       "<Figure size 600x400 with 1 Axes>"
      ]
     },
     "metadata": {},
     "output_type": "display_data"
    }
   ],
   "source": [
    "#For price dependent variable\n",
    "\n",
    "# Find optimal alpha\n",
    "#alphas = np.exp(np.linspace(-14,-2,200))\n",
    "alphas = np.linspace(-1,3,200)\n",
    "\n",
    "scores = []\n",
    "\n",
    "for i in range(len(alphas)):\n",
    "    lasso_alpha = Lasso(alpha=alphas[i])\n",
    "    lasso_alpha.fit(X_alpha_train_rl, y_alpha_train_rl)\n",
    "    scores.append(lasso_alpha.score(X_alpha_test_rl,y_alpha_test_rl))\n",
    "\n",
    "max_alpha_lasso = str(alphas[scores.index(max(scores))])\n",
    "print('Max Score alpha = ' + str(alphas[scores.index(max(scores))]))\n",
    "plt.title('Finding Optimal Lasso Alpha\\n(With Price Variable)',fontsize=18)\n",
    "plt.xlabel('Alpha', fontsize=14)\n",
    "plt.ylabel('R^2', fontsize=14)\n",
    "plt.annotate('Alpha = %0.1f' %float(max_alpha_lasso), xy=(float(max_alpha_lasso)+1,0.60585), color='red', fontsize=14)\n",
    "plt.plot(alphas, scores, '-')\n",
    "plt.axvline(x=float(max_alpha_lasso),color='red')"
   ]
  },
  {
   "cell_type": "code",
   "execution_count": 532,
   "metadata": {
    "collapsed": false
   },
   "outputs": [
    {
     "name": "stdout",
     "output_type": "stream",
     "text": [
      "Max Score alpha = 0.311557788945\n"
     ]
    },
    {
     "name": "stderr",
     "output_type": "stream",
     "text": [
      "//anaconda/lib/python3.5/site-packages/sklearn/linear_model/coordinate_descent.py:491: ConvergenceWarning: Objective did not converge. You might want to increase the number of iterations. Fitting data with very small alpha may cause precision problems.\n",
      "  ConvergenceWarning)\n"
     ]
    },
    {
     "data": {
      "text/plain": [
       "<matplotlib.lines.Line2D at 0x1a29608ba8>"
      ]
     },
     "execution_count": 532,
     "metadata": {},
     "output_type": "execute_result"
    },
    {
     "data": {
      "image/png": "[encoded data removed]",
      "text/plain": [
       "<Figure size 600x400 with 1 Axes>"
      ]
     },
     "metadata": {},
     "output_type": "display_data"
    }
   ],
   "source": [
    "#For price with cleaning fee dependent variable\n",
    "\n",
    "# Find optimal alpha\n",
    "alphas = np.linspace(-4,2,200)\n",
    "scores = []\n",
    "\n",
    "for i in range(len(alphas)):\n",
    "    lasso_alpha = Lasso(alpha=alphas[i])\n",
    "    lasso_alpha.fit(X_alpha_train_w, y_alpha_train_w)\n",
    "    scores.append(lasso_alpha.score(X_alpha_test_w, y_alpha_test_w))\n",
    "\n",
    "max_alpha_lasso_w = str(alphas[scores.index(max(scores))])\n",
    "print('Max Score alpha = ' + str(alphas[scores.index(max(scores))]))\n",
    "plt.title('Finding Optimal Lasso Alpha\\n(With Price Variable)',fontsize=18)\n",
    "plt.xlabel('Alpha', fontsize=14)\n",
    "plt.ylabel('R^2', fontsize=14)\n",
    "plt.annotate('Alpha = %0.1f' %float(max_alpha_lasso_w), xy=(float(max_alpha_lasso_w)+1,0.58485), color='red', fontsize=14)\n",
    "plt.plot(alphas, scores, '-')\n",
    "plt.axvline(x=float(max_alpha_lasso_w),color='red')"
   ]
  },
  {
   "cell_type": "code",
   "execution_count": 534,
   "metadata": {
    "collapsed": false
   },
   "outputs": [
    {
     "name": "stdout",
     "output_type": "stream",
     "text": [
      "R^2 of Price Model: 0.560101\n",
      "R^2 of Price Model: 0.584079\n"
     ]
    }
   ],
   "source": [
    "#Train and Test\n",
    "lasso = Lasso(alpha = float(max_alpha_lasso), max_iter=5000)\n",
    "lasso.fit(X_train_rl, y_train_rl)\n",
    "print('R^2 of Price Model: %f' %lasso.score(X_test_rl, y_test_rl))\n",
    "\n",
    "lasso_w = Lasso(alpha = float(max_alpha_lasso_w), max_iter=5000)\n",
    "lasso_w.fit(X_train_rl_w, y_train_rl_w)\n",
    "print('R^2 of Price Model: %f' %lasso_w.score(X_test_rl_w, y_test_rl_w))"
   ]
  },
  {
   "cell_type": "markdown",
   "metadata": {},
   "source": [
    "## OLS:\n",
    "R^2 of Price with Cleaning Fee Model: 0.579\n",
    "\n",
    "## Ridge:\n",
    "R^2 of Price Model: 0.560\n",
    "\n",
    "R^2 of Price with Cleaning Fee Model: 0.584\n",
    "\n",
    "## Lasso:\n",
    "R^2 of Price Model: 0.560\n",
    "\n",
    "R^2 of Price with Cleaning Fee Model: 0.584\n",
    "\n",
    "\n",
    "#### Comments:\n",
    "The best performing models, in terms of R^2, are the Lasso and Ridge models with Cleaning Fees added to the price (varnames = lasso_w, ridge_w)\n",
    "\n",
    "- For interpretation, use OLS\n",
    "- For prediction, use Ridge (equal R^2 to Lasso but less computationally expensive)"
   ]
  },
  {
   "cell_type": "code",
   "execution_count": 540,
   "metadata": {
    "collapsed": false
   },
   "outputs": [
    {
     "data": {
      "text/html": [
       "<div>\n",
       "<style>\n",
       "    .dataframe thead tr:only-child th {\n",
       "        text-align: right;\n",
       "    }\n",
       "\n",
       "    .dataframe thead th {\n",
       "        text-align: left;\n",
       "    }\n",
       "\n",
       "    .dataframe tbody tr th {\n",
       "        vertical-align: top;\n",
       "    }\n",
       "</style>\n",
       "<table border=\"1\" class=\"dataframe\">\n",
       "  <thead>\n",
       "    <tr style=\"text-align: right;\">\n",
       "      <th></th>\n",
       "      <th>var_name</th>\n",
       "      <th>coefficient_value</th>\n",
       "    </tr>\n",
       "  </thead>\n",
       "  <tbody>\n",
       "    <tr>\n",
       "      <th>13</th>\n",
       "      <td>isActivePark</td>\n",
       "      <td>-16.849304</td>\n",
       "    </tr>\n",
       "    <tr>\n",
       "      <th>12</th>\n",
       "      <td>Playground</td>\n",
       "      <td>-11.256518</td>\n",
       "    </tr>\n",
       "    <tr>\n",
       "      <th>5</th>\n",
       "      <td>reviews_per_month</td>\n",
       "      <td>-10.590451</td>\n",
       "    </tr>\n",
       "    <tr>\n",
       "      <th>6</th>\n",
       "      <td>isInstantBookable</td>\n",
       "      <td>-5.538456</td>\n",
       "    </tr>\n",
       "    <tr>\n",
       "      <th>11</th>\n",
       "      <td>Eateries</td>\n",
       "      <td>-3.276168</td>\n",
       "    </tr>\n",
       "    <tr>\n",
       "      <th>10</th>\n",
       "      <td>distance_log</td>\n",
       "      <td>-2.242293</td>\n",
       "    </tr>\n",
       "    <tr>\n",
       "      <th>7</th>\n",
       "      <td>total_population</td>\n",
       "      <td>-1.151072</td>\n",
       "    </tr>\n",
       "    <tr>\n",
       "      <th>3</th>\n",
       "      <td>maximum_nights</td>\n",
       "      <td>1.021410</td>\n",
       "    </tr>\n",
       "    <tr>\n",
       "      <th>0</th>\n",
       "      <td>isSuperHost</td>\n",
       "      <td>2.461742</td>\n",
       "    </tr>\n",
       "    <tr>\n",
       "      <th>8</th>\n",
       "      <td>median_age</td>\n",
       "      <td>3.661267</td>\n",
       "    </tr>\n",
       "    <tr>\n",
       "      <th>4</th>\n",
       "      <td>review_scores_rating</td>\n",
       "      <td>3.751682</td>\n",
       "    </tr>\n",
       "    <tr>\n",
       "      <th>2</th>\n",
       "      <td>guests_included</td>\n",
       "      <td>16.631278</td>\n",
       "    </tr>\n",
       "    <tr>\n",
       "      <th>9</th>\n",
       "      <td>median_income</td>\n",
       "      <td>32.206499</td>\n",
       "    </tr>\n",
       "    <tr>\n",
       "      <th>1</th>\n",
       "      <td>accommodates</td>\n",
       "      <td>67.128864</td>\n",
       "    </tr>\n",
       "  </tbody>\n",
       "</table>\n",
       "</div>"
      ],
      "text/plain": [
       "                var_name  coefficient_value\n",
       "13          isActivePark         -16.849304\n",
       "12            Playground         -11.256518\n",
       "5      reviews_per_month         -10.590451\n",
       "6      isInstantBookable          -5.538456\n",
       "11              Eateries          -3.276168\n",
       "10          distance_log          -2.242293\n",
       "7       total_population          -1.151072\n",
       "3         maximum_nights           1.021410\n",
       "0            isSuperHost           2.461742\n",
       "8             median_age           3.661267\n",
       "4   review_scores_rating           3.751682\n",
       "2        guests_included          16.631278\n",
       "9          median_income          32.206499\n",
       "1           accommodates          67.128864"
      ]
     },
     "execution_count": 540,
     "metadata": {},
     "output_type": "execute_result"
    }
   ],
   "source": [
    "coefs_ridge = pd.DataFrame.from_items([('var_name', target_cols), ('coefficient_value', ridge_w.coef_)])\n",
    "coefs_ridge = coefs_ridge.sort_values(by='coefficient_value')\n",
    "coefs_ridge"
   ]
  },
  {
   "cell_type": "code",
   "execution_count": 541,
   "metadata": {
    "collapsed": false
   },
   "outputs": [
    {
     "data": {
      "text/plain": [
       "Text(0.5,0,'Parameter')"
      ]
     },
     "execution_count": 541,
     "metadata": {},
     "output_type": "execute_result"
    },
    {
     "data": {
      "image/png": "[encoded data removed]",
      "text/plain": [
       "<Figure size 1400x600 with 1 Axes>"
      ]
     },
     "metadata": {},
     "output_type": "display_data"
    }
   ],
   "source": [
    "plt.figure(figsize=(14,6))\n",
    "plt.bar(coefs_ridge.var_name, coefs_ridge.coefficient_value)\n",
    "plt.xticks(rotation=90)\n",
    "plt.title('Estimated Parameter Coefficient Values\\nFor Ridge Model with price_w_cleaning_fee dependent variable',fontsize=20)\n",
    "plt.ylabel('Parameter Coefficient Value', fontsize=14)\n",
    "plt.xlabel('Parameter', fontsize=18)"
   ]
  },
  {
   "cell_type": "code",
   "execution_count": 542,
   "metadata": {
    "collapsed": false
   },
   "outputs": [
    {
     "data": {
      "text/html": [
       "<div>\n",
       "<style>\n",
       "    .dataframe thead tr:only-child th {\n",
       "        text-align: right;\n",
       "    }\n",
       "\n",
       "    .dataframe thead th {\n",
       "        text-align: left;\n",
       "    }\n",
       "\n",
       "    .dataframe tbody tr th {\n",
       "        vertical-align: top;\n",
       "    }\n",
       "</style>\n",
       "<table border=\"1\" class=\"dataframe\">\n",
       "  <thead>\n",
       "    <tr style=\"text-align: right;\">\n",
       "      <th></th>\n",
       "      <th>var_name</th>\n",
       "      <th>coefficient_value</th>\n",
       "    </tr>\n",
       "  </thead>\n",
       "  <tbody>\n",
       "    <tr>\n",
       "      <th>13</th>\n",
       "      <td>isActivePark</td>\n",
       "      <td>-13.951506</td>\n",
       "    </tr>\n",
       "    <tr>\n",
       "      <th>12</th>\n",
       "      <td>Playground</td>\n",
       "      <td>-12.933562</td>\n",
       "    </tr>\n",
       "    <tr>\n",
       "      <th>5</th>\n",
       "      <td>reviews_per_month</td>\n",
       "      <td>-10.239638</td>\n",
       "    </tr>\n",
       "    <tr>\n",
       "      <th>6</th>\n",
       "      <td>isInstantBookable</td>\n",
       "      <td>-5.374920</td>\n",
       "    </tr>\n",
       "    <tr>\n",
       "      <th>10</th>\n",
       "      <td>distance_log</td>\n",
       "      <td>-1.825555</td>\n",
       "    </tr>\n",
       "    <tr>\n",
       "      <th>11</th>\n",
       "      <td>Eateries</td>\n",
       "      <td>-0.550505</td>\n",
       "    </tr>\n",
       "    <tr>\n",
       "      <th>7</th>\n",
       "      <td>total_population</td>\n",
       "      <td>-0.303149</td>\n",
       "    </tr>\n",
       "    <tr>\n",
       "      <th>3</th>\n",
       "      <td>maximum_nights</td>\n",
       "      <td>0.711821</td>\n",
       "    </tr>\n",
       "    <tr>\n",
       "      <th>0</th>\n",
       "      <td>isSuperHost</td>\n",
       "      <td>2.079674</td>\n",
       "    </tr>\n",
       "    <tr>\n",
       "      <th>4</th>\n",
       "      <td>review_scores_rating</td>\n",
       "      <td>3.503610</td>\n",
       "    </tr>\n",
       "    <tr>\n",
       "      <th>8</th>\n",
       "      <td>median_age</td>\n",
       "      <td>3.623260</td>\n",
       "    </tr>\n",
       "    <tr>\n",
       "      <th>2</th>\n",
       "      <td>guests_included</td>\n",
       "      <td>16.401233</td>\n",
       "    </tr>\n",
       "    <tr>\n",
       "      <th>9</th>\n",
       "      <td>median_income</td>\n",
       "      <td>32.132212</td>\n",
       "    </tr>\n",
       "    <tr>\n",
       "      <th>1</th>\n",
       "      <td>accommodates</td>\n",
       "      <td>67.232377</td>\n",
       "    </tr>\n",
       "  </tbody>\n",
       "</table>\n",
       "</div>"
      ],
      "text/plain": [
       "                var_name  coefficient_value\n",
       "13          isActivePark         -13.951506\n",
       "12            Playground         -12.933562\n",
       "5      reviews_per_month         -10.239638\n",
       "6      isInstantBookable          -5.374920\n",
       "10          distance_log          -1.825555\n",
       "11              Eateries          -0.550505\n",
       "7       total_population          -0.303149\n",
       "3         maximum_nights           0.711821\n",
       "0            isSuperHost           2.079674\n",
       "4   review_scores_rating           3.503610\n",
       "8             median_age           3.623260\n",
       "2        guests_included          16.401233\n",
       "9          median_income          32.132212\n",
       "1           accommodates          67.232377"
      ]
     },
     "execution_count": 542,
     "metadata": {},
     "output_type": "execute_result"
    }
   ],
   "source": [
    "coefs_lasso = pd.DataFrame.from_items([('var_name', target_cols), ('coefficient_value', lasso_w.coef_)])\n",
    "coefs_lasso = coefs_lasso.sort_values(by='coefficient_value')\n",
    "coefs_lasso"
   ]
  },
  {
   "cell_type": "code",
   "execution_count": 544,
   "metadata": {
    "collapsed": false
   },
   "outputs": [
    {
     "data": {
      "text/plain": [
       "Text(0.5,0,'Parameter')"
      ]
     },
     "execution_count": 544,
     "metadata": {},
     "output_type": "execute_result"
    },
    {
     "data": {
      "image/png": "[encoded data removed]",
      "text/plain": [
       "<Figure size 1400x600 with 1 Axes>"
      ]
     },
     "metadata": {},
     "output_type": "display_data"
    }
   ],
   "source": [
    "plt.figure(figsize=(14,6))\n",
    "plt.bar(coefs_lasso.var_name, coefs_lasso.coefficient_value)\n",
    "plt.xticks(rotation=90)\n",
    "plt.title('Estimated Parameter Coefficient Values\\nFor Lasso Model with price_w_cleaning_fee dependent variable',fontsize=20)\n",
    "plt.ylabel('Parameter Coefficient Value', fontsize=14)\n",
    "plt.xlabel('Parameter', fontsize=18)"
   ]
  },
  {
   "cell_type": "code",
   "execution_count": null,
   "metadata": {
    "collapsed": true
   },
   "outputs": [],
   "source": []
  }
 ],
 "metadata": {
  "kernelspec": {
   "display_name": "Python 3",
   "language": "python",
   "name": "python3"
  },
  "language_info": {
   "codemirror_mode": {
    "name": "ipython",
    "version": 3
   },
   "file_extension": ".py",
   "mimetype": "text/x-python",
   "name": "python",
   "nbconvert_exporter": "python",
   "pygments_lexer": "ipython3",
   "version": "3.5.4"
  }
 },
 "nbformat": 4,
 "nbformat_minor": 2
}
